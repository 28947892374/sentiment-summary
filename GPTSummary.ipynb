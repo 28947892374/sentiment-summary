{
 "cells": [
  {
   "cell_type": "code",
   "execution_count": 1,
   "id": "f6be2e4b-6b65-46df-ab69-2600b8712734",
   "metadata": {},
   "outputs": [],
   "source": [
    "import os\n",
    "import spacy\n",
    "from openai import OpenAI\n",
    "from IPython.display import display, Markdown\n",
    "\n",
    "# Load the text file\n",
    "file_path = r'C:\\scripts\\project_2025.txt'  # Update to your file path\n",
    "with open(file_path, 'r', encoding='utf-8') as file:\n",
    "    text = file.read().lower()\n",
    "\n",
    "# Load the spaCy model\n",
    "nlp = spacy.load(\"en_core_web_sm\")\n",
    "\n",
    "def process_in_chunks(text, chunk_size=1000000):\n",
    "    \"\"\"\n",
    "    Generator function to process the given text in chunks with spaCy.\n",
    "    Each chunk is yielded for further processing.\n",
    "    \"\"\"\n",
    "    for i in range(0, len(text), chunk_size):\n",
    "        yield nlp(text[i:i + chunk_size])\n",
    "\n",
    "def get_sentences(text):\n",
    "    \"\"\"\n",
    "    Splits the text into sentences using spaCy for more accurate sentence boundary detection.\n",
    "    \n",
    "    :param text: The text to split into sentences.\n",
    "    :return: A list of sentence strings.\n",
    "    \"\"\"\n",
    "    sentences = []\n",
    "    for doc in process_in_chunks(text):\n",
    "        sentences.extend([sentence.text.strip() for sentence in doc.sents])\n",
    "    return sentences\n",
    "\n",
    "def analyze_keyword_sentences(text, keyword):\n",
    "    sentences = get_sentences(text)\n",
    "    keyword_sentences = [sentence for sentence in sentences if keyword.lower() in sentence]\n",
    "    aggregated_text = \" \".join(keyword_sentences)\n",
    "    return aggregated_text"
   ]
  },
  {
   "cell_type": "code",
   "execution_count": 2,
   "id": "1ac0e6cb-5563-415d-aa7f-7688f6f3d628",
   "metadata": {},
   "outputs": [],
   "source": [
    "# Specify the keyword you're interested in\n",
    "keyword = \"transgender\""
   ]
  },
  {
   "cell_type": "code",
   "execution_count": 4,
   "id": "924b1383-7d7d-41e5-a090-673d2dfb8376",
   "metadata": {},
   "outputs": [
    {
     "data": {
      "text/markdown": [
       "Based on the provided keyword, transgender, here is a summary of how the keyword is portrayed in the document:\n",
       "\n",
       "The text suggests a strong critical position against policies related to transgender issues, stating that children suffer from the normalization of transgenderism. The text also criticizes the Department of Justice for allegedly forcing school districts to appease transgender extremists. It advocates for the reversal of policies allowing transgender individuals to serve in the military due to the claim of incompatibility between gender dysphoria and military service. The text also suggests the reissue of a stronger transgender national coverage determination, limiting the application of sex discrimination protections to sexual orientation and transgender status only in hiring and firing decisions. Additionally, the text proposes rescinding regulations prohibiting discrimination based on sexual orientation, gender identity, and transgender status."
      ],
      "text/plain": [
       "<IPython.core.display.Markdown object>"
      ]
     },
     "metadata": {},
     "output_type": "display_data"
    }
   ],
   "source": [
    "def summarize_text_with_gpt(aggregated_text):\n",
    "    # Set up the OpenAI client\n",
    "    client = OpenAI(api_key=os.getenv(\"OPENAI_API_KEY\"))\n",
    "\n",
    "    # Creating the chat completion\n",
    "    response = client.chat.completions.create(\n",
    "        model=\"gpt-4\",  #\"gpt-3.5-turbo\",\n",
    "        messages=[\n",
    "            {\"role\": \"system\", \"content\": \"You are assessing a certain keyword inputted by the user and the sentences surrounding that keyword.\"},\n",
    "            {\"role\": \"user\", \"content\": f\"Based on the following key word: {keyword}, summarize the text chunks: {aggregated_text}\"}\n",
    "        ]#,\n",
    "            # temperature=0.001,  # Lower for more deterministic responses\n",
    "            # # max_tokens=150,  # Adjust based on how long you want the summary to be\n",
    "            # top_p=0.001,  # Keep high for more diversity, or lower to restrict\n",
    "            # frequency_penalty=0.0,  # Adjust to discourage repetition of words\n",
    "            # presence_penalty=0.0  # Adjust to discourage repetition of topics\n",
    "    )\n",
    "\n",
    "    # Correctly accessing and returning the response's content\n",
    "    if response.choices and len(response.choices) > 0:\n",
    "        return response.choices[0].message.content.strip()\n",
    "    else:\n",
    "        return \"Unable to generate a summary.\"\n",
    "\n",
    "# Get aggregated text that contains the keyword\n",
    "aggregated_text = analyze_keyword_sentences(text, keyword)\n",
    "\n",
    "# Summarize the text\n",
    "summary = summarize_text_with_gpt(aggregated_text)\n",
    "\n",
    "# Append custom message to the summary\n",
    "formatted_summary = f\"Based on the provided keyword, {keyword}, here is a summary of how the keyword is portrayed in the document:\\n\\n{summary}\"\n",
    "\n",
    "# Display the summary\n",
    "display(Markdown(formatted_summary))"
   ]
  },
  {
   "cell_type": "code",
   "execution_count": 2,
   "id": "c63b6168-ee73-496c-a201-b5e22c499aff",
   "metadata": {},
   "outputs": [],
   "source": [
    "# Specify the keyword you're interested in\n",
    "keyword = \"woman\""
   ]
  },
  {
   "cell_type": "code",
   "execution_count": 3,
   "id": "ed236737-f1cd-4076-a0f3-bcff8555c5fa",
   "metadata": {},
   "outputs": [
    {
     "data": {
      "text/markdown": [
       "Based on the provided keyword, woman, here is a summary of how the keyword is portrayed in the document:\n",
       "\n",
       "The text discusses multiple topics that relate to women's issues, particularly in political and reproductive contexts. The author critiques the changing definition of a \"woman\" in progressive leftism, exemplified by Supreme Court Justice Ketanji Brown Jackson's testimony. The text further discusses International NGOs like Womancare Global International that are involved in performing and promoting abortions, with a notable increase in funding under President Biden's administration. The author calls for the key role of marriage being between a man and a woman in faith-based recipients of the HMRE program. Finally, the passage talks about ella, a progesterone blocker pill which can stop implantation of a recently fertilised embryo in a woman's uterus."
      ],
      "text/plain": [
       "<IPython.core.display.Markdown object>"
      ]
     },
     "metadata": {},
     "output_type": "display_data"
    }
   ],
   "source": [
    "def summarize_text_with_gpt(aggregated_text):\n",
    "    # Set up the OpenAI client\n",
    "    client = OpenAI(api_key=os.getenv(\"OPENAI_API_KEY\"))\n",
    "\n",
    "    # Creating the chat completion\n",
    "    response = client.chat.completions.create(\n",
    "        model=\"gpt-4\",  #\"gpt-3.5-turbo\",\n",
    "        messages=[\n",
    "            {\"role\": \"system\", \"content\": \"You are assessing a certain keyword inputted by the user and the sentences surrounding that keyword.\"},\n",
    "            {\"role\": \"user\", \"content\": f\"Based on the following key word: {keyword}, summarize the text chunks: {aggregated_text}\"}\n",
    "        ]#,\n",
    "            # temperature=0.001,  # Lower for more deterministic responses\n",
    "            # # max_tokens=150,  # Adjust based on how long you want the summary to be\n",
    "            # top_p=0.001,  # Keep high for more diversity, or lower to restrict\n",
    "            # frequency_penalty=0.0,  # Adjust to discourage repetition of words\n",
    "            # presence_penalty=0.0  # Adjust to discourage repetition of topics\n",
    "    )\n",
    "\n",
    "    # Correctly accessing and returning the response's content\n",
    "    if response.choices and len(response.choices) > 0:\n",
    "        return response.choices[0].message.content.strip()\n",
    "    else:\n",
    "        return \"Unable to generate a summary.\"\n",
    "\n",
    "# Get aggregated text that contains the keyword\n",
    "aggregated_text = analyze_keyword_sentences(text, keyword)\n",
    "\n",
    "# Summarize the text\n",
    "summary = summarize_text_with_gpt(aggregated_text)\n",
    "\n",
    "# Append custom message to the summary\n",
    "formatted_summary = f\"Based on the provided keyword, {keyword}, here is a summary of how the keyword is portrayed in the document:\\n\\n{summary}\"\n",
    "\n",
    "# Display the summary\n",
    "display(Markdown(formatted_summary))"
   ]
  },
  {
   "cell_type": "code",
   "execution_count": 4,
   "id": "127e782f-6f94-43e9-8298-69cf8d26c10e",
   "metadata": {},
   "outputs": [],
   "source": [
    "# Specify the keyword you're interested in\n",
    "keyword = \"woke\""
   ]
  },
  {
   "cell_type": "code",
   "execution_count": 5,
   "id": "bcfb9d2b-cbdc-43ca-8cf5-d0e845ac0af6",
   "metadata": {},
   "outputs": [
    {
     "data": {
      "text/markdown": [
       "Based on the provided keyword, woke, here is a summary of how the keyword is portrayed in the document:\n",
       "\n",
       "The text discusses the term 'woke' in the context of contemporary political and societal issues within American society. It suggests that the 'woke' agenda and its influence are widespread, encompassing governmental and educational institutions, military, commercial sectors, and non-profit organizations. Furthermore, the text criticizes the influence of woke culture as a form of totalitarian cult-like behavior. It argues that a hypothetical future conservative president should take measures to mitigate the influence of woke culture by adjusting bureaucratic operations, federal spending, and administrative operations. The author criticizes companies for succumbing to the 'woke' agenda over their workers and customers, allegedly prioritizing foreign investors' interest. Additionally, there seems to be a call for a stronger focus on traditional American values, such as patriotism and colorblindness, over the ideologically driven agenda of wokeness."
      ],
      "text/plain": [
       "<IPython.core.display.Markdown object>"
      ]
     },
     "metadata": {},
     "output_type": "display_data"
    }
   ],
   "source": [
    "def summarize_text_with_gpt(aggregated_text):\n",
    "    # Set up the OpenAI client\n",
    "    client = OpenAI(api_key=os.getenv(\"OPENAI_API_KEY\"))\n",
    "\n",
    "    # Creating the chat completion\n",
    "    response = client.chat.completions.create(\n",
    "        model=\"gpt-4\",  #\"gpt-3.5-turbo\",\n",
    "        messages=[\n",
    "            {\"role\": \"system\", \"content\": \"You are assessing a certain keyword inputted by the user and the sentences surrounding that keyword.\"},\n",
    "            {\"role\": \"user\", \"content\": f\"Based on the following key word: {keyword}, summarize the text chunks: {aggregated_text}\"}\n",
    "        ]#,\n",
    "            # temperature=0.001,  # Lower for more deterministic responses\n",
    "            # # max_tokens=150,  # Adjust based on how long you want the summary to be\n",
    "            # top_p=0.001,  # Keep high for more diversity, or lower to restrict\n",
    "            # frequency_penalty=0.0,  # Adjust to discourage repetition of words\n",
    "            # presence_penalty=0.0  # Adjust to discourage repetition of topics\n",
    "    )\n",
    "\n",
    "    # Correctly accessing and returning the response's content\n",
    "    if response.choices and len(response.choices) > 0:\n",
    "        return response.choices[0].message.content.strip()\n",
    "    else:\n",
    "        return \"Unable to generate a summary.\"\n",
    "\n",
    "# Get aggregated text that contains the keyword\n",
    "aggregated_text = analyze_keyword_sentences(text, keyword)\n",
    "\n",
    "# Summarize the text\n",
    "summary = summarize_text_with_gpt(aggregated_text)\n",
    "\n",
    "# Append custom message to the summary\n",
    "formatted_summary = f\"Based on the provided keyword, {keyword}, here is a summary of how the keyword is portrayed in the document:\\n\\n{summary}\"\n",
    "\n",
    "# Display the summary\n",
    "display(Markdown(formatted_summary))"
   ]
  },
  {
   "cell_type": "code",
   "execution_count": 6,
   "id": "75f7702d-de38-4a10-8fea-6a6a532617de",
   "metadata": {},
   "outputs": [],
   "source": [
    "# Specify the keyword you're interested in\n",
    "keyword = \"central\""
   ]
  },
  {
   "cell_type": "code",
   "execution_count": 7,
   "id": "dd07fc48-3ec6-4f0f-801c-057f9afc738a",
   "metadata": {},
   "outputs": [
    {
     "data": {
      "text/markdown": [
       "Based on the provided keyword, central, here is a summary of how the keyword is portrayed in the document:\n",
       "\n",
       "The text revolves around the topics of centralization of power and the role of central personnel agencies in the US government. It examines how the concentration of political power can be used to control and subvert existing structures, such as the family unit. The text discusses the need for a centralized process for evaluating and coordinating decisions within the government, particularly those that involve multiple departments or agencies. The concept of central agencies is further explored with the emphasis on the importance of properly managing the federal government bureaucracy. References are made to the Office of the Director of National Intelligence, Central Intelligence Agency, and other central personnel agencies. Finally, the text concludes with a call to halt the ongoing centralization of power within the federal government, which the authors believe is detrimental to the interests of the American people."
      ],
      "text/plain": [
       "<IPython.core.display.Markdown object>"
      ]
     },
     "metadata": {},
     "output_type": "display_data"
    }
   ],
   "source": [
    "def summarize_text_with_gpt(aggregated_text):\n",
    "    # Set up the OpenAI client\n",
    "    client = OpenAI(api_key=os.getenv(\"OPENAI_API_KEY\"))\n",
    "\n",
    "    # Creating the chat completion\n",
    "    response = client.chat.completions.create(\n",
    "        model=\"gpt-4\",  #\"gpt-3.5-turbo\",\n",
    "        messages=[\n",
    "            {\"role\": \"system\", \"content\": \"You are assessing a certain keyword inputted by the user and the sentences surrounding that keyword.\"},\n",
    "            {\"role\": \"user\", \"content\": f\"Based on the following key word: {keyword}, summarize the text chunks: {aggregated_text}\"}\n",
    "        ]#,\n",
    "            # temperature=0.001,  # Lower for more deterministic responses\n",
    "            # # max_tokens=150,  # Adjust based on how long you want the summary to be\n",
    "            # top_p=0.001,  # Keep high for more diversity, or lower to restrict\n",
    "            # frequency_penalty=0.0,  # Adjust to discourage repetition of words\n",
    "            # presence_penalty=0.0  # Adjust to discourage repetition of topics\n",
    "    )\n",
    "\n",
    "    # Correctly accessing and returning the response's content\n",
    "    if response.choices and len(response.choices) > 0:\n",
    "        return response.choices[0].message.content.strip()\n",
    "    else:\n",
    "        return \"Unable to generate a summary.\"\n",
    "\n",
    "# Get aggregated text that contains the keyword\n",
    "aggregated_text = analyze_keyword_sentences(text, keyword)\n",
    "\n",
    "# Summarize the text\n",
    "summary = summarize_text_with_gpt(aggregated_text)\n",
    "\n",
    "# Append custom message to the summary\n",
    "formatted_summary = f\"Based on the provided keyword, {keyword}, here is a summary of how the keyword is portrayed in the document:\\n\\n{summary}\"\n",
    "\n",
    "# Display the summary\n",
    "display(Markdown(formatted_summary))"
   ]
  },
  {
   "cell_type": "code",
   "execution_count": 9,
   "id": "bbecda7e-74d7-46b0-a90e-7dc6a0f579f6",
   "metadata": {},
   "outputs": [],
   "source": [
    "# Specify the keyword you're interested in\n",
    "keyword = \"legislative\""
   ]
  },
  {
   "cell_type": "code",
   "execution_count": 10,
   "id": "84ee3cb5-b4a0-4298-9501-7f2dfc70d73f",
   "metadata": {},
   "outputs": [
    {
     "data": {
      "text/markdown": [
       "Based on the provided keyword, legislative, here is a summary of how the keyword is portrayed in the document:\n",
       "\n",
       "The text consists of extensive discussions of the legislative aspects of various domains including the Presidential Transition Project, oversight of legislative affairs by the Office of Legislative Affairs (OLA), importance of the legislative power vested in Congress, and legislative reform endeavors. The function of OLA is emphasized as the liaison between the White House and Congress. There is also substantial emphasis on the role of a conservative president in looking to the legislative branch for decisive action, and the need to align the executive branch on legislative proposals and language. Multiple legislative proposals and reforms across different sectors, such as housing, healthcare, education, agriculture, and technology are advocated. These reforms range from policy changes, regulatory modifications, to transparency and accountability in processes. The next administration is encouraged to coordinate with Congress on these legislative changes to efficiently implement their agenda. Additionally, consolidation of offices into one for efficiency is suggested, specifically the OLA and the office of public affairs."
      ],
      "text/plain": [
       "<IPython.core.display.Markdown object>"
      ]
     },
     "metadata": {},
     "output_type": "display_data"
    }
   ],
   "source": [
    "def summarize_text_with_gpt(aggregated_text):\n",
    "    # Set up the OpenAI client\n",
    "    client = OpenAI(api_key=os.getenv(\"OPENAI_API_KEY\"))\n",
    "\n",
    "    # Creating the chat completion\n",
    "    response = client.chat.completions.create(\n",
    "        model=\"gpt-4\",  #\"gpt-3.5-turbo\",\n",
    "        messages=[\n",
    "            {\"role\": \"system\", \"content\": \"You are assessing a certain keyword inputted by the user and the sentences surrounding that keyword.\"},\n",
    "            {\"role\": \"user\", \"content\": f\"Based on the following key word: {keyword}, summarize the text chunks: {aggregated_text}\"}\n",
    "        ]#,\n",
    "            # temperature=0.001,  # Lower for more deterministic responses\n",
    "            # # max_tokens=150,  # Adjust based on how long you want the summary to be\n",
    "            # top_p=0.001,  # Keep high for more diversity, or lower to restrict\n",
    "            # frequency_penalty=0.0,  # Adjust to discourage repetition of words\n",
    "            # presence_penalty=0.0  # Adjust to discourage repetition of topics\n",
    "    )\n",
    "\n",
    "    # Correctly accessing and returning the response's content\n",
    "    if response.choices and len(response.choices) > 0:\n",
    "        return response.choices[0].message.content.strip()\n",
    "    else:\n",
    "        return \"Unable to generate a summary.\"\n",
    "\n",
    "# Get aggregated text that contains the keyword\n",
    "aggregated_text = analyze_keyword_sentences(text, keyword)\n",
    "\n",
    "# Summarize the text\n",
    "summary = summarize_text_with_gpt(aggregated_text)\n",
    "\n",
    "# Append custom message to the summary\n",
    "formatted_summary = f\"Based on the provided keyword, {keyword}, here is a summary of how the keyword is portrayed in the document:\\n\\n{summary}\"\n",
    "\n",
    "# Display the summary\n",
    "display(Markdown(formatted_summary))"
   ]
  },
  {
   "cell_type": "code",
   "execution_count": 11,
   "id": "c9ed9615-f58f-4cd5-b16e-6cbed39b9e8a",
   "metadata": {},
   "outputs": [],
   "source": [
    "# Specify the keyword you're interested in\n",
    "keyword = \"consolidat\""
   ]
  },
  {
   "cell_type": "code",
   "execution_count": 12,
   "id": "32c98575-b885-4ae0-ac2d-cca2a2e86fbe",
   "metadata": {},
   "outputs": [
    {
     "data": {
      "text/markdown": [
       "Based on the provided keyword, consolidat, here is a summary of how the keyword is portrayed in the document:\n",
       "\n",
       "The text discusses multiple initiatives for consolidation across various sectors and bodies. The NSC staff is suggested to consolidate the functions of NSC and HSC, incorporating the office of the national cyber director. Proposals for consolidating functions in the immigration system into one agency are also suggested. The DHS's external communications function is proposed to merge for effective implementation of the president's agenda. Proposals to consolidate foreign assistance authorities and broadcasting resources are mentioned for enhanced efficiency. The text suggests consolidating and reducing redundant services in USAGM. The Trump administration's consolidation of State Department bureaus is highlighted. The text suggests consolidating immigration agencies, education data collection, federal loan programs, and science programs at DOE. The EPA is recommended to consolidate and allocate resources for high-value opportunities. It is suggested that functions of DOJ's various components and offices be consolidated. The consolidation of federal economic development grant programs and statistical agencies is recommended. The text also proposes consolidating the advocacy center and SelectUSA. The financial regulatory system and regulatory agencies are recommended for restructuring to improve efficiency and transparency. The text suggests preempting blue sky registration and other security trade requirements. Consolidation is proposed for consumer financial law implementation. FCC is suggested to consolidate its approach towards big tech."
      ],
      "text/plain": [
       "<IPython.core.display.Markdown object>"
      ]
     },
     "metadata": {},
     "output_type": "display_data"
    }
   ],
   "source": [
    "def summarize_text_with_gpt(aggregated_text):\n",
    "    # Set up the OpenAI client\n",
    "    client = OpenAI(api_key=os.getenv(\"OPENAI_API_KEY\"))\n",
    "\n",
    "    # Creating the chat completion\n",
    "    response = client.chat.completions.create(\n",
    "        model=\"gpt-4\",  #\"gpt-3.5-turbo\",\n",
    "        messages=[\n",
    "            {\"role\": \"system\", \"content\": \"You are assessing a certain keyword inputted by the user and the sentences surrounding that keyword.\"},\n",
    "            {\"role\": \"user\", \"content\": f\"Based on the following key word: {keyword}, summarize the text chunks: {aggregated_text}\"}\n",
    "        ]#,\n",
    "            # temperature=0.001,  # Lower for more deterministic responses\n",
    "            # # max_tokens=150,  # Adjust based on how long you want the summary to be\n",
    "            # top_p=0.001,  # Keep high for more diversity, or lower to restrict\n",
    "            # frequency_penalty=0.0,  # Adjust to discourage repetition of words\n",
    "            # presence_penalty=0.0  # Adjust to discourage repetition of topics\n",
    "    )\n",
    "\n",
    "    # Correctly accessing and returning the response's content\n",
    "    if response.choices and len(response.choices) > 0:\n",
    "        return response.choices[0].message.content.strip()\n",
    "    else:\n",
    "        return \"Unable to generate a summary.\"\n",
    "\n",
    "# Get aggregated text that contains the keyword\n",
    "aggregated_text = analyze_keyword_sentences(text, keyword)\n",
    "\n",
    "# Summarize the text\n",
    "summary = summarize_text_with_gpt(aggregated_text)\n",
    "\n",
    "# Append custom message to the summary\n",
    "formatted_summary = f\"Based on the provided keyword, {keyword}, here is a summary of how the keyword is portrayed in the document:\\n\\n{summary}\"\n",
    "\n",
    "# Display the summary\n",
    "display(Markdown(formatted_summary))"
   ]
  },
  {
   "cell_type": "code",
   "execution_count": 13,
   "id": "1aaf6a86-28f8-4dde-8d83-55696883b249",
   "metadata": {},
   "outputs": [],
   "source": [
    "# Specify the keyword you're interested in\n",
    "keyword = \"align\""
   ]
  },
  {
   "cell_type": "code",
   "execution_count": 14,
   "id": "5b677b1c-a581-4653-af3a-faf3ebc65057",
   "metadata": {},
   "outputs": [
    {
     "data": {
      "text/markdown": [
       "Based on the provided keyword, align, here is a summary of how the keyword is portrayed in the document:\n",
       "\n",
       "The keyword \"align\" is featured in discussions about assembling a team of conservatives to dismantle bureaucracy and realign government institutions according to conservative values and objectives. It mentions the importance of having federal employees, policy councils, and national security staff align with the president's agenda and conservatism in order to effectively implement policies and meet national security goals. Several government departments and agencies - including a future conservative Justice Department, Federal Reserve, Federal Communications Commission, and Consumer Financial Protection Bureau - should align their missions, policies, resources, and personnel with a conservative leadership and its priorities. The alignment implied in the text involves a more efficient use of resources, better collaboration between agencies, and a unified direction toward the president's goals. Alignment also refers to reforms including labor and civil service, immigrational law enforcement, trade violations, politically-oriented appointments, environmental regulations, energy dominance as a foreign policy component, and alignment of foreign assistance with national interests. Misalignment, particularly in areas such as ideology and policy execution, is identified as a significant challenge to effective governance."
      ],
      "text/plain": [
       "<IPython.core.display.Markdown object>"
      ]
     },
     "metadata": {},
     "output_type": "display_data"
    }
   ],
   "source": [
    "def summarize_text_with_gpt(aggregated_text):\n",
    "    # Set up the OpenAI client\n",
    "    client = OpenAI(api_key=os.getenv(\"OPENAI_API_KEY\"))\n",
    "\n",
    "    # Creating the chat completion\n",
    "    response = client.chat.completions.create(\n",
    "        model=\"gpt-4\",  #\"gpt-3.5-turbo\",\n",
    "        messages=[\n",
    "            {\"role\": \"system\", \"content\": \"You are assessing a certain keyword inputted by the user and the sentences surrounding that keyword.\"},\n",
    "            {\"role\": \"user\", \"content\": f\"Based on the following key word: {keyword}, summarize the text chunks: {aggregated_text}\"}\n",
    "        ]#,\n",
    "            # temperature=0.001,  # Lower for more deterministic responses\n",
    "            # # max_tokens=150,  # Adjust based on how long you want the summary to be\n",
    "            # top_p=0.001,  # Keep high for more diversity, or lower to restrict\n",
    "            # frequency_penalty=0.0,  # Adjust to discourage repetition of words\n",
    "            # presence_penalty=0.0  # Adjust to discourage repetition of topics\n",
    "    )\n",
    "\n",
    "    # Correctly accessing and returning the response's content\n",
    "    if response.choices and len(response.choices) > 0:\n",
    "        return response.choices[0].message.content.strip()\n",
    "    else:\n",
    "        return \"Unable to generate a summary.\"\n",
    "\n",
    "# Get aggregated text that contains the keyword\n",
    "aggregated_text = analyze_keyword_sentences(text, keyword)\n",
    "\n",
    "# Summarize the text\n",
    "summary = summarize_text_with_gpt(aggregated_text)\n",
    "\n",
    "# Append custom message to the summary\n",
    "formatted_summary = f\"Based on the provided keyword, {keyword}, here is a summary of how the keyword is portrayed in the document:\\n\\n{summary}\"\n",
    "\n",
    "# Display the summary\n",
    "display(Markdown(formatted_summary))"
   ]
  }
 ],
 "metadata": {
  "kernelspec": {
   "display_name": "Python 3 (ipykernel)",
   "language": "python",
   "name": "python3"
  },
  "language_info": {
   "codemirror_mode": {
    "name": "ipython",
    "version": 3
   },
   "file_extension": ".py",
   "mimetype": "text/x-python",
   "name": "python",
   "nbconvert_exporter": "python",
   "pygments_lexer": "ipython3",
   "version": "3.11.7"
  }
 },
 "nbformat": 4,
 "nbformat_minor": 5
}
