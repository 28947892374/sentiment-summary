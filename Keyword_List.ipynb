{
 "cells": [
  {
   "cell_type": "markdown",
   "id": "b3c19174-5998-49e0-9793-d786c60ad254",
   "metadata": {},
   "source": [
    "# Keyword List & Sentiments\n",
    "**DistilBERT Sentiment Analysis**: Process text in chunks with `spaCy` and use `distilbert-base-uncased-finetuned-sst-2-english` for sentiment analysis, providing a sentiment overview of each of the mentions of selected text."
   ]
  },
  {
   "cell_type": "code",
   "execution_count": 3,
   "id": "a1b95160-5571-4638-99d8-b55d666b33d3",
   "metadata": {},
   "outputs": [],
   "source": [
    "# Load the text file\n",
    "with open(r'extracted_text3.txt', 'r', encoding='utf-8') as file:\n",
    "    text = file.read().lower()\n",
    "\n",
    "import spacy\n",
    "\n",
    "# Load the spaCy model\n",
    "nlp = spacy.load(\"en_core_web_sm\")\n",
    "\n",
    "def process_in_chunks(text, chunk_size=1000000):\n",
    "    \"\"\"\n",
    "    Generator function to process the given text in chunks with spaCy.\n",
    "    Each chunk is yielded for further processing.\n",
    "    \"\"\"\n",
    "    for i in range(0, len(text), chunk_size):\n",
    "        yield nlp(text[i:i + chunk_size])\n",
    "\n",
    "from transformers import pipeline\n",
    "\n",
    "# Specify the model for sentiment analysis\n",
    "sentiment_pipeline = pipeline(\"sentiment-analysis\", model=\"distilbert/distilbert-base-uncased-finetuned-sst-2-english\")\n",
    "\n",
    "def analyze_sentiment(text):\n",
    "    # Perform sentiment analysis\n",
    "    result = sentiment_pipeline(text)\n",
    "    return result\n",
    "\n",
    "from IPython.display import display, Markdown\n",
    "import re\n",
    "\n",
    "def find_keyword_and_analyze_context(doc, keyword):\n",
    "    i = 0\n",
    "    for sent in doc.sents:\n",
    "        if keyword.lower() in sent.text.lower():\n",
    "            # Bold the keyword in the sentence.\n",
    "            highlighted_text = re.sub(f'({keyword})', r'**\\1**', sent.text, flags=re.IGNORECASE)\n",
    "\n",
    "            # Analyze the sentiment of the context\n",
    "            sentiment_results = analyze_sentiment(sent.text)  # This may return a list of results\n",
    "            \n",
    "            # Assuming the first result in the list is the one we want\n",
    "            if sentiment_results:\n",
    "                sentiment_result = sentiment_results[0]  # Access the first result\n",
    "                i += 1\n",
    "                # Display the context and sentiment analysis result\n",
    "                display(Markdown(f\"{i}. Keyword found in: {highlighted_text}\"))\n",
    "                sentiment_label = sentiment_result.get('label', 'UNKNOWN')\n",
    "                sentiment_score = sentiment_result.get('score', 0)\n",
    "                display(Markdown(f\"Sentiment of the context: {sentiment_label} (Score: {sentiment_score:.2f})\"))\n",
    "                display(Markdown(\"---\"))"
   ]
  },
  {
   "cell_type": "code",
   "execution_count": 2,
   "id": "74f4c075-9739-466e-bfef-abf21f19904c",
   "metadata": {},
   "outputs": [
    {
     "data": {
      "text/markdown": [
       "1. Keyword found in: look at america under the ruling \n",
       "and cultural elite today: inflation is ravaging family budgets, drug overdose deaths \n",
       "continue to escalate, and children suffer the toxic normalization of **transgender**-\n",
       "ism with drag queens and pornography invading their school libraries."
      ],
      "text/plain": [
       "<IPython.core.display.Markdown object>"
      ]
     },
     "metadata": {},
     "output_type": "display_data"
    },
    {
     "data": {
      "text/markdown": [
       "Sentiment of the context: NEGATIVE (Score: 0.85)"
      ],
      "text/plain": [
       "<IPython.core.display.Markdown object>"
      ]
     },
     "metadata": {},
     "output_type": "display_data"
    },
    {
     "data": {
      "text/markdown": [
       "---"
      ],
      "text/plain": [
       "<IPython.core.display.Markdown object>"
      ]
     },
     "metadata": {},
     "output_type": "display_data"
    },
    {
     "data": {
      "text/markdown": [
       "2. Keyword found in: pornography, manifested today in the omnipresent propagation of **transgender** \n",
       "ideology and sexualization of children, for instance, is not a political gordian knot \n",
       "inextricably binding up disparate claims about free speech, property rights, sexual \n",
       "liberation, and child welfare."
      ],
      "text/plain": [
       "<IPython.core.display.Markdown object>"
      ]
     },
     "metadata": {},
     "output_type": "display_data"
    },
    {
     "data": {
      "text/markdown": [
       "Sentiment of the context: NEGATIVE (Score: 0.99)"
      ],
      "text/plain": [
       "<IPython.core.display.Markdown object>"
      ]
     },
     "metadata": {},
     "output_type": "display_data"
    },
    {
     "data": {
      "text/markdown": [
       "---"
      ],
      "text/plain": [
       "<IPython.core.display.Markdown object>"
      ]
     },
     "metadata": {},
     "output_type": "display_data"
    },
    {
     "data": {
      "text/markdown": [
       "3. Keyword found in: l a combination of elected and unelected bureaucrats at the environmental \n",
       "protection agency quietly strangles domestic energy production through \n",
       "difficult-to-understand rulemaking processes;\n",
       "\n",
       "— 7 —\n",
       "\n",
       "2025 presidential transition project \n",
       "\f",
       " l\n",
       "\n",
       " l\n",
       "\n",
       " l\n",
       "\n",
       "bureaucrats at the department of homeland security, following the lead \n",
       "of a feckless administration, order border and immigration enforcement \n",
       "agencies to help migrants criminally enter our country with impunity;\n",
       "\n",
       "bureaucrats at the department of education inject racist, anti-american, \n",
       "ahistorical propaganda into america’s classrooms;\n",
       "\n",
       "bureaucrats at the department of justice force school districts to \n",
       "undermine girls’ sports and parents’ rights to satisfy **transgender** extremists;\n",
       "\n",
       " l woke bureaucrats at the pentagon force troops to attend “training” \n",
       "\n",
       "seminars about “white privilege”; and\n",
       "\n",
       " l\n",
       "\n",
       "bureaucrats at the state department infuse u.s. foreign aid programs with \n",
       "woke extremism about “intersectionality” and abortion.3\n",
       "\n",
       "unaccountable federal spending is the secret lifeblood of the great awokening. \n"
      ],
      "text/plain": [
       "<IPython.core.display.Markdown object>"
      ]
     },
     "metadata": {},
     "output_type": "display_data"
    },
    {
     "data": {
      "text/markdown": [
       "Sentiment of the context: NEGATIVE (Score: 0.99)"
      ],
      "text/plain": [
       "<IPython.core.display.Markdown object>"
      ]
     },
     "metadata": {},
     "output_type": "display_data"
    },
    {
     "data": {
      "text/markdown": [
       "---"
      ],
      "text/plain": [
       "<IPython.core.display.Markdown object>"
      ]
     },
     "metadata": {},
     "output_type": "display_data"
    },
    {
     "data": {
      "text/markdown": [
       "4. Keyword found in: 7.  reverse policies that allow **transgender** individuals to serve in the \n",
       "\n",
       "military."
      ],
      "text/plain": [
       "<IPython.core.display.Markdown object>"
      ]
     },
     "metadata": {},
     "output_type": "display_data"
    },
    {
     "data": {
      "text/markdown": [
       "Sentiment of the context: NEGATIVE (Score: 0.99)"
      ],
      "text/plain": [
       "<IPython.core.display.Markdown object>"
      ]
     },
     "metadata": {},
     "output_type": "display_data"
    },
    {
     "data": {
      "text/markdown": [
       "---"
      ],
      "text/plain": [
       "<IPython.core.display.Markdown object>"
      ]
     },
     "metadata": {},
     "output_type": "display_data"
    },
    {
     "data": {
      "text/markdown": [
       "5. Keyword found in: gender dysphoria is incompatible with the demands of military \n",
       "service, and the use of public monies for **transgender** surgeries or to \n",
       "facilitate abortion for servicemembers should be ended.\n",
       "\n",
       " "
      ],
      "text/plain": [
       "<IPython.core.display.Markdown object>"
      ]
     },
     "metadata": {},
     "output_type": "display_data"
    },
    {
     "data": {
      "text/markdown": [
       "Sentiment of the context: NEGATIVE (Score: 1.00)"
      ],
      "text/plain": [
       "<IPython.core.display.Markdown object>"
      ]
     },
     "metadata": {},
     "output_type": "display_data"
    },
    {
     "data": {
      "text/markdown": [
       "---"
      ],
      "text/plain": [
       "<IPython.core.display.Markdown object>"
      ]
     },
     "metadata": {},
     "output_type": "display_data"
    },
    {
     "data": {
      "text/markdown": [
       "1. Keyword found in: l reissue a stronger **transgender** national coverage determination. \n"
      ],
      "text/plain": [
       "<IPython.core.display.Markdown object>"
      ]
     },
     "metadata": {},
     "output_type": "display_data"
    },
    {
     "data": {
      "text/markdown": [
       "Sentiment of the context: POSITIVE (Score: 0.98)"
      ],
      "text/plain": [
       "<IPython.core.display.Markdown object>"
      ]
     },
     "metadata": {},
     "output_type": "display_data"
    },
    {
     "data": {
      "text/markdown": [
       "---"
      ],
      "text/plain": [
       "<IPython.core.display.Markdown object>"
      ]
     },
     "metadata": {},
     "output_type": "display_data"
    },
    {
     "data": {
      "text/markdown": [
       "2. Keyword found in: bostock held that “an employer who fires someone simply for being homosexual \n",
       "or **transgender**” violates title vii’s prohibition against sex discrimination."
      ],
      "text/plain": [
       "<IPython.core.display.Markdown object>"
      ]
     },
     "metadata": {},
     "output_type": "display_data"
    },
    {
     "data": {
      "text/markdown": [
       "Sentiment of the context: NEGATIVE (Score: 0.92)"
      ],
      "text/plain": [
       "<IPython.core.display.Markdown object>"
      ]
     },
     "metadata": {},
     "output_type": "display_data"
    },
    {
     "data": {
      "text/markdown": [
       "---"
      ],
      "text/plain": [
       "<IPython.core.display.Markdown object>"
      ]
     },
     "metadata": {},
     "output_type": "display_data"
    },
    {
     "data": {
      "text/markdown": [
       "3. Keyword found in: notably, the court \n",
       "focused on the status of the employees and used the term “**transgender** status” \n",
       "rather than the broader and amorphous term “gender identity.”\n",
       "\n",
       " "
      ],
      "text/plain": [
       "<IPython.core.display.Markdown object>"
      ]
     },
     "metadata": {},
     "output_type": "display_data"
    },
    {
     "data": {
      "text/markdown": [
       "Sentiment of the context: NEGATIVE (Score: 0.71)"
      ],
      "text/plain": [
       "<IPython.core.display.Markdown object>"
      ]
     },
     "metadata": {},
     "output_type": "display_data"
    },
    {
     "data": {
      "text/markdown": [
       "---"
      ],
      "text/plain": [
       "<IPython.core.display.Markdown object>"
      ]
     },
     "metadata": {},
     "output_type": "display_data"
    },
    {
     "data": {
      "text/markdown": [
       "4. Keyword found in: the new administration should \n",
       "restrict bostock’s application of sex discrimination protections to sexual \n",
       "orientation and **transgender** status in the context of hiring and firing.\n",
       "\n",
       " "
      ],
      "text/plain": [
       "<IPython.core.display.Markdown object>"
      ]
     },
     "metadata": {},
     "output_type": "display_data"
    },
    {
     "data": {
      "text/markdown": [
       "Sentiment of the context: NEGATIVE (Score: 1.00)"
      ],
      "text/plain": [
       "<IPython.core.display.Markdown object>"
      ]
     },
     "metadata": {},
     "output_type": "display_data"
    },
    {
     "data": {
      "text/markdown": [
       "---"
      ],
      "text/plain": [
       "<IPython.core.display.Markdown object>"
      ]
     },
     "metadata": {},
     "output_type": "display_data"
    },
    {
     "data": {
      "text/markdown": [
       "5. Keyword found in: the president should \n",
       "\n",
       "direct agencies to withdraw unlawful “notices” and “guidances” purporting \n",
       "to apply bostock’s reasoning broadly outside hiring and firing.\n",
       "\n",
       " l rescind regulations prohibiting discrimination on the basis \n",
       "\n",
       "of sexual orientation, gender identity, **transgender** status, and \n",
       "sex characteristics."
      ],
      "text/plain": [
       "<IPython.core.display.Markdown object>"
      ]
     },
     "metadata": {},
     "output_type": "display_data"
    },
    {
     "data": {
      "text/markdown": [
       "Sentiment of the context: NEGATIVE (Score: 0.97)"
      ],
      "text/plain": [
       "<IPython.core.display.Markdown object>"
      ]
     },
     "metadata": {},
     "output_type": "display_data"
    },
    {
     "data": {
      "text/markdown": [
       "---"
      ],
      "text/plain": [
       "<IPython.core.display.Markdown object>"
      ]
     },
     "metadata": {},
     "output_type": "display_data"
    },
    {
     "data": {
      "text/markdown": [
       "6. Keyword found in: the president should direct agencies to rescind \n",
       "regulations interpreting sex discrimination provisions as prohibiting \n",
       "discrimination on the basis of sexual orientation, gender identity, \n",
       "**transgender** status, sex characteristics, etc.\n",
       "\n",
       "— 584 —\n",
       "\n",
       "mandate for leadership: the conservative promise \n",
       "\f",
       " l direct agencies to refocus enforcement of sex discrimination laws. \n"
      ],
      "text/plain": [
       "<IPython.core.display.Markdown object>"
      ]
     },
     "metadata": {},
     "output_type": "display_data"
    },
    {
     "data": {
      "text/markdown": [
       "Sentiment of the context: NEGATIVE (Score: 0.93)"
      ],
      "text/plain": [
       "<IPython.core.display.Markdown object>"
      ]
     },
     "metadata": {},
     "output_type": "display_data"
    },
    {
     "data": {
      "text/markdown": [
       "---"
      ],
      "text/plain": [
       "<IPython.core.display.Markdown object>"
      ]
     },
     "metadata": {},
     "output_type": "display_data"
    }
   ],
   "source": [
    "# Insert your keyword here to get a list of the context of the word and what the sentiment of the keyword context is\n",
    "keyword = \"transgender\"\n",
    "\n",
    "for chunk in process_in_chunks(text):\n",
    "    find_keyword_and_analyze_context(chunk, keyword)"
   ]
  },
  {
   "cell_type": "code",
   "execution_count": 4,
   "id": "3928a7c1-3a5d-47e9-a5ee-d4effa8980f3",
   "metadata": {},
   "outputs": [
    {
     "data": {
      "text/markdown": [
       "1. Keyword found in: as evidenced by the \n",
       "confirmation testimony of now-associate justice ketanji brown jackson, the \n",
       "progressive left has so misused and altered the definition of what a “**woman**” is \n",
       "that one of our u.s. supreme court justices was unable to delineate clearly the \n",
       "fundamental biological and sexual traits that define the group of which she is a \n",
       "part."
      ],
      "text/plain": [
       "<IPython.core.display.Markdown object>"
      ]
     },
     "metadata": {},
     "output_type": "display_data"
    },
    {
     "data": {
      "text/markdown": [
       "Sentiment of the context: NEGATIVE (Score: 0.99)"
      ],
      "text/plain": [
       "<IPython.core.display.Markdown object>"
      ]
     },
     "metadata": {},
     "output_type": "display_data"
    },
    {
     "data": {
      "text/markdown": [
       "---"
      ],
      "text/plain": [
       "<IPython.core.display.Markdown object>"
      ]
     },
     "metadata": {},
     "output_type": "display_data"
    },
    {
     "data": {
      "text/markdown": [
       "2. Keyword found in: international ngos that perform and promote abortions \n",
       "overseas like population services international, pathfinder, path, the population \n",
       "council, engenderhealth, and **woman**care global international continued to \n",
       "receive funding from usaid under plgha and now, under biden, receive tens \n",
       "of millions more in u.s. taxpayer dollars in foreign assistance annually without \n",
       "any oversight."
      ],
      "text/plain": [
       "<IPython.core.display.Markdown object>"
      ]
     },
     "metadata": {},
     "output_type": "display_data"
    },
    {
     "data": {
      "text/markdown": [
       "Sentiment of the context: NEGATIVE (Score: 0.95)"
      ],
      "text/plain": [
       "<IPython.core.display.Markdown object>"
      ]
     },
     "metadata": {},
     "output_type": "display_data"
    },
    {
     "data": {
      "text/markdown": [
       "---"
      ],
      "text/plain": [
       "<IPython.core.display.Markdown object>"
      ]
     },
     "metadata": {},
     "output_type": "display_data"
    },
    {
     "data": {
      "text/markdown": [
       "1. Keyword found in: despite recent congressional bills like the \n",
       "respect for marriage act that redefine marriage to be the union between \n",
       "any two individuals, hmre program grants should be available to faith-\n",
       "based recipients who affirm that marriage is between not just any two adults, \n",
       "but one man and one unrelated **woman**.\n",
       "\n"
      ],
      "text/plain": [
       "<IPython.core.display.Markdown object>"
      ]
     },
     "metadata": {},
     "output_type": "display_data"
    },
    {
     "data": {
      "text/markdown": [
       "Sentiment of the context: NEGATIVE (Score: 0.87)"
      ],
      "text/plain": [
       "<IPython.core.display.Markdown object>"
      ]
     },
     "metadata": {},
     "output_type": "display_data"
    },
    {
     "data": {
      "text/markdown": [
       "---"
      ],
      "text/plain": [
       "<IPython.core.display.Markdown object>"
      ]
     },
     "metadata": {},
     "output_type": "display_data"
    },
    {
     "data": {
      "text/markdown": [
       "2. Keyword found in: like its close cousin, the abortion pill mifepristone, ella is a progesterone \n",
       "blocker and can prevent a recently fertilized embryo from implanting in a \n",
       "**woman**’s uterus."
      ],
      "text/plain": [
       "<IPython.core.display.Markdown object>"
      ]
     },
     "metadata": {},
     "output_type": "display_data"
    },
    {
     "data": {
      "text/markdown": [
       "Sentiment of the context: NEGATIVE (Score: 0.81)"
      ],
      "text/plain": [
       "<IPython.core.display.Markdown object>"
      ]
     },
     "metadata": {},
     "output_type": "display_data"
    },
    {
     "data": {
      "text/markdown": [
       "---"
      ],
      "text/plain": [
       "<IPython.core.display.Markdown object>"
      ]
     },
     "metadata": {},
     "output_type": "display_data"
    }
   ],
   "source": [
    "# Insert your keyword here to get a list of the context of the word and what the sentiment of the keyword context is\n",
    "keyword = \"woman\"\n",
    "\n",
    "for chunk in process_in_chunks(text):\n",
    "    find_keyword_and_analyze_context(chunk, keyword)"
   ]
  },
  {
   "cell_type": "code",
   "execution_count": 6,
   "id": "9d2e2772-bd00-4f59-a795-d4f079e1e620",
   "metadata": {},
   "outputs": [
    {
     "data": {
      "text/markdown": [
       "1. Keyword found in: contemporary elites have even repurposed the worst ingredients of 1970s “radical \n",
       "chic” to build the totalitarian cult known today as “the great a**woke**ning.”"
      ],
      "text/plain": [
       "<IPython.core.display.Markdown object>"
      ]
     },
     "metadata": {},
     "output_type": "display_data"
    },
    {
     "data": {
      "text/markdown": [
       "Sentiment of the context: NEGATIVE (Score: 1.00)"
      ],
      "text/plain": [
       "<IPython.core.display.Markdown object>"
      ]
     },
     "metadata": {},
     "output_type": "display_data"
    },
    {
     "data": {
      "text/markdown": [
       "---"
      ],
      "text/plain": [
       "<IPython.core.display.Markdown object>"
      ]
     },
     "metadata": {},
     "output_type": "display_data"
    },
    {
     "data": {
      "text/markdown": [
       "2. Keyword found in: today the left is threatening the tax-exempt status of churches and charities \n",
       "that reject **woke** progressivism."
      ],
      "text/plain": [
       "<IPython.core.display.Markdown object>"
      ]
     },
     "metadata": {},
     "output_type": "display_data"
    },
    {
     "data": {
      "text/markdown": [
       "Sentiment of the context: NEGATIVE (Score: 1.00)"
      ],
      "text/plain": [
       "<IPython.core.display.Markdown object>"
      ]
     },
     "metadata": {},
     "output_type": "display_data"
    },
    {
     "data": {
      "text/markdown": [
       "---"
      ],
      "text/plain": [
       "<IPython.core.display.Markdown object>"
      ]
     },
     "metadata": {},
     "output_type": "display_data"
    },
    {
     "data": {
      "text/markdown": [
       "3. Keyword found in: the next conservative president must make the institutions of american civil \n",
       "society hard targets for **woke** culture warriors."
      ],
      "text/plain": [
       "<IPython.core.display.Markdown object>"
      ]
     },
     "metadata": {},
     "output_type": "display_data"
    },
    {
     "data": {
      "text/markdown": [
       "Sentiment of the context: NEGATIVE (Score: 0.99)"
      ],
      "text/plain": [
       "<IPython.core.display.Markdown object>"
      ]
     },
     "metadata": {},
     "output_type": "display_data"
    },
    {
     "data": {
      "text/markdown": [
       "---"
      ],
      "text/plain": [
       "<IPython.core.display.Markdown object>"
      ]
     },
     "metadata": {},
     "output_type": "display_data"
    },
    {
     "data": {
      "text/markdown": [
       "4. Keyword found in: l a combination of elected and unelected bureaucrats at the environmental \n",
       "protection agency quietly strangles domestic energy production through \n",
       "difficult-to-understand rulemaking processes;\n",
       "\n",
       "— 7 —\n",
       "\n",
       "2025 presidential transition project \n",
       "\f",
       " l\n",
       "\n",
       " l\n",
       "\n",
       " l\n",
       "\n",
       "bureaucrats at the department of homeland security, following the lead \n",
       "of a feckless administration, order border and immigration enforcement \n",
       "agencies to help migrants criminally enter our country with impunity;\n",
       "\n",
       "bureaucrats at the department of education inject racist, anti-american, \n",
       "ahistorical propaganda into america’s classrooms;\n",
       "\n",
       "bureaucrats at the department of justice force school districts to \n",
       "undermine girls’ sports and parents’ rights to satisfy transgender extremists;\n",
       "\n",
       " l **woke** bureaucrats at the pentagon force troops to attend “training” \n",
       "\n",
       "seminars about “white privilege”; and\n",
       "\n",
       " l\n",
       "\n",
       "bureaucrats at the state department infuse u.s. foreign aid programs with \n",
       "**woke** extremism about “intersectionality” and abortion.3\n",
       "\n",
       "unaccountable federal spending is the secret lifeblood of the great a**woke**ning. \n"
      ],
      "text/plain": [
       "<IPython.core.display.Markdown object>"
      ]
     },
     "metadata": {},
     "output_type": "display_data"
    },
    {
     "data": {
      "text/markdown": [
       "Sentiment of the context: NEGATIVE (Score: 0.99)"
      ],
      "text/plain": [
       "<IPython.core.display.Markdown object>"
      ]
     },
     "metadata": {},
     "output_type": "display_data"
    },
    {
     "data": {
      "text/markdown": [
       "---"
      ],
      "text/plain": [
       "<IPython.core.display.Markdown object>"
      ]
     },
     "metadata": {},
     "output_type": "display_data"
    },
    {
     "data": {
      "text/markdown": [
       "5. Keyword found in: but in the meantime, there are \n",
       "many executive tools a courageous conservative president can use to handcuff the \n",
       "bureaucracy, push congress to return to its constitutional responsibility, restore \n",
       "power over washington to the american people, bring the administrative state \n",
       "to heel, and in the process defang and defund the **woke** culture warriors who have \n",
       "infiltrated every last institution in america.\n",
       "\n"
      ],
      "text/plain": [
       "<IPython.core.display.Markdown object>"
      ]
     },
     "metadata": {},
     "output_type": "display_data"
    },
    {
     "data": {
      "text/markdown": [
       "Sentiment of the context: POSITIVE (Score: 0.98)"
      ],
      "text/plain": [
       "<IPython.core.display.Markdown object>"
      ]
     },
     "metadata": {},
     "output_type": "display_data"
    },
    {
     "data": {
      "text/markdown": [
       "---"
      ],
      "text/plain": [
       "<IPython.core.display.Markdown object>"
      ]
     },
     "metadata": {},
     "output_type": "display_data"
    },
    {
     "data": {
      "text/markdown": [
       "6. Keyword found in: the conservative promise lays out how to use many of these tools including: \n",
       "how to fire supposedly “un-fireable” federal bureaucrats; how to shutter wasteful \n",
       "and corrupt bureaus and offices; how to muzzle **woke** propaganda at every level of \n",
       "government; how to restore the american people’s constitutional authority over \n",
       "the administrative state; and how to save untold taxpayer dollars in the process.\n"
      ],
      "text/plain": [
       "<IPython.core.display.Markdown object>"
      ]
     },
     "metadata": {},
     "output_type": "display_data"
    },
    {
     "data": {
      "text/markdown": [
       "Sentiment of the context: NEGATIVE (Score: 0.69)"
      ],
      "text/plain": [
       "<IPython.core.display.Markdown object>"
      ]
     },
     "metadata": {},
     "output_type": "display_data"
    },
    {
     "data": {
      "text/markdown": [
       "---"
      ],
      "text/plain": [
       "<IPython.core.display.Markdown object>"
      ]
     },
     "metadata": {},
     "output_type": "display_data"
    },
    {
     "data": {
      "text/markdown": [
       "7. Keyword found in: those who run our \n",
       "so-called american corporations have bent to the will of the **woke** agenda and care \n",
       "more for their foreign investors and organizations than their american workers \n",
       "and customers."
      ],
      "text/plain": [
       "<IPython.core.display.Markdown object>"
      ]
     },
     "metadata": {},
     "output_type": "display_data"
    },
    {
     "data": {
      "text/markdown": [
       "Sentiment of the context: NEGATIVE (Score: 0.98)"
      ],
      "text/plain": [
       "<IPython.core.display.Markdown object>"
      ]
     },
     "metadata": {},
     "output_type": "display_data"
    },
    {
     "data": {
      "text/markdown": [
       "---"
      ],
      "text/plain": [
       "<IPython.core.display.Markdown object>"
      ]
     },
     "metadata": {},
     "output_type": "display_data"
    },
    {
     "data": {
      "text/markdown": [
       "8. Keyword found in: like the progressive woodrow \n",
       "\n",
       "— 10 —\n",
       "\n",
       "mandate for leadership: the conservative promise \n",
       "\f",
       "wilson a century ago, the **woke** left today seeks a world, bound by global treaties \n",
       "they write, in which they exercise dictatorial powers over all nations without being \n",
       "subject to democratic accountability.\n",
       "\n"
      ],
      "text/plain": [
       "<IPython.core.display.Markdown object>"
      ]
     },
     "metadata": {},
     "output_type": "display_data"
    },
    {
     "data": {
      "text/markdown": [
       "Sentiment of the context: POSITIVE (Score: 0.95)"
      ],
      "text/plain": [
       "<IPython.core.display.Markdown object>"
      ]
     },
     "metadata": {},
     "output_type": "display_data"
    },
    {
     "data": {
      "text/markdown": [
       "---"
      ],
      "text/plain": [
       "<IPython.core.display.Markdown object>"
      ]
     },
     "metadata": {},
     "output_type": "display_data"
    },
    {
     "data": {
      "text/markdown": [
       "9. Keyword found in: left to our own devices, the american people rejected european monarchy \n",
       "and colonialism just as we rejected slavery, second-class citizenship for women, \n",
       "mercantilism, socialism, wilsonian globalism, fascism, communism, and (today) \n",
       "**woke**ism."
      ],
      "text/plain": [
       "<IPython.core.display.Markdown object>"
      ]
     },
     "metadata": {},
     "output_type": "display_data"
    },
    {
     "data": {
      "text/markdown": [
       "Sentiment of the context: NEGATIVE (Score: 0.86)"
      ],
      "text/plain": [
       "<IPython.core.display.Markdown object>"
      ]
     },
     "metadata": {},
     "output_type": "display_data"
    },
    {
     "data": {
      "text/markdown": [
       "---"
      ],
      "text/plain": [
       "<IPython.core.display.Markdown object>"
      ]
     },
     "metadata": {},
     "output_type": "display_data"
    },
    {
     "data": {
      "text/markdown": [
       "10. Keyword found in: it should promote educa-\n",
       "tional opportunities outside the **woke**-dominated system of public schools and \n",
       "\n",
       "— 15 —\n",
       "\n",
       "2025 presidential transition project \n",
       "\f",
       "universities, including trade schools, apprenticeship programs, and student-loan \n",
       "alternatives that fund students’ dreams instead of marxist academics."
      ],
      "text/plain": [
       "<IPython.core.display.Markdown object>"
      ]
     },
     "metadata": {},
     "output_type": "display_data"
    },
    {
     "data": {
      "text/markdown": [
       "Sentiment of the context: POSITIVE (Score: 0.99)"
      ],
      "text/plain": [
       "<IPython.core.display.Markdown object>"
      ]
     },
     "metadata": {},
     "output_type": "display_data"
    },
    {
     "data": {
      "text/markdown": [
       "---"
      ],
      "text/plain": [
       "<IPython.core.display.Markdown object>"
      ]
     },
     "metadata": {},
     "output_type": "display_data"
    },
    {
     "data": {
      "text/markdown": [
       "11. Keyword found in: this book, this agenda, the entire project 2025 is a plan to unite the conservative \n",
       "movement and the american people against elite rule and **woke** culture warriors.\n"
      ],
      "text/plain": [
       "<IPython.core.display.Markdown object>"
      ]
     },
     "metadata": {},
     "output_type": "display_data"
    },
    {
     "data": {
      "text/markdown": [
       "Sentiment of the context: POSITIVE (Score: 0.98)"
      ],
      "text/plain": [
       "<IPython.core.display.Markdown object>"
      ]
     },
     "metadata": {},
     "output_type": "display_data"
    },
    {
     "data": {
      "text/markdown": [
       "---"
      ],
      "text/plain": [
       "<IPython.core.display.Markdown object>"
      ]
     },
     "metadata": {},
     "output_type": "display_data"
    },
    {
     "data": {
      "text/markdown": [
       "12. Keyword found in: in the past decade, though, the breakdown of the family, the rise of \n",
       "china, the great a**woke**ning, big tech’s abuses, and the erosion of constitutional \n",
       "accountability in washington have rendered these divisions not just inconvenient \n",
       "but politically suicidal."
      ],
      "text/plain": [
       "<IPython.core.display.Markdown object>"
      ]
     },
     "metadata": {},
     "output_type": "display_data"
    },
    {
     "data": {
      "text/markdown": [
       "Sentiment of the context: NEGATIVE (Score: 1.00)"
      ],
      "text/plain": [
       "<IPython.core.display.Markdown object>"
      ]
     },
     "metadata": {},
     "output_type": "display_data"
    },
    {
     "data": {
      "text/markdown": [
       "---"
      ],
      "text/plain": [
       "<IPython.core.display.Markdown object>"
      ]
     },
     "metadata": {},
     "output_type": "display_data"
    },
    {
     "data": {
      "text/markdown": [
       "13. Keyword found in: as we \n",
       " approach our nation’s 250th anniversary, which will take place during the \n",
       "next presidency, america is now divided between two opposing forces: **woke** revolu-\n",
       "tionaries and those who believe in the ideals of the american revolution."
      ],
      "text/plain": [
       "<IPython.core.display.Markdown object>"
      ]
     },
     "metadata": {},
     "output_type": "display_data"
    },
    {
     "data": {
      "text/markdown": [
       "Sentiment of the context: POSITIVE (Score: 0.85)"
      ],
      "text/plain": [
       "<IPython.core.display.Markdown object>"
      ]
     },
     "metadata": {},
     "output_type": "display_data"
    },
    {
     "data": {
      "text/markdown": [
       "---"
      ],
      "text/plain": [
       "<IPython.core.display.Markdown object>"
      ]
     },
     "metadata": {},
     "output_type": "display_data"
    },
    {
     "data": {
      "text/markdown": [
       "14. Keyword found in: while other chapters will cover specific policy goals for each department or \n",
       "agency, incoming policy councils will need to move rapidly to lead policy processes \n",
       "around cross-cutting agency topics, including countering china, enforcing immi-\n",
       "gration laws, reversing regulatory policies in order to promote energy production, \n",
       "combating the left’s aggressive attacks on life and religious liberty, and confronting \n",
       "“**woke**ism” throughout the federal government.\n",
       "\n"
      ],
      "text/plain": [
       "<IPython.core.display.Markdown object>"
      ]
     },
     "metadata": {},
     "output_type": "display_data"
    },
    {
     "data": {
      "text/markdown": [
       "Sentiment of the context: NEGATIVE (Score: 0.84)"
      ],
      "text/plain": [
       "<IPython.core.display.Markdown object>"
      ]
     },
     "metadata": {},
     "output_type": "display_data"
    },
    {
     "data": {
      "text/markdown": [
       "---"
      ],
      "text/plain": [
       "<IPython.core.display.Markdown object>"
      ]
     },
     "metadata": {},
     "output_type": "display_data"
    },
    {
     "data": {
      "text/markdown": [
       "15. Keyword found in: sadly, however, a president today assumes \n",
       "office to find a sprawling federal bureaucracy that all too often is carrying out its \n",
       "own policy plans and preferences—or, worse yet, the policy plans and preferences \n",
       "of a radical, supposedly “**woke**” faction of the country.\n",
       "\n"
      ],
      "text/plain": [
       "<IPython.core.display.Markdown object>"
      ]
     },
     "metadata": {},
     "output_type": "display_data"
    },
    {
     "data": {
      "text/markdown": [
       "Sentiment of the context: NEGATIVE (Score: 1.00)"
      ],
      "text/plain": [
       "<IPython.core.display.Markdown object>"
      ]
     },
     "metadata": {},
     "output_type": "display_data"
    },
    {
     "data": {
      "text/markdown": [
       "---"
      ],
      "text/plain": [
       "<IPython.core.display.Markdown object>"
      ]
     },
     "metadata": {},
     "output_type": "display_data"
    },
    {
     "data": {
      "text/markdown": [
       "16. Keyword found in: this office should be engaged early and often in omb’s effort to drive \n",
       "policy, including by obtaining transparency about entities that are awarded federal \n",
       "contracts and grants and by using government contracts to push back against **woke** \n",
       "policies in corporate america.\n",
       "\n"
      ],
      "text/plain": [
       "<IPython.core.display.Markdown object>"
      ]
     },
     "metadata": {},
     "output_type": "display_data"
    },
    {
     "data": {
      "text/markdown": [
       "Sentiment of the context: POSITIVE (Score: 0.98)"
      ],
      "text/plain": [
       "<IPython.core.display.Markdown object>"
      ]
     },
     "metadata": {},
     "output_type": "display_data"
    },
    {
     "data": {
      "text/markdown": [
       "---"
      ],
      "text/plain": [
       "<IPython.core.display.Markdown object>"
      ]
     },
     "metadata": {},
     "output_type": "display_data"
    },
    {
     "data": {
      "text/markdown": [
       "17. Keyword found in: as with other \n",
       "federal departments and agencies, the biden administration’s leveraging of the \n",
       "federal government’s resources to further the **woke** agenda should be reversed and \n",
       "scrubbed from all policy manuals, guidance documents, and agendas, and scientific \n",
       "excellence and innovation should be restored as the ostp’s top priority.\n",
       "\n"
      ],
      "text/plain": [
       "<IPython.core.display.Markdown object>"
      ]
     },
     "metadata": {},
     "output_type": "display_data"
    },
    {
     "data": {
      "text/markdown": [
       "Sentiment of the context: NEGATIVE (Score: 1.00)"
      ],
      "text/plain": [
       "<IPython.core.display.Markdown object>"
      ]
     },
     "metadata": {},
     "output_type": "display_data"
    },
    {
     "data": {
      "text/markdown": [
       "---"
      ],
      "text/plain": [
       "<IPython.core.display.Markdown object>"
      ]
     },
     "metadata": {},
     "output_type": "display_data"
    },
    {
     "data": {
      "text/markdown": [
       "18. Keyword found in: while it makes sense to transfer these \n",
       "programs eventually to the department of justice and department of health and \n",
       "human services, respectively, it is vital that the ondcp director ensure in the \n",
       "immediate term that these grant programs are funding the president’s drug control \n",
       "priorities and not **woke** nonprofits with leftist policy agendas."
      ],
      "text/plain": [
       "<IPython.core.display.Markdown object>"
      ]
     },
     "metadata": {},
     "output_type": "display_data"
    },
    {
     "data": {
      "text/markdown": [
       "Sentiment of the context: POSITIVE (Score: 1.00)"
      ],
      "text/plain": [
       "<IPython.core.display.Markdown object>"
      ]
     },
     "metadata": {},
     "output_type": "display_data"
    },
    {
     "data": {
      "text/markdown": [
       "---"
      ],
      "text/plain": [
       "<IPython.core.display.Markdown object>"
      ]
     },
     "metadata": {},
     "output_type": "display_data"
    },
    {
     "data": {
      "text/markdown": [
       "19. Keyword found in: abolishing the gender policy council would eliminate central \n",
       "promotion of abortion (“health services”); comprehensive sexuality education \n",
       "(“education”); and the new **woke** gender ideology, which has as a principal tenet \n",
       "“gender affirming care” and “sex-change” surgeries on minors."
      ],
      "text/plain": [
       "<IPython.core.display.Markdown object>"
      ]
     },
     "metadata": {},
     "output_type": "display_data"
    },
    {
     "data": {
      "text/markdown": [
       "Sentiment of the context: NEGATIVE (Score: 0.80)"
      ],
      "text/plain": [
       "<IPython.core.display.Markdown object>"
      ]
     },
     "metadata": {},
     "output_type": "display_data"
    },
    {
     "data": {
      "text/markdown": [
       "---"
      ],
      "text/plain": [
       "<IPython.core.display.Markdown object>"
      ]
     },
     "metadata": {},
     "output_type": "display_data"
    },
    {
     "data": {
      "text/markdown": [
       "20. Keyword found in: dhs has also suffered from the left’s **woke**ness and \n",
       "weaponization against americans whom the left perceives as its political opponents.\n"
      ],
      "text/plain": [
       "<IPython.core.display.Markdown object>"
      ]
     },
     "metadata": {},
     "output_type": "display_data"
    },
    {
     "data": {
      "text/markdown": [
       "Sentiment of the context: NEGATIVE (Score: 1.00)"
      ],
      "text/plain": [
       "<IPython.core.display.Markdown object>"
      ]
     },
     "metadata": {},
     "output_type": "display_data"
    },
    {
     "data": {
      "text/markdown": [
       "---"
      ],
      "text/plain": [
       "<IPython.core.display.Markdown object>"
      ]
     },
     "metadata": {},
     "output_type": "display_data"
    },
    {
     "data": {
      "text/markdown": [
       "21. Keyword found in: the administration should stop the messaging on **woke**ness and diversity \n",
       "and focus instead on attracting the best talent for uscg."
      ],
      "text/plain": [
       "<IPython.core.display.Markdown object>"
      ]
     },
     "metadata": {},
     "output_type": "display_data"
    },
    {
     "data": {
      "text/markdown": [
       "Sentiment of the context: NEGATIVE (Score: 1.00)"
      ],
      "text/plain": [
       "<IPython.core.display.Markdown object>"
      ]
     },
     "metadata": {},
     "output_type": "display_data"
    },
    {
     "data": {
      "text/markdown": [
       "---"
      ],
      "text/plain": [
       "<IPython.core.display.Markdown object>"
      ]
     },
     "metadata": {},
     "output_type": "display_data"
    },
    {
     "data": {
      "text/markdown": [
       "22. Keyword found in: finally, future ic leadership must address the widely promoted “**woke**” cul-\n",
       "ture that has spread throughout the federal government with identity politics and \n",
       "“social justice” advocacy replacing such traditional american values as patriotism, \n",
       "colorblindness, and even workplace competence.\n",
       "\n"
      ],
      "text/plain": [
       "<IPython.core.display.Markdown object>"
      ]
     },
     "metadata": {},
     "output_type": "display_data"
    },
    {
     "data": {
      "text/markdown": [
       "Sentiment of the context: POSITIVE (Score: 0.98)"
      ],
      "text/plain": [
       "<IPython.core.display.Markdown object>"
      ]
     },
     "metadata": {},
     "output_type": "display_data"
    },
    {
     "data": {
      "text/markdown": [
       "---"
      ],
      "text/plain": [
       "<IPython.core.display.Markdown object>"
      ]
     },
     "metadata": {},
     "output_type": "display_data"
    },
    {
     "data": {
      "text/markdown": [
       "23. Keyword found in: shift-\n",
       "ing from giant u.s.-based implementers has proved difficult to achieve, however, \n",
       "given intense internal bureaucratic resistance; opposition from the aid industrial \n",
       "complex; and foot-dragging from progressives, who view local ngos—especially \n",
       "faith-based ngos prominent in africa and latin america—as obstacles to promot-\n",
       "ing abortion, gender radicalism, climate extremism, and other **woke** ideas.\n",
       "\n"
      ],
      "text/plain": [
       "<IPython.core.display.Markdown object>"
      ]
     },
     "metadata": {},
     "output_type": "display_data"
    },
    {
     "data": {
      "text/markdown": [
       "Sentiment of the context: NEGATIVE (Score: 1.00)"
      ],
      "text/plain": [
       "<IPython.core.display.Markdown object>"
      ]
     },
     "metadata": {},
     "output_type": "display_data"
    },
    {
     "data": {
      "text/markdown": [
       "---"
      ],
      "text/plain": [
       "<IPython.core.display.Markdown object>"
      ]
     },
     "metadata": {},
     "output_type": "display_data"
    },
    {
     "data": {
      "text/markdown": [
       "24. Keyword found in: the next hhs secretary \n",
       "should immediately put an end to the department’s foray into **woke** transgen-\n",
       "der activism.\n",
       "\n"
      ],
      "text/plain": [
       "<IPython.core.display.Markdown object>"
      ]
     },
     "metadata": {},
     "output_type": "display_data"
    },
    {
     "data": {
      "text/markdown": [
       "Sentiment of the context: NEGATIVE (Score: 1.00)"
      ],
      "text/plain": [
       "<IPython.core.display.Markdown object>"
      ]
     },
     "metadata": {},
     "output_type": "display_data"
    },
    {
     "data": {
      "text/markdown": [
       "---"
      ],
      "text/plain": [
       "<IPython.core.display.Markdown object>"
      ]
     },
     "metadata": {},
     "output_type": "display_data"
    },
    {
     "data": {
      "text/markdown": [
       "25. Keyword found in: the department is a convenient one-stop shop for the **woke** \n",
       "education cartel, which—as the covid era showed—is not particularly concerned \n",
       "with children’s education."
      ],
      "text/plain": [
       "<IPython.core.display.Markdown object>"
      ]
     },
     "metadata": {},
     "output_type": "display_data"
    },
    {
     "data": {
      "text/markdown": [
       "Sentiment of the context: NEGATIVE (Score: 1.00)"
      ],
      "text/plain": [
       "<IPython.core.display.Markdown object>"
      ]
     },
     "metadata": {},
     "output_type": "display_data"
    },
    {
     "data": {
      "text/markdown": [
       "---"
      ],
      "text/plain": [
       "<IPython.core.display.Markdown object>"
      ]
     },
     "metadata": {},
     "output_type": "display_data"
    },
    {
     "data": {
      "text/markdown": [
       "26. Keyword found in: rather than continuing \n",
       "to buttress a higher education establishment captured by **woke** “diversicrats” and a \n",
       "de facto monopoly enforced by the federal accreditation cartel, federal postsecondary \n",
       "education policy should prepare students for jobs in the dynamic economy, nurture \n",
       "institutional diversity, and expose schools to greater market forces.1\n",
       "\n",
       "overview\n",
       "\n",
       "for most of our history, the federal government played a minor role in education. \n"
      ],
      "text/plain": [
       "<IPython.core.display.Markdown object>"
      ]
     },
     "metadata": {},
     "output_type": "display_data"
    },
    {
     "data": {
      "text/markdown": [
       "Sentiment of the context: POSITIVE (Score: 0.74)"
      ],
      "text/plain": [
       "<IPython.core.display.Markdown object>"
      ]
     },
     "metadata": {},
     "output_type": "display_data"
    },
    {
     "data": {
      "text/markdown": [
       "---"
      ],
      "text/plain": [
       "<IPython.core.display.Markdown object>"
      ]
     },
     "metadata": {},
     "output_type": "display_data"
    },
    {
     "data": {
      "text/markdown": [
       "1. Keyword found in: **woke** policies."
      ],
      "text/plain": [
       "<IPython.core.display.Markdown object>"
      ]
     },
     "metadata": {},
     "output_type": "display_data"
    },
    {
     "data": {
      "text/markdown": [
       "Sentiment of the context: NEGATIVE (Score: 0.91)"
      ],
      "text/plain": [
       "<IPython.core.display.Markdown object>"
      ]
     },
     "metadata": {},
     "output_type": "display_data"
    },
    {
     "data": {
      "text/markdown": [
       "---"
      ],
      "text/plain": [
       "<IPython.core.display.Markdown object>"
      ]
     },
     "metadata": {},
     "output_type": "display_data"
    },
    {
     "data": {
      "text/markdown": [
       "2. Keyword found in: owing to the combination of regulatory pressure and \n",
       "eager human resources offices in the private sector, much of american labor and \n",
       "employment policy has become institutionally oriented toward “**woke**” goals. \n"
      ],
      "text/plain": [
       "<IPython.core.display.Markdown object>"
      ]
     },
     "metadata": {},
     "output_type": "display_data"
    },
    {
     "data": {
      "text/markdown": [
       "Sentiment of the context: NEGATIVE (Score: 0.84)"
      ],
      "text/plain": [
       "<IPython.core.display.Markdown object>"
      ]
     },
     "metadata": {},
     "output_type": "display_data"
    },
    {
     "data": {
      "text/markdown": [
       "---"
      ],
      "text/plain": [
       "<IPython.core.display.Markdown object>"
      ]
     },
     "metadata": {},
     "output_type": "display_data"
    },
    {
     "data": {
      "text/markdown": [
       "3. Keyword found in: we must replace “**woke**” nonsense with a healthy vision of the role of \n",
       "labor policy in our society, starting with the american family.\n",
       "\n",
       " "
      ],
      "text/plain": [
       "<IPython.core.display.Markdown object>"
      ]
     },
     "metadata": {},
     "output_type": "display_data"
    },
    {
     "data": {
      "text/markdown": [
       "Sentiment of the context: POSITIVE (Score: 1.00)"
      ],
      "text/plain": [
       "<IPython.core.display.Markdown object>"
      ]
     },
     "metadata": {},
     "output_type": "display_data"
    },
    {
     "data": {
      "text/markdown": [
       "---"
      ],
      "text/plain": [
       "<IPython.core.display.Markdown object>"
      ]
     },
     "metadata": {},
     "output_type": "display_data"
    },
    {
     "data": {
      "text/markdown": [
       "4. Keyword found in: and while individual investors may prefer to invest \n",
       "in “green” companies, “**woke**” companies, or companies with greater board \n",
       "diversity, and may even be willing to sacrifice some financial gains to do \n",
       "\n",
       "— 606 —\n",
       "\n",
       "mandate for leadership: the conservative promise \n",
       "\f",
       "so, the question relevant to dol is whether, and under what conditions, \n",
       "fiduciaries should be permitted to follow this path as well.\n",
       "\n"
      ],
      "text/plain": [
       "<IPython.core.display.Markdown object>"
      ]
     },
     "metadata": {},
     "output_type": "display_data"
    },
    {
     "data": {
      "text/markdown": [
       "Sentiment of the context: NEGATIVE (Score: 0.87)"
      ],
      "text/plain": [
       "<IPython.core.display.Markdown object>"
      ]
     },
     "metadata": {},
     "output_type": "display_data"
    },
    {
     "data": {
      "text/markdown": [
       "---"
      ],
      "text/plain": [
       "<IPython.core.display.Markdown object>"
      ]
     },
     "metadata": {},
     "output_type": "display_data"
    },
    {
     "data": {
      "text/markdown": [
       "5. Keyword found in: and then there are rising \n",
       "challenges, like climate change, which, left unchecked, will undermine every \n",
       "aspect of our economy from supply chains to the financial system.3\n",
       "\n",
       "treasury’s mission drift into a “**woke**” agenda, is exemplified in a comparison \n",
       "\n",
       "of domestic finance’s changed responsibilities from 2015 to 2023:\n",
       "\n",
       "— 692 —\n",
       "\n",
       "mandate for leadership: the conservative promise \n",
       "\f",
       "[2015] domestic finance works to preserve confidence in the u.s. treasury \n",
       "securities market, effectively manage federal fiscal operations, strengthen \n",
       "financial institutions and markets, promote access to credit, and improve \n",
       "financial access and education in service of america’s long-term economic \n",
       "strength and stability.4\n",
       "\n"
      ],
      "text/plain": [
       "<IPython.core.display.Markdown object>"
      ]
     },
     "metadata": {},
     "output_type": "display_data"
    },
    {
     "data": {
      "text/markdown": [
       "Sentiment of the context: NEGATIVE (Score: 0.99)"
      ],
      "text/plain": [
       "<IPython.core.display.Markdown object>"
      ]
     },
     "metadata": {},
     "output_type": "display_data"
    },
    {
     "data": {
      "text/markdown": [
       "---"
      ],
      "text/plain": [
       "<IPython.core.display.Markdown object>"
      ]
     },
     "metadata": {},
     "output_type": "display_data"
    }
   ],
   "source": [
    "# Insert your keyword here to get a list of the context of the word and what the sentiment of the keyword context is\n",
    "keyword = \"woke\"\n",
    "\n",
    "for chunk in process_in_chunks(text):\n",
    "    find_keyword_and_analyze_context(chunk, keyword)"
   ]
  },
  {
   "cell_type": "code",
   "execution_count": 7,
   "id": "2675d0a6-6b87-4ac2-8366-3a2bfbcbe1c8",
   "metadata": {},
   "outputs": [
    {
     "data": {
      "text/markdown": [
       "1. Keyword found in: paul dans & steven groves\n",
       "\n",
       "— ix —\n",
       "\n",
       " \n",
       "\f",
       " \n",
       "\f",
       "the project 2025  \n",
       "advisory board\n",
       "\n",
       "alabama policy institute\n",
       "alliance defending freedom\n",
       "american compass\n",
       "the american conservative\n",
       "america first legal foundation\n",
       "american accountability foundation\n",
       "american center for law and justice\n",
       "american cornerstone institute\n",
       "american council of trustees and alumni\n",
       "american **legislative** exchange council\n",
       "the american main street initiative\n",
       "american moment\n",
       "american principles project\n",
       "center for equal opportunity\n",
       "center for family and human rights\n",
       "center for immigration studies\n",
       "center for renewing america\n",
       "claremont institute\n",
       "coalition for a prosperous america\n",
       "competitive enterprise institute\n",
       "conservative partnership institute\n",
       "concerned women for america\n",
       "defense of freedom institute\n",
       "ethics and public policy center\n",
       "family policy alliance\n",
       "family research council\n",
       "first liberty institute\n",
       "forge leadership network\n",
       "foundation for defense of democracies\n",
       "foundation for government accountability\n",
       "freedomworks\n",
       "the heritage foundation\n",
       "hillsdale college\n",
       "honest elections project\n",
       "\n",
       "— xi —\n",
       "\n",
       " \n",
       "\f",
       "independent women’s forum\n",
       "institute for the american worker\n",
       "institute for energy research\n",
       "institute for women’s health\n",
       "intercollegiate studies institute\n",
       "james madison institute\n",
       "keystone policy\n",
       "the leadership institute\n",
       "liberty university\n",
       "national association of scholars\n",
       "national center for public policy research\n",
       "pacific research institute\n",
       "patrick henry college\n",
       "personnel policy operations\n",
       "recovery for america now foundation\n",
       "1792 exchange\n",
       "susan b. anthony pro-life america\n",
       "texas public policy foundation\n",
       "teneo network\n",
       "young america’s foundation\n",
       "\n",
       "— xii —\n",
       "\n",
       "mandate for leadership: the conservative promise \n",
       "\f",
       "the 2025 presidential  \n",
       "transition project\n",
       "\n",
       "a note on  \n",
       "“project 2025”\n",
       "\n",
       "w e want you!"
      ],
      "text/plain": [
       "<IPython.core.display.Markdown object>"
      ]
     },
     "metadata": {},
     "output_type": "display_data"
    },
    {
     "data": {
      "text/markdown": [
       "Sentiment of the context: POSITIVE (Score: 0.90)"
      ],
      "text/plain": [
       "<IPython.core.display.Markdown object>"
      ]
     },
     "metadata": {},
     "output_type": "display_data"
    },
    {
     "data": {
      "text/markdown": [
       "---"
      ],
      "text/plain": [
       "<IPython.core.display.Markdown object>"
      ]
     },
     "metadata": {},
     "output_type": "display_data"
    },
    {
     "data": {
      "text/markdown": [
       "2. Keyword found in: under article i of the constitution, “all **legislative** powers herein \n",
       "granted shall be vested in a congress of the united states, which shall consist of \n",
       "a senate and a house of representatives.”"
      ],
      "text/plain": [
       "<IPython.core.display.Markdown object>"
      ]
     },
     "metadata": {},
     "output_type": "display_data"
    },
    {
     "data": {
      "text/markdown": [
       "Sentiment of the context: POSITIVE (Score: 0.94)"
      ],
      "text/plain": [
       "<IPython.core.display.Markdown object>"
      ]
     },
     "metadata": {},
     "output_type": "display_data"
    },
    {
     "data": {
      "text/markdown": [
       "---"
      ],
      "text/plain": [
       "<IPython.core.display.Markdown object>"
      ]
     },
     "metadata": {},
     "output_type": "display_data"
    },
    {
     "data": {
      "text/markdown": [
       "3. Keyword found in: they not only split the federal government’s **legislative**, executive, and judicial \n",
       "powers into different branches."
      ],
      "text/plain": [
       "<IPython.core.display.Markdown object>"
      ]
     },
     "metadata": {},
     "output_type": "display_data"
    },
    {
     "data": {
      "text/markdown": [
       "Sentiment of the context: POSITIVE (Score: 0.88)"
      ],
      "text/plain": [
       "<IPython.core.display.Markdown object>"
      ]
     },
     "metadata": {},
     "output_type": "display_data"
    },
    {
     "data": {
      "text/markdown": [
       "---"
      ],
      "text/plain": [
       "<IPython.core.display.Markdown object>"
      ]
     },
     "metadata": {},
     "output_type": "display_data"
    },
    {
     "data": {
      "text/markdown": [
       "4. Keyword found in: under our constitution, the **legislative** branch—congress—is far and away the most \n",
       "powerful and, correspondingly, the most accountable to the people.\n",
       "\n"
      ],
      "text/plain": [
       "<IPython.core.display.Markdown object>"
      ]
     },
     "metadata": {},
     "output_type": "display_data"
    },
    {
     "data": {
      "text/markdown": [
       "Sentiment of the context: NEGATIVE (Score: 0.79)"
      ],
      "text/plain": [
       "<IPython.core.display.Markdown object>"
      ]
     },
     "metadata": {},
     "output_type": "display_data"
    },
    {
     "data": {
      "text/markdown": [
       "---"
      ],
      "text/plain": [
       "<IPython.core.display.Markdown object>"
      ]
     },
     "metadata": {},
     "output_type": "display_data"
    },
    {
     "data": {
      "text/markdown": [
       "5. Keyword found in: a \n",
       "conservative president must look to the **legislative** branch for decisive action."
      ],
      "text/plain": [
       "<IPython.core.display.Markdown object>"
      ]
     },
     "metadata": {},
     "output_type": "display_data"
    },
    {
     "data": {
      "text/markdown": [
       "Sentiment of the context: POSITIVE (Score: 0.99)"
      ],
      "text/plain": [
       "<IPython.core.display.Markdown object>"
      ]
     },
     "metadata": {},
     "output_type": "display_data"
    },
    {
     "data": {
      "text/markdown": [
       "---"
      ],
      "text/plain": [
       "<IPython.core.display.Markdown object>"
      ]
     },
     "metadata": {},
     "output_type": "display_data"
    },
    {
     "data": {
      "text/markdown": [
       "6. Keyword found in: the chief then works \n",
       "with the policy councils, the cabinet, and the office of communications and office \n",
       "of **legislative** affairs (ola) to sequence and execute the rollout of policies and \n",
       "announcements."
      ],
      "text/plain": [
       "<IPython.core.display.Markdown object>"
      ]
     },
     "metadata": {},
     "output_type": "display_data"
    },
    {
     "data": {
      "text/markdown": [
       "Sentiment of the context: POSITIVE (Score: 0.98)"
      ],
      "text/plain": [
       "<IPython.core.display.Markdown object>"
      ]
     },
     "metadata": {},
     "output_type": "display_data"
    },
    {
     "data": {
      "text/markdown": [
       "---"
      ],
      "text/plain": [
       "<IPython.core.display.Markdown object>"
      ]
     },
     "metadata": {},
     "output_type": "display_data"
    },
    {
     "data": {
      "text/markdown": [
       "7. Keyword found in: the new administration \n",
       "should examine the nature of the relationship between itself and the white house \n",
       "correspondents association and consider whether an alternative coordinating \n",
       "body might be more suitable.\n",
       "\n",
       "office of **legislative** affairs (ola)\n",
       "\n",
       "created by president dwight eisenhower, the ola has continued to serve as the \n",
       "liaison between the white house and congress."
      ],
      "text/plain": [
       "<IPython.core.display.Markdown object>"
      ]
     },
     "metadata": {},
     "output_type": "display_data"
    },
    {
     "data": {
      "text/markdown": [
       "Sentiment of the context: NEGATIVE (Score: 0.88)"
      ],
      "text/plain": [
       "<IPython.core.display.Markdown object>"
      ]
     },
     "metadata": {},
     "output_type": "display_data"
    },
    {
     "data": {
      "text/markdown": [
       "---"
      ],
      "text/plain": [
       "<IPython.core.display.Markdown object>"
      ]
     },
     "metadata": {},
     "output_type": "display_data"
    },
    {
     "data": {
      "text/markdown": [
       "8. Keyword found in: externally, ola staffers \n",
       "have to communicate continuously with congressional offices of both parties in \n",
       "both the house and the senate to ensure that the president has enough support \n",
       "to enact his **legislative** priorities or sustain votes.\n",
       "\n"
      ],
      "text/plain": [
       "<IPython.core.display.Markdown object>"
      ]
     },
     "metadata": {},
     "output_type": "display_data"
    },
    {
     "data": {
      "text/markdown": [
       "Sentiment of the context: POSITIVE (Score: 0.98)"
      ],
      "text/plain": [
       "<IPython.core.display.Markdown object>"
      ]
     },
     "metadata": {},
     "output_type": "display_data"
    },
    {
     "data": {
      "text/markdown": [
       "---"
      ],
      "text/plain": [
       "<IPython.core.display.Markdown object>"
      ]
     },
     "metadata": {},
     "output_type": "display_data"
    },
    {
     "data": {
      "text/markdown": [
       "9. Keyword found in: this frequently \n",
       "includes developing significant **legislative** priorities, coordinating policy \n",
       "decisions that impact multiple departments and agencies, and at times \n",
       "coordinating policy decisions within a single department or agency."
      ],
      "text/plain": [
       "<IPython.core.display.Markdown object>"
      ]
     },
     "metadata": {},
     "output_type": "display_data"
    },
    {
     "data": {
      "text/markdown": [
       "Sentiment of the context: POSITIVE (Score: 0.99)"
      ],
      "text/plain": [
       "<IPython.core.display.Markdown object>"
      ]
     },
     "metadata": {},
     "output_type": "display_data"
    },
    {
     "data": {
      "text/markdown": [
       "---"
      ],
      "text/plain": [
       "<IPython.core.display.Markdown object>"
      ]
     },
     "metadata": {},
     "output_type": "display_data"
    },
    {
     "data": {
      "text/markdown": [
       "10. Keyword found in: in federalist no. 47, james madison warned that “[t]he accumulation of all powers, \n",
       "**legislative**, executive, and judiciary, in the same hands, whether of one, a few, or many, \n",
       "and whether hereditary, self-appointed, or elective, may justly be pronounced the \n",
       "very definition of tyranny.”2"
      ],
      "text/plain": [
       "<IPython.core.display.Markdown object>"
      ]
     },
     "metadata": {},
     "output_type": "display_data"
    },
    {
     "data": {
      "text/markdown": [
       "Sentiment of the context: NEGATIVE (Score: 0.97)"
      ],
      "text/plain": [
       "<IPython.core.display.Markdown object>"
      ]
     },
     "metadata": {},
     "output_type": "display_data"
    },
    {
     "data": {
      "text/markdown": [
       "---"
      ],
      "text/plain": [
       "<IPython.core.display.Markdown object>"
      ]
     },
     "metadata": {},
     "output_type": "display_data"
    },
    {
     "data": {
      "text/markdown": [
       "11. Keyword found in: **legislative** clearance and coordination."
      ],
      "text/plain": [
       "<IPython.core.display.Markdown object>"
      ]
     },
     "metadata": {},
     "output_type": "display_data"
    },
    {
     "data": {
      "text/markdown": [
       "Sentiment of the context: POSITIVE (Score: 0.98)"
      ],
      "text/plain": [
       "<IPython.core.display.Markdown object>"
      ]
     },
     "metadata": {},
     "output_type": "display_data"
    },
    {
     "data": {
      "text/markdown": [
       "---"
      ],
      "text/plain": [
       "<IPython.core.display.Markdown object>"
      ]
     },
     "metadata": {},
     "output_type": "display_data"
    },
    {
     "data": {
      "text/markdown": [
       "12. Keyword found in: omb plays a critical role in ensur-\n",
       "ing that the executive branch is aligned on **legislative** proposals and language, \n",
       "agency testimonies, and other communications with congress."
      ],
      "text/plain": [
       "<IPython.core.display.Markdown object>"
      ]
     },
     "metadata": {},
     "output_type": "display_data"
    },
    {
     "data": {
      "text/markdown": [
       "Sentiment of the context: POSITIVE (Score: 0.98)"
      ],
      "text/plain": [
       "<IPython.core.display.Markdown object>"
      ]
     },
     "metadata": {},
     "output_type": "display_data"
    },
    {
     "data": {
      "text/markdown": [
       "---"
      ],
      "text/plain": [
       "<IPython.core.display.Markdown object>"
      ]
     },
     "metadata": {},
     "output_type": "display_data"
    },
    {
     "data": {
      "text/markdown": [
       "13. Keyword found in: the director should \n",
       "use these authorities to enforce policy and message consistency aggressively and \n",
       "promote the effective engagement of the executive branch in **legislative** processes.\n",
       "\n"
      ],
      "text/plain": [
       "<IPython.core.display.Markdown object>"
      ]
     },
     "metadata": {},
     "output_type": "display_data"
    },
    {
     "data": {
      "text/markdown": [
       "Sentiment of the context: POSITIVE (Score: 0.99)"
      ],
      "text/plain": [
       "<IPython.core.display.Markdown object>"
      ]
     },
     "metadata": {},
     "output_type": "display_data"
    },
    {
     "data": {
      "text/markdown": [
       "---"
      ],
      "text/plain": [
       "<IPython.core.display.Markdown object>"
      ]
     },
     "metadata": {},
     "output_type": "display_data"
    },
    {
     "data": {
      "text/markdown": [
       "14. Keyword found in: this includes working with the dpc, nsc, omb, council of economic \n",
       "advisers, office of intergovernmental affairs, office of cabinet affairs, white \n",
       "house counsel, council on environmental quality, office of **legislative** affairs, \n",
       "\n",
       "— 53 —\n",
       "\n",
       "2025 presidential transition project \n",
       "\f",
       "and office of science and technology policy."
      ],
      "text/plain": [
       "<IPython.core.display.Markdown object>"
      ]
     },
     "metadata": {},
     "output_type": "display_data"
    },
    {
     "data": {
      "text/markdown": [
       "Sentiment of the context: POSITIVE (Score: 0.98)"
      ],
      "text/plain": [
       "<IPython.core.display.Markdown object>"
      ]
     },
     "metadata": {},
     "output_type": "display_data"
    },
    {
     "data": {
      "text/markdown": [
       "---"
      ],
      "text/plain": [
       "<IPython.core.display.Markdown object>"
      ]
     },
     "metadata": {},
     "output_type": "display_data"
    },
    {
     "data": {
      "text/markdown": [
       "15. Keyword found in: as a result of the president’s direction and the vice president’s leadership, the \n",
       "nspc under the trump administration was able to coordinate a wide range of \n",
       "\n",
       "— 57 —\n",
       "\n",
       "2025 presidential transition project \n",
       "\f",
       "space policy reviews, **legislative** proposals, and regulatory reforms smoothly."
      ],
      "text/plain": [
       "<IPython.core.display.Markdown object>"
      ]
     },
     "metadata": {},
     "output_type": "display_data"
    },
    {
     "data": {
      "text/markdown": [
       "Sentiment of the context: POSITIVE (Score: 1.00)"
      ],
      "text/plain": [
       "<IPython.core.display.Markdown object>"
      ]
     },
     "metadata": {},
     "output_type": "display_data"
    },
    {
     "data": {
      "text/markdown": [
       "---"
      ],
      "text/plain": [
       "<IPython.core.display.Markdown object>"
      ]
     },
     "metadata": {},
     "output_type": "display_data"
    },
    {
     "data": {
      "text/markdown": [
       "16. Keyword found in: the vice president, as president of the \n",
       "\n",
       "— 63 —\n",
       "\n",
       "2025 presidential transition project \n",
       "\f",
       "senate, often serves as a presidential emissary to the senate and thus can be espe-\n",
       "cially helpful in securing passage of the president’s **legislative** agenda.\n",
       "\n"
      ],
      "text/plain": [
       "<IPython.core.display.Markdown object>"
      ]
     },
     "metadata": {},
     "output_type": "display_data"
    },
    {
     "data": {
      "text/markdown": [
       "Sentiment of the context: POSITIVE (Score: 1.00)"
      ],
      "text/plain": [
       "<IPython.core.display.Markdown object>"
      ]
     },
     "metadata": {},
     "output_type": "display_data"
    },
    {
     "data": {
      "text/markdown": [
       "---"
      ],
      "text/plain": [
       "<IPython.core.display.Markdown object>"
      ]
     },
     "metadata": {},
     "output_type": "display_data"
    },
    {
     "data": {
      "text/markdown": [
       "17. Keyword found in: this doctrine of dispa-\n",
       "rate impact could be ended **legislative**ly or at least narrowed through the regulatory \n",
       "process by a future administration."
      ],
      "text/plain": [
       "<IPython.core.display.Markdown object>"
      ]
     },
     "metadata": {},
     "output_type": "display_data"
    },
    {
     "data": {
      "text/markdown": [
       "Sentiment of the context: NEGATIVE (Score: 1.00)"
      ],
      "text/plain": [
       "<IPython.core.display.Markdown object>"
      ]
     },
     "metadata": {},
     "output_type": "display_data"
    },
    {
     "data": {
      "text/markdown": [
       "---"
      ],
      "text/plain": [
       "<IPython.core.display.Markdown object>"
      ]
     },
     "metadata": {},
     "output_type": "display_data"
    },
    {
     "data": {
      "text/markdown": [
       "18. Keyword found in: this effort not only would make the department \n",
       "more efficient, but also would support a **legislative** move to shrink or dismantle \n",
       "the department by showing that the agency can fulfill national security–critical \n",
       "functions without its current bloated bureaucracy.\n",
       "\n"
      ],
      "text/plain": [
       "<IPython.core.display.Markdown object>"
      ]
     },
     "metadata": {},
     "output_type": "display_data"
    },
    {
     "data": {
      "text/markdown": [
       "Sentiment of the context: NEGATIVE (Score: 0.97)"
      ],
      "text/plain": [
       "<IPython.core.display.Markdown object>"
      ]
     },
     "metadata": {},
     "output_type": "display_data"
    },
    {
     "data": {
      "text/markdown": [
       "---"
      ],
      "text/plain": [
       "<IPython.core.display.Markdown object>"
      ]
     },
     "metadata": {},
     "output_type": "display_data"
    },
    {
     "data": {
      "text/markdown": [
       "19. Keyword found in: additionally, uscis should create a criminal enforcement compo-\n",
       "nent within the agency to investigate immigration benefits fraud under title 8 \n",
       "(perhaps requiring additional **legislative** and regulatory authorities for the offi-\n",
       "cers themselves) and to prosecute cases through special assistant u.s. attorneys \n",
       "(sausas) with substantive knowledge in the field."
      ],
      "text/plain": [
       "<IPython.core.display.Markdown object>"
      ]
     },
     "metadata": {},
     "output_type": "display_data"
    },
    {
     "data": {
      "text/markdown": [
       "Sentiment of the context: NEGATIVE (Score: 0.99)"
      ],
      "text/plain": [
       "<IPython.core.display.Markdown object>"
      ]
     },
     "metadata": {},
     "output_type": "display_data"
    },
    {
     "data": {
      "text/markdown": [
       "---"
      ],
      "text/plain": [
       "<IPython.core.display.Markdown object>"
      ]
     },
     "metadata": {},
     "output_type": "display_data"
    },
    {
     "data": {
      "text/markdown": [
       "20. Keyword found in: the incoming administration should spearhead an immigration **legislative** \n",
       "agenda focused on creating a merit-based immigration system that rewards high-\n",
       "skilled aliens instead of the current system that favors extended family–based and \n",
       "luck-of-the-draw immigration."
      ],
      "text/plain": [
       "<IPython.core.display.Markdown object>"
      ]
     },
     "metadata": {},
     "output_type": "display_data"
    },
    {
     "data": {
      "text/markdown": [
       "Sentiment of the context: NEGATIVE (Score: 0.66)"
      ],
      "text/plain": [
       "<IPython.core.display.Markdown object>"
      ]
     },
     "metadata": {},
     "output_type": "display_data"
    },
    {
     "data": {
      "text/markdown": [
       "---"
      ],
      "text/plain": [
       "<IPython.core.display.Markdown object>"
      ]
     },
     "metadata": {},
     "output_type": "display_data"
    },
    {
     "data": {
      "text/markdown": [
       "21. Keyword found in: **legislative** proposals\n",
       " l title 42 authority in title 8."
      ],
      "text/plain": [
       "<IPython.core.display.Markdown object>"
      ]
     },
     "metadata": {},
     "output_type": "display_data"
    },
    {
     "data": {
      "text/markdown": [
       "Sentiment of the context: NEGATIVE (Score: 0.80)"
      ],
      "text/plain": [
       "<IPython.core.display.Markdown object>"
      ]
     },
     "metadata": {},
     "output_type": "display_data"
    },
    {
     "data": {
      "text/markdown": [
       "---"
      ],
      "text/plain": [
       "<IPython.core.display.Markdown object>"
      ]
     },
     "metadata": {},
     "output_type": "display_data"
    },
    {
     "data": {
      "text/markdown": [
       "22. Keyword found in: while congress should use its \n",
       "\n",
       "oversight authority to ensure that expedited removal is used to the fullest \n",
       "extent and followed to the letter of the law, other paths for border crossers \n",
       "should be included in a **legislative** package.\n",
       "\n"
      ],
      "text/plain": [
       "<IPython.core.display.Markdown object>"
      ]
     },
     "metadata": {},
     "output_type": "display_data"
    },
    {
     "data": {
      "text/markdown": [
       "Sentiment of the context: NEGATIVE (Score: 0.98)"
      ],
      "text/plain": [
       "<IPython.core.display.Markdown object>"
      ]
     },
     "metadata": {},
     "output_type": "display_data"
    },
    {
     "data": {
      "text/markdown": [
       "---"
      ],
      "text/plain": [
       "<IPython.core.display.Markdown object>"
      ]
     },
     "metadata": {},
     "output_type": "display_data"
    },
    {
     "data": {
      "text/markdown": [
       "23. Keyword found in: along with the **legislative** proposal, take \n",
       "\n",
       "regulatory action to limit the classes of aliens eligible for work authorization.\n",
       "\n"
      ],
      "text/plain": [
       "<IPython.core.display.Markdown object>"
      ]
     },
     "metadata": {},
     "output_type": "display_data"
    },
    {
     "data": {
      "text/markdown": [
       "Sentiment of the context: NEGATIVE (Score: 0.86)"
      ],
      "text/plain": [
       "<IPython.core.display.Markdown object>"
      ]
     },
     "metadata": {},
     "output_type": "display_data"
    },
    {
     "data": {
      "text/markdown": [
       "---"
      ],
      "text/plain": [
       "<IPython.core.display.Markdown object>"
      ]
     },
     "metadata": {},
     "output_type": "display_data"
    },
    {
     "data": {
      "text/markdown": [
       "24. Keyword found in: dhs responsibilities to work with \n",
       "congress have been split between the office of **legislative** affairs (ola) and ocfo. \n"
      ],
      "text/plain": [
       "<IPython.core.display.Markdown object>"
      ]
     },
     "metadata": {},
     "output_type": "display_data"
    },
    {
     "data": {
      "text/markdown": [
       "Sentiment of the context: NEGATIVE (Score: 0.99)"
      ],
      "text/plain": [
       "<IPython.core.display.Markdown object>"
      ]
     },
     "metadata": {},
     "output_type": "display_data"
    },
    {
     "data": {
      "text/markdown": [
       "---"
      ],
      "text/plain": [
       "<IPython.core.display.Markdown object>"
      ]
     },
     "metadata": {},
     "output_type": "display_data"
    },
    {
     "data": {
      "text/markdown": [
       "25. Keyword found in: office of **legislative** affairs (ola); office \n",
       "of public affairs (opa); and office of \n",
       "partnership and engagement (ope)\n",
       "\n",
       "dhs’s external communications function should be consolidated and reformed \n",
       "so that the president’s agenda can be implemented more effectively."
      ],
      "text/plain": [
       "<IPython.core.display.Markdown object>"
      ]
     },
     "metadata": {},
     "output_type": "display_data"
    },
    {
     "data": {
      "text/markdown": [
       "Sentiment of the context: NEGATIVE (Score: 0.98)"
      ],
      "text/plain": [
       "<IPython.core.display.Markdown object>"
      ]
     },
     "metadata": {},
     "output_type": "display_data"
    },
    {
     "data": {
      "text/markdown": [
       "---"
      ],
      "text/plain": [
       "<IPython.core.display.Markdown object>"
      ]
     },
     "metadata": {},
     "output_type": "display_data"
    },
    {
     "data": {
      "text/markdown": [
       "26. Keyword found in: this would also accomplish a \n",
       "needed dhs organizational and management reform to decrease the number of \n",
       "direct reports to the secretary.\n",
       "\n",
       "both public and **legislative** affairs staff in the components should report directly \n",
       "to their respective headquarters equivalent."
      ],
      "text/plain": [
       "<IPython.core.display.Markdown object>"
      ]
     },
     "metadata": {},
     "output_type": "display_data"
    },
    {
     "data": {
      "text/markdown": [
       "Sentiment of the context: NEGATIVE (Score: 0.99)"
      ],
      "text/plain": [
       "<IPython.core.display.Markdown object>"
      ]
     },
     "metadata": {},
     "output_type": "display_data"
    },
    {
     "data": {
      "text/markdown": [
       "---"
      ],
      "text/plain": [
       "<IPython.core.display.Markdown object>"
      ]
     },
     "metadata": {},
     "output_type": "display_data"
    },
    {
     "data": {
      "text/markdown": [
       "27. Keyword found in: to prevent congres-\n",
       "sional staff from answer shopping among hq ola, the dhs ocfo, and components, \n",
       "dhs **legislative** affairs appropriations staff should be moved from mgmt ocfo \n",
       "into ola."
      ],
      "text/plain": [
       "<IPython.core.display.Markdown object>"
      ]
     },
     "metadata": {},
     "output_type": "display_data"
    },
    {
     "data": {
      "text/markdown": [
       "Sentiment of the context: NEGATIVE (Score: 1.00)"
      ],
      "text/plain": [
       "<IPython.core.display.Markdown object>"
      ]
     },
     "metadata": {},
     "output_type": "display_data"
    },
    {
     "data": {
      "text/markdown": [
       "---"
      ],
      "text/plain": [
       "<IPython.core.display.Markdown object>"
      ]
     },
     "metadata": {},
     "output_type": "display_data"
    },
    {
     "data": {
      "text/markdown": [
       "28. Keyword found in: regarding components, budget/appropriations staff should move from \n",
       "component budget offices into component **legislative** affairs offices.\n",
       "\n"
      ],
      "text/plain": [
       "<IPython.core.display.Markdown object>"
      ]
     },
     "metadata": {},
     "output_type": "display_data"
    },
    {
     "data": {
      "text/markdown": [
       "Sentiment of the context: NEGATIVE (Score: 0.96)"
      ],
      "text/plain": [
       "<IPython.core.display.Markdown object>"
      ]
     },
     "metadata": {},
     "output_type": "display_data"
    },
    {
     "data": {
      "text/markdown": [
       "---"
      ],
      "text/plain": [
       "<IPython.core.display.Markdown object>"
      ]
     },
     "metadata": {},
     "output_type": "display_data"
    },
    {
     "data": {
      "text/markdown": [
       "29. Keyword found in: this will require particularly strong leadership of the department of state’s \n",
       "bureau of **legislative** affairs."
      ],
      "text/plain": [
       "<IPython.core.display.Markdown object>"
      ]
     },
     "metadata": {},
     "output_type": "display_data"
    },
    {
     "data": {
      "text/markdown": [
       "Sentiment of the context: POSITIVE (Score: 0.96)"
      ],
      "text/plain": [
       "<IPython.core.display.Markdown object>"
      ]
     },
     "metadata": {},
     "output_type": "display_data"
    },
    {
     "data": {
      "text/markdown": [
       "---"
      ],
      "text/plain": [
       "<IPython.core.display.Markdown object>"
      ]
     },
     "metadata": {},
     "output_type": "display_data"
    },
    {
     "data": {
      "text/markdown": [
       "30. Keyword found in: for example, under the bush administration’s initial **legislative** proposal, the \n",
       "cia director would have been under the “authority, direction, and control” of the \n",
       "dni and no longer the head of an autonomous agency."
      ],
      "text/plain": [
       "<IPython.core.display.Markdown object>"
      ]
     },
     "metadata": {},
     "output_type": "display_data"
    },
    {
     "data": {
      "text/markdown": [
       "Sentiment of the context: NEGATIVE (Score: 1.00)"
      ],
      "text/plain": [
       "<IPython.core.display.Markdown object>"
      ]
     },
     "metadata": {},
     "output_type": "display_data"
    },
    {
     "data": {
      "text/markdown": [
       "---"
      ],
      "text/plain": [
       "<IPython.core.display.Markdown object>"
      ]
     },
     "metadata": {},
     "output_type": "display_data"
    },
    {
     "data": {
      "text/markdown": [
       "31. Keyword found in: my ability to begin reversing that capitulation was \n",
       "accomplished solely because president trump made it repeatedly clear to the \n",
       "entire national security apparatus that he expected all intelligence matters to \n",
       "go through the dni.9\n",
       "\n",
       "— 203 —\n",
       "\n",
       "2025 presidential transition project \n",
       "\f",
       "to help further the **legislative** intent behind irtpa, dni ratcliffe advised \n",
       "during the transition of incoming biden dni avril haines that the dni should \n",
       "be the only cabinet-level intelligence official.10 while his recommendation was \n",
       "adopted and has corrected the previously allowed imbalance by making the dni \n",
       "the only cabinet official and head of the ic at the table, the odni’s effectiveness \n",
       "and direction leave much to be desired.\n",
       "\n"
      ],
      "text/plain": [
       "<IPython.core.display.Markdown object>"
      ]
     },
     "metadata": {},
     "output_type": "display_data"
    },
    {
     "data": {
      "text/markdown": [
       "Sentiment of the context: NEGATIVE (Score: 0.98)"
      ],
      "text/plain": [
       "<IPython.core.display.Markdown object>"
      ]
     },
     "metadata": {},
     "output_type": "display_data"
    },
    {
     "data": {
      "text/markdown": [
       "---"
      ],
      "text/plain": [
       "<IPython.core.display.Markdown object>"
      ]
     },
     "metadata": {},
     "output_type": "display_data"
    },
    {
     "data": {
      "text/markdown": [
       "32. Keyword found in: seeking a \n",
       "**legislative** solution therefore might carry with it more risks than benefits."
      ],
      "text/plain": [
       "<IPython.core.display.Markdown object>"
      ]
     },
     "metadata": {},
     "output_type": "display_data"
    },
    {
     "data": {
      "text/markdown": [
       "Sentiment of the context: NEGATIVE (Score: 1.00)"
      ],
      "text/plain": [
       "<IPython.core.display.Markdown object>"
      ]
     },
     "metadata": {},
     "output_type": "display_data"
    },
    {
     "data": {
      "text/markdown": [
       "---"
      ],
      "text/plain": [
       "<IPython.core.display.Markdown object>"
      ]
     },
     "metadata": {},
     "output_type": "display_data"
    },
    {
     "data": {
      "text/markdown": [
       "33. Keyword found in: the director \n",
       "should handpick qualified, properly cleared personnel for front-office and mana-\n",
       "gerial leadership positions, such as the dni’s chief of staff and heads of **legislative** \n",
       "affairs and strategic communications, to oversee those divisions with career ic \n",
       "staff reporting to them.\n",
       "\n"
      ],
      "text/plain": [
       "<IPython.core.display.Markdown object>"
      ]
     },
     "metadata": {},
     "output_type": "display_data"
    },
    {
     "data": {
      "text/markdown": [
       "Sentiment of the context: NEGATIVE (Score: 0.95)"
      ],
      "text/plain": [
       "<IPython.core.display.Markdown object>"
      ]
     },
     "metadata": {},
     "output_type": "display_data"
    },
    {
     "data": {
      "text/markdown": [
       "---"
      ],
      "text/plain": [
       "<IPython.core.display.Markdown object>"
      ]
     },
     "metadata": {},
     "output_type": "display_data"
    },
    {
     "data": {
      "text/markdown": [
       "34. Keyword found in: the senior advisor for \n",
       "brand management in the bureau for **legislative** and public affairs (lpa) (dis-\n",
       "cussed infra) should be a political appointee who is responsible for maximizing the \n",
       "visibility of u.s. assistance by enforcing branding policy on every grant, coopera-\n",
       "tive agreement, and contract."
      ],
      "text/plain": [
       "<IPython.core.display.Markdown object>"
      ]
     },
     "metadata": {},
     "output_type": "display_data"
    },
    {
     "data": {
      "text/markdown": [
       "Sentiment of the context: POSITIVE (Score: 0.79)"
      ],
      "text/plain": [
       "<IPython.core.display.Markdown object>"
      ]
     },
     "metadata": {},
     "output_type": "display_data"
    },
    {
     "data": {
      "text/markdown": [
       "---"
      ],
      "text/plain": [
       "<IPython.core.display.Markdown object>"
      ]
     },
     "metadata": {},
     "output_type": "display_data"
    },
    {
     "data": {
      "text/markdown": [
       "35. Keyword found in: bureau for **legislative** and public affairs."
      ],
      "text/plain": [
       "<IPython.core.display.Markdown object>"
      ]
     },
     "metadata": {},
     "output_type": "display_data"
    },
    {
     "data": {
      "text/markdown": [
       "Sentiment of the context: POSITIVE (Score: 0.74)"
      ],
      "text/plain": [
       "<IPython.core.display.Markdown object>"
      ]
     },
     "metadata": {},
     "output_type": "display_data"
    },
    {
     "data": {
      "text/markdown": [
       "---"
      ],
      "text/plain": [
       "<IPython.core.display.Markdown object>"
      ]
     },
     "metadata": {},
     "output_type": "display_data"
    },
    {
     "data": {
      "text/markdown": [
       "36. Keyword found in: the next conservative admin-\n",
       "istration  should  invest  no  more  than  10  percent  of  usaid’s  allocation  of \n",
       "administratively determined politically appointed positions in the bureau for \n",
       "**legislative** and public affairs."
      ],
      "text/plain": [
       "<IPython.core.display.Markdown object>"
      ]
     },
     "metadata": {},
     "output_type": "display_data"
    },
    {
     "data": {
      "text/markdown": [
       "Sentiment of the context: NEGATIVE (Score: 1.00)"
      ],
      "text/plain": [
       "<IPython.core.display.Markdown object>"
      ]
     },
     "metadata": {},
     "output_type": "display_data"
    },
    {
     "data": {
      "text/markdown": [
       "---"
      ],
      "text/plain": [
       "<IPython.core.display.Markdown object>"
      ]
     },
     "metadata": {},
     "output_type": "display_data"
    },
    {
     "data": {
      "text/markdown": [
       "37. Keyword found in: to rein \n",
       "in this “completely out of control” bureau and remind it of its place within—rather \n",
       "than at the top of—the doj hierarchy, hamilton writes that the fbi’s separate \n",
       "office of general counsel (with “approximately 300 attorneys”), separate office \n",
       "of **legislative** affairs, and separate office of public affairs should all be abolished. \n"
      ],
      "text/plain": [
       "<IPython.core.display.Markdown object>"
      ]
     },
     "metadata": {},
     "output_type": "display_data"
    },
    {
     "data": {
      "text/markdown": [
       "Sentiment of the context: NEGATIVE (Score: 1.00)"
      ],
      "text/plain": [
       "<IPython.core.display.Markdown object>"
      ]
     },
     "metadata": {},
     "output_type": "display_data"
    },
    {
     "data": {
      "text/markdown": [
       "---"
      ],
      "text/plain": [
       "<IPython.core.display.Markdown object>"
      ]
     },
     "metadata": {},
     "output_type": "display_data"
    },
    {
     "data": {
      "text/markdown": [
       "38. Keyword found in: former secretary of the department of housing and urban development dr. \n",
       "benjamin s. carson writes in chapter 15 that hud is beset with “mission creep” \n",
       "and regularly crosses the line into exercising quasi-**legislative** powers."
      ],
      "text/plain": [
       "<IPython.core.display.Markdown object>"
      ]
     },
     "metadata": {},
     "output_type": "display_data"
    },
    {
     "data": {
      "text/markdown": [
       "Sentiment of the context: NEGATIVE (Score: 0.98)"
      ],
      "text/plain": [
       "<IPython.core.display.Markdown object>"
      ]
     },
     "metadata": {},
     "output_type": "display_data"
    },
    {
     "data": {
      "text/markdown": [
       "---"
      ],
      "text/plain": [
       "<IPython.core.display.Markdown object>"
      ]
     },
     "metadata": {},
     "output_type": "display_data"
    },
    {
     "data": {
      "text/markdown": [
       "39. Keyword found in: l clarify the critical importance of efficiency to food affordability, and why a \n",
       "failure to recognize this fact especially hurts low-income households who \n",
       "spend a disproportionate share of after-tax income on food compared to \n",
       "higher-income households.23\n",
       "\n",
       "to accomplish these objectives, a new administration should announce its \n",
       "principles through an executive order, the usda should remove all references \n",
       "\n",
       "— 293 —\n",
       "\n",
       "2025 presidential transition project \n",
       "\f",
       "to transforming the food system on its web site and other department-dis-\n",
       "seminated material, and it should expressly and regularly communicate the \n",
       "principles informing the objectives listed above, as well as promote these prin-\n",
       "ciples through **legislative** efforts."
      ],
      "text/plain": [
       "<IPython.core.display.Markdown object>"
      ]
     },
     "metadata": {},
     "output_type": "display_data"
    },
    {
     "data": {
      "text/markdown": [
       "Sentiment of the context: NEGATIVE (Score: 0.98)"
      ],
      "text/plain": [
       "<IPython.core.display.Markdown object>"
      ]
     },
     "metadata": {},
     "output_type": "display_data"
    },
    {
     "data": {
      "text/markdown": [
       "---"
      ],
      "text/plain": [
       "<IPython.core.display.Markdown object>"
      ]
     },
     "metadata": {},
     "output_type": "display_data"
    },
    {
     "data": {
      "text/markdown": [
       "40. Keyword found in: this power is ripe for abuse—as could be \n",
       "expected with any slush fund—and it is a possible way to get around the farm bill \n",
       "process to achieve policy goals not secured during the **legislative** process.\n",
       "\n"
      ],
      "text/plain": [
       "<IPython.core.display.Markdown object>"
      ]
     },
     "metadata": {},
     "output_type": "display_data"
    },
    {
     "data": {
      "text/markdown": [
       "Sentiment of the context: NEGATIVE (Score: 1.00)"
      ],
      "text/plain": [
       "<IPython.core.display.Markdown object>"
      ]
     },
     "metadata": {},
     "output_type": "display_data"
    },
    {
     "data": {
      "text/markdown": [
       "---"
      ],
      "text/plain": [
       "<IPython.core.display.Markdown object>"
      ]
     },
     "metadata": {},
     "output_type": "display_data"
    },
    {
     "data": {
      "text/markdown": [
       "41. Keyword found in: — 294 —\n",
       "\n",
       "mandate for leadership: the conservative promise \n",
       "\f",
       " l promote **legislative** fixes to address abuse."
      ],
      "text/plain": [
       "<IPython.core.display.Markdown object>"
      ]
     },
     "metadata": {},
     "output_type": "display_data"
    },
    {
     "data": {
      "text/markdown": [
       "Sentiment of the context: POSITIVE (Score: 0.82)"
      ],
      "text/plain": [
       "<IPython.core.display.Markdown object>"
      ]
     },
     "metadata": {},
     "output_type": "display_data"
    },
    {
     "data": {
      "text/markdown": [
       "---"
      ],
      "text/plain": [
       "<IPython.core.display.Markdown object>"
      ]
     },
     "metadata": {},
     "output_type": "display_data"
    },
    {
     "data": {
      "text/markdown": [
       "42. Keyword found in: if congress needs to \n",
       "spend money to assist farmers, it has **legislative** tools, including the farm bill \n",
       "and the annual appropriations process, to do so in a timely fashion."
      ],
      "text/plain": [
       "<IPython.core.display.Markdown object>"
      ]
     },
     "metadata": {},
     "output_type": "display_data"
    },
    {
     "data": {
      "text/markdown": [
       "Sentiment of the context: POSITIVE (Score: 1.00)"
      ],
      "text/plain": [
       "<IPython.core.display.Markdown object>"
      ]
     },
     "metadata": {},
     "output_type": "display_data"
    },
    {
     "data": {
      "text/markdown": [
       "---"
      ],
      "text/plain": [
       "<IPython.core.display.Markdown object>"
      ]
     },
     "metadata": {},
     "output_type": "display_data"
    },
    {
     "data": {
      "text/markdown": [
       "43. Keyword found in: the program costs consumers as \n",
       "much as $3.7 billion a year.44\n",
       "\n",
       "when it comes to reforming subsidy programs, the next administration will \n",
       "primarily have to look to **legislative** solutions."
      ],
      "text/plain": [
       "<IPython.core.display.Markdown object>"
      ]
     },
     "metadata": {},
     "output_type": "display_data"
    },
    {
     "data": {
      "text/markdown": [
       "Sentiment of the context: NEGATIVE (Score: 1.00)"
      ],
      "text/plain": [
       "<IPython.core.display.Markdown object>"
      ]
     },
     "metadata": {},
     "output_type": "display_data"
    },
    {
     "data": {
      "text/markdown": [
       "---"
      ],
      "text/plain": [
       "<IPython.core.display.Markdown object>"
      ]
     },
     "metadata": {},
     "output_type": "display_data"
    },
    {
     "data": {
      "text/markdown": [
       "44. Keyword found in: in its recently released report \n",
       "identifying options to reduce the federal deficit, cbo found that reducing \n",
       "the premium subsidy to 40 percent would save $20.9 billion over 10 years.51\n",
       "\n",
       "beyond these **legislative** reforms, the next administration should:\n",
       "\n",
       " l communicate to congress the necessity of transparency and a genuine \n",
       "reform process."
      ],
      "text/plain": [
       "<IPython.core.display.Markdown object>"
      ]
     },
     "metadata": {},
     "output_type": "display_data"
    },
    {
     "data": {
      "text/markdown": [
       "Sentiment of the context: NEGATIVE (Score: 0.95)"
      ],
      "text/plain": [
       "<IPython.core.display.Markdown object>"
      ]
     },
     "metadata": {},
     "output_type": "display_data"
    },
    {
     "data": {
      "text/markdown": [
       "---"
      ],
      "text/plain": [
       "<IPython.core.display.Markdown object>"
      ]
     },
     "metadata": {},
     "output_type": "display_data"
    },
    {
     "data": {
      "text/markdown": [
       "45. Keyword found in: future generations, be they the descendants of the landowner or new residents, \n",
       "are bound by those conditions.\n",
       "\n",
       "ecosystems and topography naturally change over time, but without **legislative** \n",
       "\n",
       "change, easement requirements will not.\n"
      ],
      "text/plain": [
       "<IPython.core.display.Markdown object>"
      ]
     },
     "metadata": {},
     "output_type": "display_data"
    },
    {
     "data": {
      "text/markdown": [
       "Sentiment of the context: NEGATIVE (Score: 0.85)"
      ],
      "text/plain": [
       "<IPython.core.display.Markdown object>"
      ]
     },
     "metadata": {},
     "output_type": "display_data"
    },
    {
     "data": {
      "text/markdown": [
       "---"
      ],
      "text/plain": [
       "<IPython.core.display.Markdown object>"
      ]
     },
     "metadata": {},
     "output_type": "display_data"
    },
    {
     "data": {
      "text/markdown": [
       "46. Keyword found in: additional bureaus and offices\n",
       "\n",
       "for those attorneys, accountants, experts, and specialists in the department's \n",
       "remaining offices subject to closure whose positions might nevertheless be a key \n",
       "component of serving the mission—positions that might include the office of the \n",
       "secretary/deputy secretary, office of the undersecretary, office of the general \n",
       "counsel, office of the inspector general, office of finance and operations, office of \n",
       "the chief information officer, office of communications and outreach, and office \n",
       "of **legislative** and congressional affairs—the opportunity to join other agencies \n",
       "based on their expertise and the needs of other agencies should be made available. \n"
      ],
      "text/plain": [
       "<IPython.core.display.Markdown object>"
      ]
     },
     "metadata": {},
     "output_type": "display_data"
    },
    {
     "data": {
      "text/markdown": [
       "Sentiment of the context: POSITIVE (Score: 0.98)"
      ],
      "text/plain": [
       "<IPython.core.display.Markdown object>"
      ]
     },
     "metadata": {},
     "output_type": "display_data"
    },
    {
     "data": {
      "text/markdown": [
       "---"
      ],
      "text/plain": [
       "<IPython.core.display.Markdown object>"
      ]
     },
     "metadata": {},
     "output_type": "display_data"
    },
    {
     "data": {
      "text/markdown": [
       "47. Keyword found in: the new administration should take the following steps:\n",
       "\n",
       " l work with congress to use the earliest available **legislative** vehicle \n",
       "to prohibit the department from using any appropriations or from \n",
       "otherwise enforcing any final regulations under title ix promulgated \n",
       "by the department during the prior administration.\n",
       "\n",
       " "
      ],
      "text/plain": [
       "<IPython.core.display.Markdown object>"
      ]
     },
     "metadata": {},
     "output_type": "display_data"
    },
    {
     "data": {
      "text/markdown": [
       "Sentiment of the context: NEGATIVE (Score: 0.99)"
      ],
      "text/plain": [
       "<IPython.core.display.Markdown object>"
      ]
     },
     "metadata": {},
     "output_type": "display_data"
    },
    {
     "data": {
      "text/markdown": [
       "---"
      ],
      "text/plain": [
       "<IPython.core.display.Markdown object>"
      ]
     },
     "metadata": {},
     "output_type": "display_data"
    },
    {
     "data": {
      "text/markdown": [
       "1. Keyword found in: epa’s scientific enterprise, \n",
       "including ord, has rightly been criticized for decades as precautionary, bloated, \n",
       "unaccountable, closed, outcome-driven, hostile to public and **legislative** input, and \n",
       "inclined to pursue political rather than purely scientific goals.\n",
       "\n"
      ],
      "text/plain": [
       "<IPython.core.display.Markdown object>"
      ]
     },
     "metadata": {},
     "output_type": "display_data"
    },
    {
     "data": {
      "text/markdown": [
       "Sentiment of the context: NEGATIVE (Score: 1.00)"
      ],
      "text/plain": [
       "<IPython.core.display.Markdown object>"
      ]
     },
     "metadata": {},
     "output_type": "display_data"
    },
    {
     "data": {
      "text/markdown": [
       "---"
      ],
      "text/plain": [
       "<IPython.core.display.Markdown object>"
      ]
     },
     "metadata": {},
     "output_type": "display_data"
    },
    {
     "data": {
      "text/markdown": [
       "2. Keyword found in: **legislative** reforms\n",
       "\n",
       "while some reforms can be achieved administratively (especially in areas where \n",
       "epa clearly lacks congressional authorization for its activities), congress should \n",
       "prioritize several epa science activity reforms:\n",
       "\n",
       " l use of the congressional review act for congress to disapprove of epa \n",
       "\n",
       "regulations and other quasi-regulatory actions and prohibit “substantially \n",
       "similar” actions in the future.\n",
       "\n",
       " "
      ],
      "text/plain": [
       "<IPython.core.display.Markdown object>"
      ]
     },
     "metadata": {},
     "output_type": "display_data"
    },
    {
     "data": {
      "text/markdown": [
       "Sentiment of the context: NEGATIVE (Score: 0.98)"
      ],
      "text/plain": [
       "<IPython.core.display.Markdown object>"
      ]
     },
     "metadata": {},
     "output_type": "display_data"
    },
    {
     "data": {
      "text/markdown": [
       "---"
      ],
      "text/plain": [
       "<IPython.core.display.Markdown object>"
      ]
     },
     "metadata": {},
     "output_type": "display_data"
    },
    {
     "data": {
      "text/markdown": [
       "3. Keyword found in: **legislative** proposals\n",
       " l remove restrictions on physician-owned hospitals."
      ],
      "text/plain": [
       "<IPython.core.display.Markdown object>"
      ]
     },
     "metadata": {},
     "output_type": "display_data"
    },
    {
     "data": {
      "text/markdown": [
       "Sentiment of the context: POSITIVE (Score: 0.74)"
      ],
      "text/plain": [
       "<IPython.core.display.Markdown object>"
      ]
     },
     "metadata": {},
     "output_type": "display_data"
    },
    {
     "data": {
      "text/markdown": [
       "---"
      ],
      "text/plain": [
       "<IPython.core.display.Markdown object>"
      ]
     },
     "metadata": {},
     "output_type": "display_data"
    },
    {
     "data": {
      "text/markdown": [
       "4. Keyword found in: hhs should create a list of criteria for evaluating the sort of curriculum \n",
       "that should be selected for any sex education grant programs, both at oash and \n",
       "at acf, with the aim of promoting optimal health and adhering to the **legislative** \n",
       "language of each program.\n",
       "\n"
      ],
      "text/plain": [
       "<IPython.core.display.Markdown object>"
      ]
     },
     "metadata": {},
     "output_type": "display_data"
    },
    {
     "data": {
      "text/markdown": [
       "Sentiment of the context: NEGATIVE (Score: 0.89)"
      ],
      "text/plain": [
       "<IPython.core.display.Markdown object>"
      ]
     },
     "metadata": {},
     "output_type": "display_data"
    },
    {
     "data": {
      "text/markdown": [
       "---"
      ],
      "text/plain": [
       "<IPython.core.display.Markdown object>"
      ]
     },
     "metadata": {},
     "output_type": "display_data"
    },
    {
     "data": {
      "text/markdown": [
       "5. Keyword found in: the title x family planning program should be reframed with a focus \n",
       "on better education around fertility awareness and holistic family planning and a \n",
       "deputy assistant secretary for population affairs that understands the program \n",
       "and is able to work within its **legislative** framework (ideally, an md)."
      ],
      "text/plain": [
       "<IPython.core.display.Markdown object>"
      ]
     },
     "metadata": {},
     "output_type": "display_data"
    },
    {
     "data": {
      "text/markdown": [
       "Sentiment of the context: POSITIVE (Score: 0.99)"
      ],
      "text/plain": [
       "<IPython.core.display.Markdown object>"
      ]
     },
     "metadata": {},
     "output_type": "display_data"
    },
    {
     "data": {
      "text/markdown": [
       "---"
      ],
      "text/plain": [
       "<IPython.core.display.Markdown object>"
      ]
     },
     "metadata": {},
     "output_type": "display_data"
    },
    {
     "data": {
      "text/markdown": [
       "6. Keyword found in: this can be pursued through regulations and **legislative** reforms \n",
       "that seek to strengthen work requirements, limit the period during which house-\n",
       "holds are eligible for housing benefits, and add flexibility to rent payment terms \n",
       "to facilitate the movement of households toward self-sufficiency.\n",
       "\n"
      ],
      "text/plain": [
       "<IPython.core.display.Markdown object>"
      ]
     },
     "metadata": {},
     "output_type": "display_data"
    },
    {
     "data": {
      "text/markdown": [
       "Sentiment of the context: POSITIVE (Score: 0.92)"
      ],
      "text/plain": [
       "<IPython.core.display.Markdown object>"
      ]
     },
     "metadata": {},
     "output_type": "display_data"
    },
    {
     "data": {
      "text/markdown": [
       "---"
      ],
      "text/plain": [
       "<IPython.core.display.Markdown object>"
      ]
     },
     "metadata": {},
     "output_type": "display_data"
    },
    {
     "data": {
      "text/markdown": [
       "7. Keyword found in: in the same manner, congress should prioritize any and all **legislative** support \n",
       "for the single-family home."
      ],
      "text/plain": [
       "<IPython.core.display.Markdown object>"
      ]
     },
     "metadata": {},
     "output_type": "display_data"
    },
    {
     "data": {
      "text/markdown": [
       "Sentiment of the context: NEGATIVE (Score: 0.95)"
      ],
      "text/plain": [
       "<IPython.core.display.Markdown object>"
      ]
     },
     "metadata": {},
     "output_type": "display_data"
    },
    {
     "data": {
      "text/markdown": [
       "---"
      ],
      "text/plain": [
       "<IPython.core.display.Markdown object>"
      ]
     },
     "metadata": {},
     "output_type": "display_data"
    },
    {
     "data": {
      "text/markdown": [
       "8. Keyword found in: additionally, some needed \n",
       "reforms will not be possible without **legislative** changes from congress."
      ],
      "text/plain": [
       "<IPython.core.display.Markdown object>"
      ]
     },
     "metadata": {},
     "output_type": "display_data"
    },
    {
     "data": {
      "text/markdown": [
       "Sentiment of the context: POSITIVE (Score: 0.99)"
      ],
      "text/plain": [
       "<IPython.core.display.Markdown object>"
      ]
     },
     "metadata": {},
     "output_type": "display_data"
    },
    {
     "data": {
      "text/markdown": [
       "---"
      ],
      "text/plain": [
       "<IPython.core.display.Markdown object>"
      ]
     },
     "metadata": {},
     "output_type": "display_data"
    },
    {
     "data": {
      "text/markdown": [
       "9. Keyword found in: similarly, the fbi does not need its own \n",
       "office of congressional affairs separate and apart from the doj office of \n",
       "**legislative** affairs, nor does it need its own office of public affairs.\n",
       "\n",
       " "
      ],
      "text/plain": [
       "<IPython.core.display.Markdown object>"
      ]
     },
     "metadata": {},
     "output_type": "display_data"
    },
    {
     "data": {
      "text/markdown": [
       "Sentiment of the context: POSITIVE (Score: 0.57)"
      ],
      "text/plain": [
       "<IPython.core.display.Markdown object>"
      ]
     },
     "metadata": {},
     "output_type": "display_data"
    },
    {
     "data": {
      "text/markdown": [
       "---"
      ],
      "text/plain": [
       "<IPython.core.display.Markdown object>"
      ]
     },
     "metadata": {},
     "output_type": "display_data"
    },
    {
     "data": {
      "text/markdown": [
       "10. Keyword found in: l\n",
       "\n",
       "submit a **legislative** proposal to congress to eliminate the 10-year \n",
       "term for the director."
      ],
      "text/plain": [
       "<IPython.core.display.Markdown object>"
      ]
     },
     "metadata": {},
     "output_type": "display_data"
    },
    {
     "data": {
      "text/markdown": [
       "Sentiment of the context: NEGATIVE (Score: 0.97)"
      ],
      "text/plain": [
       "<IPython.core.display.Markdown object>"
      ]
     },
     "metadata": {},
     "output_type": "display_data"
    },
    {
     "data": {
      "text/markdown": [
       "---"
      ],
      "text/plain": [
       "<IPython.core.display.Markdown object>"
      ]
     },
     "metadata": {},
     "output_type": "display_data"
    },
    {
     "data": {
      "text/markdown": [
       "11. Keyword found in: to ensure prompt political accountability and to rein in perceived \n",
       "or actual abuses, the next conservative administration should seek a \n",
       "**legislative** change to align the fbi director’s position with those of the \n",
       "heads of all other major departments and agencies.\n",
       "\n"
      ],
      "text/plain": [
       "<IPython.core.display.Markdown object>"
      ]
     },
     "metadata": {},
     "output_type": "display_data"
    },
    {
     "data": {
      "text/markdown": [
       "Sentiment of the context: NEGATIVE (Score: 0.99)"
      ],
      "text/plain": [
       "<IPython.core.display.Markdown object>"
      ]
     },
     "metadata": {},
     "output_type": "display_data"
    },
    {
     "data": {
      "text/markdown": [
       "---"
      ],
      "text/plain": [
       "<IPython.core.display.Markdown object>"
      ]
     },
     "metadata": {},
     "output_type": "display_data"
    },
    {
     "data": {
      "text/markdown": [
       "12. Keyword found in: at the same time, the doj must ensure that its line \n",
       "\n",
       "— 553 —\n",
       "\n",
       "2025 presidential transition project \n",
       "\f",
       "attorneys are consistently using the tools at their disposal in cases with \n",
       "violent offenders, including pursuing mandatory minimum sentences under \n",
       "the armed career criminal act (acca).43 the department should also \n",
       "support **legislative** efforts to provide further tools, such as the restoring the \n",
       "armed career criminal act, which senators tom cotton (r–ar), marsha \n",
       "blackburn (r–tn), and cindy hyde-smith (r–ms) introduced in 2021 in \n",
       "response to u.s. supreme court decisions neutering the acca.44\n",
       "\n",
       " l enforce the death penalty where appropriate and applicable."
      ],
      "text/plain": [
       "<IPython.core.display.Markdown object>"
      ]
     },
     "metadata": {},
     "output_type": "display_data"
    },
    {
     "data": {
      "text/markdown": [
       "Sentiment of the context: POSITIVE (Score: 0.64)"
      ],
      "text/plain": [
       "<IPython.core.display.Markdown object>"
      ]
     },
     "metadata": {},
     "output_type": "display_data"
    },
    {
     "data": {
      "text/markdown": [
       "---"
      ],
      "text/plain": [
       "<IPython.core.display.Markdown object>"
      ]
     },
     "metadata": {},
     "output_type": "display_data"
    },
    {
     "data": {
      "text/markdown": [
       "13. Keyword found in: it is this obligation that is the \n",
       "foundation of the separation of powers.\n",
       "\n",
       "— 559 —\n",
       "\n",
       "2025 presidential transition project \n",
       "\f",
       "the next conservative administration should embrace the constitution and \n",
       "understand the obligation of the executive branch to use its independent resources \n",
       "and authorities to restrain the excesses of both the **legislative** and judicial branches. \n"
      ],
      "text/plain": [
       "<IPython.core.display.Markdown object>"
      ]
     },
     "metadata": {},
     "output_type": "display_data"
    },
    {
     "data": {
      "text/markdown": [
       "Sentiment of the context: POSITIVE (Score: 0.98)"
      ],
      "text/plain": [
       "<IPython.core.display.Markdown object>"
      ]
     },
     "metadata": {},
     "output_type": "display_data"
    },
    {
     "data": {
      "text/markdown": [
       "---"
      ],
      "text/plain": [
       "<IPython.core.display.Markdown object>"
      ]
     },
     "metadata": {},
     "output_type": "display_data"
    },
    {
     "data": {
      "text/markdown": [
       "14. Keyword found in: additionally, given the interplay of function between the office of **legislative** \n",
       "affairs (ola) and the office of public affairs, as well as the fact that the assistant \n",
       "attorney general for the ola is a senate-confirmed position, the two offices should \n",
       "be folded into one for more efficiency and proper coordination."
      ],
      "text/plain": [
       "<IPython.core.display.Markdown object>"
      ]
     },
     "metadata": {},
     "output_type": "display_data"
    },
    {
     "data": {
      "text/markdown": [
       "Sentiment of the context: NEGATIVE (Score: 1.00)"
      ],
      "text/plain": [
       "<IPython.core.display.Markdown object>"
      ]
     },
     "metadata": {},
     "output_type": "display_data"
    },
    {
     "data": {
      "text/markdown": [
       "---"
      ],
      "text/plain": [
       "<IPython.core.display.Markdown object>"
      ]
     },
     "metadata": {},
     "output_type": "display_data"
    },
    {
     "data": {
      "text/markdown": [
       "15. Keyword found in: under an office \n",
       "of public and **legislative** affairs, the assistant attorney general’s portfolio would \n",
       "encompass both, with one director/deputy for public affairs and one director/\n",
       "deputy for **legislative** affairs.\n",
       "\n"
      ],
      "text/plain": [
       "<IPython.core.display.Markdown object>"
      ]
     },
     "metadata": {},
     "output_type": "display_data"
    },
    {
     "data": {
      "text/markdown": [
       "Sentiment of the context: POSITIVE (Score: 0.94)"
      ],
      "text/plain": [
       "<IPython.core.display.Markdown object>"
      ]
     },
     "metadata": {},
     "output_type": "display_data"
    },
    {
     "data": {
      "text/markdown": [
       "---"
      ],
      "text/plain": [
       "<IPython.core.display.Markdown object>"
      ]
     },
     "metadata": {},
     "output_type": "display_data"
    },
    {
     "data": {
      "text/markdown": [
       "16. Keyword found in: should it continue to be responsible for assisting with \n",
       "judicial nominations, or should that function be assigned to the office of \n",
       "**legislative** affairs, which interacts with congress on a daily basis?\n",
       "\n",
       "pursuing **legislative** changes for assistant united states attorneys’ \n",
       "compensation."
      ],
      "text/plain": [
       "<IPython.core.display.Markdown object>"
      ]
     },
     "metadata": {},
     "output_type": "display_data"
    },
    {
     "data": {
      "text/markdown": [
       "Sentiment of the context: NEGATIVE (Score: 1.00)"
      ],
      "text/plain": [
       "<IPython.core.display.Markdown object>"
      ]
     },
     "metadata": {},
     "output_type": "display_data"
    },
    {
     "data": {
      "text/markdown": [
       "---"
      ],
      "text/plain": [
       "<IPython.core.display.Markdown object>"
      ]
     },
     "metadata": {},
     "output_type": "display_data"
    },
    {
     "data": {
      "text/markdown": [
       "17. Keyword found in: political leadership in a new conservative administration should:\n",
       "\n",
       " l\n",
       "\n",
       "support like-minded countries as candidates for leadership in the world \n",
       "intellectual property organization and build strong relationships with \n",
       "international partners to strengthen intellectual property rights.\n",
       "\n",
       " l re-examine patent eligibility requirements in section 101 of the patent act7 \n",
       "and support internal and/or **legislative** reforms to enable u.s. leadership \n",
       "in critical and emerging technologies such as quantum computing, 5g, and \n",
       "artificial intelligence.\n",
       "\n",
       " "
      ],
      "text/plain": [
       "<IPython.core.display.Markdown object>"
      ]
     },
     "metadata": {},
     "output_type": "display_data"
    },
    {
     "data": {
      "text/markdown": [
       "Sentiment of the context: POSITIVE (Score: 1.00)"
      ],
      "text/plain": [
       "<IPython.core.display.Markdown object>"
      ]
     },
     "metadata": {},
     "output_type": "display_data"
    },
    {
     "data": {
      "text/markdown": [
       "---"
      ],
      "text/plain": [
       "<IPython.core.display.Markdown object>"
      ]
     },
     "metadata": {},
     "output_type": "display_data"
    },
    {
     "data": {
      "text/markdown": [
       "18. Keyword found in: treasury should take the lead in the next president’s \n",
       "**legislative** vision guided by the following principles:\n",
       "\n",
       " l\n",
       "\n",
       "fannie mae and freddie mac (both gses) must he wound down in an \n",
       "orderly manner.\n",
       "\n",
       " "
      ],
      "text/plain": [
       "<IPython.core.display.Markdown object>"
      ]
     },
     "metadata": {},
     "output_type": "display_data"
    },
    {
     "data": {
      "text/markdown": [
       "Sentiment of the context: NEGATIVE (Score: 0.75)"
      ],
      "text/plain": [
       "<IPython.core.display.Markdown object>"
      ]
     },
     "metadata": {},
     "output_type": "display_data"
    },
    {
     "data": {
      "text/markdown": [
       "---"
      ],
      "text/plain": [
       "<IPython.core.display.Markdown object>"
      ]
     },
     "metadata": {},
     "output_type": "display_data"
    },
    {
     "data": {
      "text/markdown": [
       "19. Keyword found in: it also \n",
       "can support **legislative** initiatives that would help sba to focus on its core statutory \n",
       "activities such as capital access, federal contracting opportunities, and regulatory \n",
       "advocacy."
      ],
      "text/plain": [
       "<IPython.core.display.Markdown object>"
      ]
     },
     "metadata": {},
     "output_type": "display_data"
    },
    {
     "data": {
      "text/markdown": [
       "Sentiment of the context: POSITIVE (Score: 0.99)"
      ],
      "text/plain": [
       "<IPython.core.display.Markdown object>"
      ]
     },
     "metadata": {},
     "output_type": "display_data"
    },
    {
     "data": {
      "text/markdown": [
       "---"
      ],
      "text/plain": [
       "<IPython.core.display.Markdown object>"
      ]
     },
     "metadata": {},
     "output_type": "display_data"
    },
    {
     "data": {
      "text/markdown": [
       "20. Keyword found in: in summary, passage of the usrta would go a long way toward leveling the \n",
       "playing field for american farmers, ranchers, manufacturers, and workers who are \n",
       "now forced to compete in an intrinsically unfair, unbalanced, and nonreciprocal \n",
       "wto-mfn system.\n",
       "\n",
       "nor is the usrta necessarily the only possible **legislative** way to address this \n",
       "issue."
      ],
      "text/plain": [
       "<IPython.core.display.Markdown object>"
      ]
     },
     "metadata": {},
     "output_type": "display_data"
    },
    {
     "data": {
      "text/markdown": [
       "Sentiment of the context: NEGATIVE (Score: 1.00)"
      ],
      "text/plain": [
       "<IPython.core.display.Markdown object>"
      ]
     },
     "metadata": {},
     "output_type": "display_data"
    },
    {
     "data": {
      "text/markdown": [
       "---"
      ],
      "text/plain": [
       "<IPython.core.display.Markdown object>"
      ]
     },
     "metadata": {},
     "output_type": "display_data"
    },
    {
     "data": {
      "text/markdown": [
       "21. Keyword found in: in addition to taking \n",
       "unilateral action, carr says, the fcc should work with congress on **legislative** \n",
       "changes to ensure that “internet companies no longer have carte blanche to censor \n",
       "protected speech while maintaining their section 230 protections.”\n",
       "\n"
      ],
      "text/plain": [
       "<IPython.core.display.Markdown object>"
      ]
     },
     "metadata": {},
     "output_type": "display_data"
    },
    {
     "data": {
      "text/markdown": [
       "Sentiment of the context: POSITIVE (Score: 0.75)"
      ],
      "text/plain": [
       "<IPython.core.display.Markdown object>"
      ]
     },
     "metadata": {},
     "output_type": "display_data"
    },
    {
     "data": {
      "text/markdown": [
       "---"
      ],
      "text/plain": [
       "<IPython.core.display.Markdown object>"
      ]
     },
     "metadata": {},
     "output_type": "display_data"
    },
    {
     "data": {
      "text/markdown": [
       "22. Keyword found in: these include an office of general counsel, office of inspector general, office of \n",
       "**legislative** affairs, media bureau, wireless telecommunications bureau, wireline \n",
       "competition bureau, enforcement bureau, and more.12\n",
       "\n",
       "high-profile fcc matters."
      ],
      "text/plain": [
       "<IPython.core.display.Markdown object>"
      ]
     },
     "metadata": {},
     "output_type": "display_data"
    },
    {
     "data": {
      "text/markdown": [
       "Sentiment of the context: POSITIVE (Score: 0.99)"
      ],
      "text/plain": [
       "<IPython.core.display.Markdown object>"
      ]
     },
     "metadata": {},
     "output_type": "display_data"
    },
    {
     "data": {
      "text/markdown": [
       "---"
      ],
      "text/plain": [
       "<IPython.core.display.Markdown object>"
      ]
     },
     "metadata": {},
     "output_type": "display_data"
    },
    {
     "data": {
      "text/markdown": [
       "23. Keyword found in: — 864 —\n",
       "\n",
       "mandate for leadership: the conservative promise \n",
       "\f",
       " l as a **legislative** matter and given this abuse, the president should \n",
       "seriously consider recommending that congress amend feca to \n",
       "remove the agency’s independent litigating authority and rely on the \n",
       "department of justice to handle all litigation involving the fec.\n",
       "\n"
      ],
      "text/plain": [
       "<IPython.core.display.Markdown object>"
      ]
     },
     "metadata": {},
     "output_type": "display_data"
    },
    {
     "data": {
      "text/markdown": [
       "Sentiment of the context: NEGATIVE (Score: 0.99)"
      ],
      "text/plain": [
       "<IPython.core.display.Markdown object>"
      ]
     },
     "metadata": {},
     "output_type": "display_data"
    },
    {
     "data": {
      "text/markdown": [
       "---"
      ],
      "text/plain": [
       "<IPython.core.display.Markdown object>"
      ]
     },
     "metadata": {},
     "output_type": "display_data"
    },
    {
     "data": {
      "text/markdown": [
       "24. Keyword found in: **legislative** changes."
      ],
      "text/plain": [
       "<IPython.core.display.Markdown object>"
      ]
     },
     "metadata": {},
     "output_type": "display_data"
    },
    {
     "data": {
      "text/markdown": [
       "Sentiment of the context: POSITIVE (Score: 0.99)"
      ],
      "text/plain": [
       "<IPython.core.display.Markdown object>"
      ]
     },
     "metadata": {},
     "output_type": "display_data"
    },
    {
     "data": {
      "text/markdown": [
       "---"
      ],
      "text/plain": [
       "<IPython.core.display.Markdown object>"
      ]
     },
     "metadata": {},
     "output_type": "display_data"
    },
    {
     "data": {
      "text/markdown": [
       "25. Keyword found in: while a president’s ability to make any changes at an \n",
       "independent agency like the fec is limited,13 the president has the ability to make \n",
       "**legislative** recommendations to congress."
      ],
      "text/plain": [
       "<IPython.core.display.Markdown object>"
      ]
     },
     "metadata": {},
     "output_type": "display_data"
    },
    {
     "data": {
      "text/markdown": [
       "Sentiment of the context: POSITIVE (Score: 1.00)"
      ],
      "text/plain": [
       "<IPython.core.display.Markdown object>"
      ]
     },
     "metadata": {},
     "output_type": "display_data"
    },
    {
     "data": {
      "text/markdown": [
       "---"
      ],
      "text/plain": [
       "<IPython.core.display.Markdown object>"
      ]
     },
     "metadata": {},
     "output_type": "display_data"
    },
    {
     "data": {
      "text/markdown": [
       "26. Keyword found in: l the president should prioritize nominations to the fec once \n",
       "\n",
       "commissioners reach the end of their terms and should be assisted \n",
       "by **legislative** language either eliminating or limiting overstays to \n",
       "a reasonable period of time to permit the vetting, nomination, and \n",
       "confirmation of successors.\n",
       "\n",
       " "
      ],
      "text/plain": [
       "<IPython.core.display.Markdown object>"
      ]
     },
     "metadata": {},
     "output_type": "display_data"
    },
    {
     "data": {
      "text/markdown": [
       "Sentiment of the context: NEGATIVE (Score: 0.99)"
      ],
      "text/plain": [
       "<IPython.core.display.Markdown object>"
      ]
     },
     "metadata": {},
     "output_type": "display_data"
    },
    {
     "data": {
      "text/markdown": [
       "---"
      ],
      "text/plain": [
       "<IPython.core.display.Markdown object>"
      ]
     },
     "metadata": {},
     "output_type": "display_data"
    }
   ],
   "source": [
    "# Insert your keyword here to get a list of the context of the word and what the sentiment of the keyword context is\n",
    "keyword = \"legislative\"\n",
    "\n",
    "for chunk in process_in_chunks(text):\n",
    "    find_keyword_and_analyze_context(chunk, keyword)"
   ]
  },
  {
   "cell_type": "code",
   "execution_count": 8,
   "id": "8cc5688e-7c38-4856-a8ae-ea87cbcf8f4c",
   "metadata": {},
   "outputs": [
    {
     "data": {
      "text/markdown": [
       "1. Keyword found in: the nsc staff will need to **consolidat**e the functions of both the nsc and the \n",
       "homeland security council (hsc), incorporate the recently established office of \n",
       "the national cyber director, and evaluate the required regional and functional \n",
       "directorates."
      ],
      "text/plain": [
       "<IPython.core.display.Markdown object>"
      ]
     },
     "metadata": {},
     "output_type": "display_data"
    },
    {
     "data": {
      "text/markdown": [
       "Sentiment of the context: NEGATIVE (Score: 0.97)"
      ],
      "text/plain": [
       "<IPython.core.display.Markdown object>"
      ]
     },
     "metadata": {},
     "output_type": "display_data"
    },
    {
     "data": {
      "text/markdown": [
       "---"
      ],
      "text/plain": [
       "<IPython.core.display.Markdown object>"
      ]
     },
     "metadata": {},
     "output_type": "display_data"
    },
    {
     "data": {
      "text/markdown": [
       "2. Keyword found in: he esti-\n",
       "mates that there are perhaps 50 or more levels of impenetrable bureaucracy and no \n",
       "way other than imperfect performance appraisals to communicate between them.22\n",
       "the trump administration proposed some possible **consolidat**ions, but these \n",
       "were not received favorably in congress, whose approval is necessary for most such \n",
       "proposals."
      ],
      "text/plain": [
       "<IPython.core.display.Markdown object>"
      ]
     },
     "metadata": {},
     "output_type": "display_data"
    },
    {
     "data": {
      "text/markdown": [
       "Sentiment of the context: NEGATIVE (Score: 1.00)"
      ],
      "text/plain": [
       "<IPython.core.display.Markdown object>"
      ]
     },
     "metadata": {},
     "output_type": "display_data"
    },
    {
     "data": {
      "text/markdown": [
       "---"
      ],
      "text/plain": [
       "<IPython.core.display.Markdown object>"
      ]
     },
     "metadata": {},
     "output_type": "display_data"
    },
    {
     "data": {
      "text/markdown": [
       "3. Keyword found in: this also includes **consolidat**ing the pieces of the fragmented immigration system \n",
       "into one agency to fulfill the mission more efficiently.\n",
       "\n"
      ],
      "text/plain": [
       "<IPython.core.display.Markdown object>"
      ]
     },
     "metadata": {},
     "output_type": "display_data"
    },
    {
     "data": {
      "text/markdown": [
       "Sentiment of the context: POSITIVE (Score: 0.99)"
      ],
      "text/plain": [
       "<IPython.core.display.Markdown object>"
      ]
     },
     "metadata": {},
     "output_type": "display_data"
    },
    {
     "data": {
      "text/markdown": [
       "---"
      ],
      "text/plain": [
       "<IPython.core.display.Markdown object>"
      ]
     },
     "metadata": {},
     "output_type": "display_data"
    },
    {
     "data": {
      "text/markdown": [
       "4. Keyword found in: if all immigration agencies are not merged, including uscis and orr, then \n",
       "an appropriate third alternative would be to **consolidat**e ice and cbp to form \n",
       "a combined border security and immigration agency (bsia)."
      ],
      "text/plain": [
       "<IPython.core.display.Markdown object>"
      ]
     },
     "metadata": {},
     "output_type": "display_data"
    },
    {
     "data": {
      "text/markdown": [
       "Sentiment of the context: NEGATIVE (Score: 1.00)"
      ],
      "text/plain": [
       "<IPython.core.display.Markdown object>"
      ]
     },
     "metadata": {},
     "output_type": "display_data"
    },
    {
     "data": {
      "text/markdown": [
       "---"
      ],
      "text/plain": [
       "<IPython.core.display.Markdown object>"
      ]
     },
     "metadata": {},
     "output_type": "display_data"
    },
    {
     "data": {
      "text/markdown": [
       "5. Keyword found in: they should \n",
       "dissect the current standing management directives and the approval processes \n",
       "in place to implement and/or change them; office of the chief human capital \n",
       "officer’s processes and procedures; hurdles to the office of chief procurement \n",
       "\n",
       "— 159 —\n",
       "\n",
       "2025 presidential transition project \n",
       "\f",
       "officer’s procurement of innovative technology; and the facilities plan, including \n",
       "the **consolidat**ion into the st. elizabeth’s campus."
      ],
      "text/plain": [
       "<IPython.core.display.Markdown object>"
      ]
     },
     "metadata": {},
     "output_type": "display_data"
    },
    {
     "data": {
      "text/markdown": [
       "Sentiment of the context: NEGATIVE (Score: 0.97)"
      ],
      "text/plain": [
       "<IPython.core.display.Markdown object>"
      ]
     },
     "metadata": {},
     "output_type": "display_data"
    },
    {
     "data": {
      "text/markdown": [
       "---"
      ],
      "text/plain": [
       "<IPython.core.display.Markdown object>"
      ]
     },
     "metadata": {},
     "output_type": "display_data"
    },
    {
     "data": {
      "text/markdown": [
       "6. Keyword found in: office of legislative affairs (ola); office \n",
       "of public affairs (opa); and office of \n",
       "partnership and engagement (ope)\n",
       "\n",
       "dhs’s external communications function should be **consolidat**ed and reformed \n",
       "so that the president’s agenda can be implemented more effectively."
      ],
      "text/plain": [
       "<IPython.core.display.Markdown object>"
      ]
     },
     "metadata": {},
     "output_type": "display_data"
    },
    {
     "data": {
      "text/markdown": [
       "Sentiment of the context: NEGATIVE (Score: 0.98)"
      ],
      "text/plain": [
       "<IPython.core.display.Markdown object>"
      ]
     },
     "metadata": {},
     "output_type": "display_data"
    },
    {
     "data": {
      "text/markdown": [
       "---"
      ],
      "text/plain": [
       "<IPython.core.display.Markdown object>"
      ]
     },
     "metadata": {},
     "output_type": "display_data"
    },
    {
     "data": {
      "text/markdown": [
       "7. Keyword found in: this requires a statutory change in section 106 of the **consolidat**ed \n",
       "appropriations act of 2020.18\n",
       "\n",
       "oido was designed to create another impediment to detention through an \n",
       "additional layer of so-called oversight."
      ],
      "text/plain": [
       "<IPython.core.display.Markdown object>"
      ]
     },
     "metadata": {},
     "output_type": "display_data"
    },
    {
     "data": {
      "text/markdown": [
       "Sentiment of the context: NEGATIVE (Score: 1.00)"
      ],
      "text/plain": [
       "<IPython.core.display.Markdown object>"
      ]
     },
     "metadata": {},
     "output_type": "display_data"
    },
    {
     "data": {
      "text/markdown": [
       "---"
      ],
      "text/plain": [
       "<IPython.core.display.Markdown object>"
      ]
     },
     "metadata": {},
     "output_type": "display_data"
    },
    {
     "data": {
      "text/markdown": [
       "8. Keyword found in: african country-based terrorist \n",
       "groups like boko haram may currently lack the capability to attack the \n",
       "\n",
       "— 186 —\n",
       "\n",
       "mandate for leadership: the conservative promise \n",
       "\f",
       "united states, but at least some of them would eventually try if allowed to \n",
       "**consolidat**e their operations and plan such attacks."
      ],
      "text/plain": [
       "<IPython.core.display.Markdown object>"
      ]
     },
     "metadata": {},
     "output_type": "display_data"
    },
    {
     "data": {
      "text/markdown": [
       "Sentiment of the context: NEGATIVE (Score: 1.00)"
      ],
      "text/plain": [
       "<IPython.core.display.Markdown object>"
      ]
     },
     "metadata": {},
     "output_type": "display_data"
    },
    {
     "data": {
      "text/markdown": [
       "---"
      ],
      "text/plain": [
       "<IPython.core.display.Markdown object>"
      ]
     },
     "metadata": {},
     "output_type": "display_data"
    },
    {
     "data": {
      "text/markdown": [
       "9. Keyword found in: l **consolidat**e foreign assistance authorities."
      ],
      "text/plain": [
       "<IPython.core.display.Markdown object>"
      ]
     },
     "metadata": {},
     "output_type": "display_data"
    },
    {
     "data": {
      "text/markdown": [
       "Sentiment of the context: POSITIVE (Score: 0.84)"
      ],
      "text/plain": [
       "<IPython.core.display.Markdown object>"
      ]
     },
     "metadata": {},
     "output_type": "display_data"
    },
    {
     "data": {
      "text/markdown": [
       "---"
      ],
      "text/plain": [
       "<IPython.core.display.Markdown object>"
      ]
     },
     "metadata": {},
     "output_type": "display_data"
    },
    {
     "data": {
      "text/markdown": [
       "10. Keyword found in: the next administration should also \n",
       "evaluate whether these multiple sources of foreign assistance are in \n",
       "the national interest and, if not, develop a plan to **consolidat**e foreign \n",
       "assistance authorities.\n",
       "\n",
       " "
      ],
      "text/plain": [
       "<IPython.core.display.Markdown object>"
      ]
     },
     "metadata": {},
     "output_type": "display_data"
    },
    {
     "data": {
      "text/markdown": [
       "Sentiment of the context: NEGATIVE (Score: 0.99)"
      ],
      "text/plain": [
       "<IPython.core.display.Markdown object>"
      ]
     },
     "metadata": {},
     "output_type": "display_data"
    },
    {
     "data": {
      "text/markdown": [
       "---"
      ],
      "text/plain": [
       "<IPython.core.display.Markdown object>"
      ]
     },
     "metadata": {},
     "output_type": "display_data"
    },
    {
     "data": {
      "text/markdown": [
       "11. Keyword found in: the united states must reassert its public diplomacy obligations by \n",
       "restoring its international broadcasting infrastructure as part of the broader \n",
       "u.s. foreign policy framework, **consolidat**ing broadcasting resources and \n",
       "recommitting to people-focused and pro-freedom messaging and content.\n",
       "\n",
       " "
      ],
      "text/plain": [
       "<IPython.core.display.Markdown object>"
      ]
     },
     "metadata": {},
     "output_type": "display_data"
    },
    {
     "data": {
      "text/markdown": [
       "Sentiment of the context: POSITIVE (Score: 0.96)"
      ],
      "text/plain": [
       "<IPython.core.display.Markdown object>"
      ]
     },
     "metadata": {},
     "output_type": "display_data"
    },
    {
     "data": {
      "text/markdown": [
       "---"
      ],
      "text/plain": [
       "<IPython.core.display.Markdown object>"
      ]
     },
     "metadata": {},
     "output_type": "display_data"
    },
    {
     "data": {
      "text/markdown": [
       "12. Keyword found in: otf was formed under dubious \n",
       "circumstances by using **consolidat**ion rules to usurp the mission and \n",
       "funding of usagm’s pre-existing office of internet freedom (oif), which \n",
       "funded far more diverse technologies with much greater transparency."
      ],
      "text/plain": [
       "<IPython.core.display.Markdown object>"
      ]
     },
     "metadata": {},
     "output_type": "display_data"
    },
    {
     "data": {
      "text/markdown": [
       "Sentiment of the context: NEGATIVE (Score: 1.00)"
      ],
      "text/plain": [
       "<IPython.core.display.Markdown object>"
      ]
     },
     "metadata": {},
     "output_type": "display_data"
    },
    {
     "data": {
      "text/markdown": [
       "---"
      ],
      "text/plain": [
       "<IPython.core.display.Markdown object>"
      ]
     },
     "metadata": {},
     "output_type": "display_data"
    },
    {
     "data": {
      "text/markdown": [
       "13. Keyword found in: **consolidat**ion and reduction of redundant services."
      ],
      "text/plain": [
       "<IPython.core.display.Markdown object>"
      ]
     },
     "metadata": {},
     "output_type": "display_data"
    },
    {
     "data": {
      "text/markdown": [
       "Sentiment of the context: NEGATIVE (Score: 0.98)"
      ],
      "text/plain": [
       "<IPython.core.display.Markdown object>"
      ]
     },
     "metadata": {},
     "output_type": "display_data"
    },
    {
     "data": {
      "text/markdown": [
       "---"
      ],
      "text/plain": [
       "<IPython.core.display.Markdown object>"
      ]
     },
     "metadata": {},
     "output_type": "display_data"
    },
    {
     "data": {
      "text/markdown": [
       "14. Keyword found in: fiscal responsibility and transparency should \n",
       "return to the usagm, with **consolidat**ion being a cornerstone of the strategy.\n",
       "\n"
      ],
      "text/plain": [
       "<IPython.core.display.Markdown object>"
      ]
     },
     "metadata": {},
     "output_type": "display_data"
    },
    {
     "data": {
      "text/markdown": [
       "Sentiment of the context: POSITIVE (Score: 0.97)"
      ],
      "text/plain": [
       "<IPython.core.display.Markdown object>"
      ]
     },
     "metadata": {},
     "output_type": "display_data"
    },
    {
     "data": {
      "text/markdown": [
       "---"
      ],
      "text/plain": [
       "<IPython.core.display.Markdown object>"
      ]
     },
     "metadata": {},
     "output_type": "display_data"
    },
    {
     "data": {
      "text/markdown": [
       "15. Keyword found in: the office of global public affairs was formed during \n",
       "the trump administration by **consolidat**ion of the state department’s bureau \n",
       "of international information programs and bureau of global public affairs.\n",
       "\n"
      ],
      "text/plain": [
       "<IPython.core.display.Markdown object>"
      ]
     },
     "metadata": {},
     "output_type": "display_data"
    },
    {
     "data": {
      "text/markdown": [
       "Sentiment of the context: POSITIVE (Score: 0.76)"
      ],
      "text/plain": [
       "<IPython.core.display.Markdown object>"
      ]
     },
     "metadata": {},
     "output_type": "display_data"
    },
    {
     "data": {
      "text/markdown": [
       "---"
      ],
      "text/plain": [
       "<IPython.core.display.Markdown object>"
      ]
     },
     "metadata": {},
     "output_type": "display_data"
    },
    {
     "data": {
      "text/markdown": [
       "16. Keyword found in: the possibility of **consolidat**ing not only \n",
       "the agency’s subparts, but bringing the entire agency under the supervision of the \n",
       "nsc, the state department, or both would dramatically aid that reform.\n",
       "\n",
       "if the de facto aim of the agency simply remains to compete in foreign markets \n",
       "using anti-u.s. talking points that parrot america’s adversaries’ propaganda, then \n",
       "this represents an unacceptable burden to the u.s. taxpayer and a negative return \n",
       "on investment."
      ],
      "text/plain": [
       "<IPython.core.display.Markdown object>"
      ]
     },
     "metadata": {},
     "output_type": "display_data"
    },
    {
     "data": {
      "text/markdown": [
       "Sentiment of the context: NEGATIVE (Score: 1.00)"
      ],
      "text/plain": [
       "<IPython.core.display.Markdown object>"
      ]
     },
     "metadata": {},
     "output_type": "display_data"
    },
    {
     "data": {
      "text/markdown": [
       "---"
      ],
      "text/plain": [
       "<IPython.core.display.Markdown object>"
      ]
     },
     "metadata": {},
     "output_type": "display_data"
    },
    {
     "data": {
      "text/markdown": [
       "17. Keyword found in: in 2002, it cre-\n",
       "ated the institute for education sciences to **consolidat**e education data collection \n",
       "and fund research."
      ],
      "text/plain": [
       "<IPython.core.display.Markdown object>"
      ]
     },
     "metadata": {},
     "output_type": "display_data"
    },
    {
     "data": {
      "text/markdown": [
       "Sentiment of the context: NEGATIVE (Score: 0.97)"
      ],
      "text/plain": [
       "<IPython.core.display.Markdown object>"
      ]
     },
     "metadata": {},
     "output_type": "display_data"
    },
    {
     "data": {
      "text/markdown": [
       "---"
      ],
      "text/plain": [
       "<IPython.core.display.Markdown object>"
      ]
     },
     "metadata": {},
     "output_type": "display_data"
    },
    {
     "data": {
      "text/markdown": [
       "18. Keyword found in: but for those interested in expanding \n",
       "federal funding and influence in education, this un**consolidat**ed approach was less \n",
       "than ideal, because a single, captive agency would allow them to promote their \n",
       "agenda more effectively across administrations."
      ],
      "text/plain": [
       "<IPython.core.display.Markdown object>"
      ]
     },
     "metadata": {},
     "output_type": "display_data"
    },
    {
     "data": {
      "text/markdown": [
       "Sentiment of the context: NEGATIVE (Score: 1.00)"
      ],
      "text/plain": [
       "<IPython.core.display.Markdown object>"
      ]
     },
     "metadata": {},
     "output_type": "display_data"
    },
    {
     "data": {
      "text/markdown": [
       "---"
      ],
      "text/plain": [
       "<IPython.core.display.Markdown object>"
      ]
     },
     "metadata": {},
     "output_type": "display_data"
    },
    {
     "data": {
      "text/markdown": [
       "19. Keyword found in: l the secretary should phase out all existing idr plans by making new \n",
       "\n",
       "loans (including **consolidat**ion loans) ineligible and should implement \n",
       "\n",
       "— 337 —\n",
       "\n",
       "2025 presidential transition project \n",
       "\f",
       "a new idr plan."
      ],
      "text/plain": [
       "<IPython.core.display.Markdown object>"
      ]
     },
     "metadata": {},
     "output_type": "display_data"
    },
    {
     "data": {
      "text/markdown": [
       "Sentiment of the context: NEGATIVE (Score: 1.00)"
      ],
      "text/plain": [
       "<IPython.core.display.Markdown object>"
      ]
     },
     "metadata": {},
     "output_type": "display_data"
    },
    {
     "data": {
      "text/markdown": [
       "---"
      ],
      "text/plain": [
       "<IPython.core.display.Markdown object>"
      ]
     },
     "metadata": {},
     "output_type": "display_data"
    },
    {
     "data": {
      "text/markdown": [
       "20. Keyword found in: l as discussed above, data collection efforts should be **consolidat**ed \n",
       "\n",
       "under the census bureau.\n",
       "\n",
       " "
      ],
      "text/plain": [
       "<IPython.core.display.Markdown object>"
      ]
     },
     "metadata": {},
     "output_type": "display_data"
    },
    {
     "data": {
      "text/markdown": [
       "Sentiment of the context: NEGATIVE (Score: 1.00)"
      ],
      "text/plain": [
       "<IPython.core.display.Markdown object>"
      ]
     },
     "metadata": {},
     "output_type": "display_data"
    },
    {
     "data": {
      "text/markdown": [
       "---"
      ],
      "text/plain": [
       "<IPython.core.display.Markdown object>"
      ]
     },
     "metadata": {},
     "output_type": "display_data"
    },
    {
     "data": {
      "text/markdown": [
       "21. Keyword found in: if congress is unwilling to reform federal student aid, then the next adminis-\n",
       "\n",
       "tration should consider the following reforms:\n",
       "\n",
       " l\n",
       "\n",
       "switch to fair-value accounting from fcra accounting, and\n",
       "\n",
       " l **consolidat**e all federal loan programs into one new program that\n",
       "\n",
       "1.  utilizes income-driven repayment,\n",
       "\n",
       "2.  includes no interest rate subsidies or loan forgiveness,\n",
       "\n",
       "3.  includes annual and aggregate limits on borrowing, and\n",
       "\n",
       "4.  requires “skin in the game” from colleges to help hold them \n",
       "\n",
       "accountable for loan repayment.\n",
       "\n"
      ],
      "text/plain": [
       "<IPython.core.display.Markdown object>"
      ]
     },
     "metadata": {},
     "output_type": "display_data"
    },
    {
     "data": {
      "text/markdown": [
       "Sentiment of the context: NEGATIVE (Score: 0.99)"
      ],
      "text/plain": [
       "<IPython.core.display.Markdown object>"
      ]
     },
     "metadata": {},
     "output_type": "display_data"
    },
    {
     "data": {
      "text/markdown": [
       "---"
      ],
      "text/plain": [
       "<IPython.core.display.Markdown object>"
      ]
     },
     "metadata": {},
     "output_type": "display_data"
    },
    {
     "data": {
      "text/markdown": [
       "22. Keyword found in: l **consolidat**e all federal loan programs into one new program that \n",
       "a) utilizes income-driven repayment, b) includes no interest rate \n",
       "subsidies or loan forgiveness, c) includes annual and aggregate \n",
       "limits on borrowing, and d) includes skin in the game to hold \n",
       "colleges accountable.\n",
       "\n",
       " "
      ],
      "text/plain": [
       "<IPython.core.display.Markdown object>"
      ]
     },
     "metadata": {},
     "output_type": "display_data"
    },
    {
     "data": {
      "text/markdown": [
       "Sentiment of the context: NEGATIVE (Score: 1.00)"
      ],
      "text/plain": [
       "<IPython.core.display.Markdown object>"
      ]
     },
     "metadata": {},
     "output_type": "display_data"
    },
    {
     "data": {
      "text/markdown": [
       "---"
      ],
      "text/plain": [
       "<IPython.core.display.Markdown object>"
      ]
     },
     "metadata": {},
     "output_type": "display_data"
    },
    {
     "data": {
      "text/markdown": [
       "23. Keyword found in: transparency around program performance and dei influence\n",
       "\n",
       "the next president should issue a series of executive orders requiring:\n",
       "\n",
       " l an accounting of how federal programs/grants spread dei/crt/\n",
       "\n",
       "gender ideology,\n",
       "\n",
       " l a review of outcomes for gear up and the 21st century \n",
       "\n",
       "grants programs,\n",
       "\n",
       "— 358 —\n",
       "\n",
       "mandate for leadership: the conservative promise \n",
       "\f",
       " l the reissuing of the report on school safety from 2018 with updated \n",
       "\n",
       "information,\n",
       "\n",
       " l the release of a report to congress on how to **consolidat**e the \n",
       "\n",
       "department and trim nonessential employees,\n",
       "\n",
       " l a report on the negative influence of action civics on students’ \n",
       "\n",
       "understanding of history and civics and their disposition toward the \n",
       "united states,\n",
       "\n",
       " l an update of the coleman report to show the impact of family \n",
       "\n",
       "structure on student achievement,\n",
       "\n",
       " l a full accounting of cares act education expenditures, and\n",
       "\n",
       " l a report on how many dollars make their way to the classroom in \n",
       "\n",
       "every federal education grant and program.\n",
       "\n"
      ],
      "text/plain": [
       "<IPython.core.display.Markdown object>"
      ]
     },
     "metadata": {},
     "output_type": "display_data"
    },
    {
     "data": {
      "text/markdown": [
       "Sentiment of the context: NEGATIVE (Score: 0.98)"
      ],
      "text/plain": [
       "<IPython.core.display.Markdown object>"
      ]
     },
     "metadata": {},
     "output_type": "display_data"
    },
    {
     "data": {
      "text/markdown": [
       "---"
      ],
      "text/plain": [
       "<IPython.core.display.Markdown object>"
      ]
     },
     "metadata": {},
     "output_type": "display_data"
    },
    {
     "data": {
      "text/markdown": [
       "24. Keyword found in: overview\n",
       "\n",
       "doe was created by the department of energy organization act of 19775 in \n",
       "response to the 1970s oil crisis, **consolidat**ing various energy programs that pre-\n",
       "viously had operated without coordination throughout the federal government in \n",
       "a single department."
      ],
      "text/plain": [
       "<IPython.core.display.Markdown object>"
      ]
     },
     "metadata": {},
     "output_type": "display_data"
    },
    {
     "data": {
      "text/markdown": [
       "Sentiment of the context: NEGATIVE (Score: 0.97)"
      ],
      "text/plain": [
       "<IPython.core.display.Markdown object>"
      ]
     },
     "metadata": {},
     "output_type": "display_data"
    },
    {
     "data": {
      "text/markdown": [
       "---"
      ],
      "text/plain": [
       "<IPython.core.display.Markdown object>"
      ]
     },
     "metadata": {},
     "output_type": "display_data"
    },
    {
     "data": {
      "text/markdown": [
       "25. Keyword found in: l conduct a whole-of-government assessment and **consolidat**ion of \n",
       "\n",
       "science."
      ],
      "text/plain": [
       "<IPython.core.display.Markdown object>"
      ]
     },
     "metadata": {},
     "output_type": "display_data"
    },
    {
     "data": {
      "text/markdown": [
       "Sentiment of the context: POSITIVE (Score: 1.00)"
      ],
      "text/plain": [
       "<IPython.core.display.Markdown object>"
      ]
     },
     "metadata": {},
     "output_type": "display_data"
    },
    {
     "data": {
      "text/markdown": [
       "---"
      ],
      "text/plain": [
       "<IPython.core.display.Markdown object>"
      ]
     },
     "metadata": {},
     "output_type": "display_data"
    },
    {
     "data": {
      "text/markdown": [
       "26. Keyword found in: specific to doe, there should be a review to measure, prioritize, and **consolidat**e \n",
       "doe programs based on a range of beneficial factors, including degree of \n",
       "relationship to national security; furtherance of energy security (cyber but also \n",
       "international aspects); and importance to scientific discovery/advancement.\n",
       "\n"
      ],
      "text/plain": [
       "<IPython.core.display.Markdown object>"
      ]
     },
     "metadata": {},
     "output_type": "display_data"
    },
    {
     "data": {
      "text/markdown": [
       "Sentiment of the context: POSITIVE (Score: 1.00)"
      ],
      "text/plain": [
       "<IPython.core.display.Markdown object>"
      ]
     },
     "metadata": {},
     "output_type": "display_data"
    },
    {
     "data": {
      "text/markdown": [
       "---"
      ],
      "text/plain": [
       "<IPython.core.display.Markdown object>"
      ]
     },
     "metadata": {},
     "output_type": "display_data"
    },
    {
     "data": {
      "text/markdown": [
       "27. Keyword found in: international energy activities should be **consolidat**ed \n",
       "under ia (and the department of state’s bureau of energy resources \n",
       "should be eliminated) to ensure a proper understanding of domestic energy \n",
       "\n",
       "— 388 —\n",
       "\n",
       "mandate for leadership: the conservative promise \n",
       "\f",
       "policy and how it affects foreign policy, as well as the international energy \n",
       "landscape and how it affects u.s. national and economic security.\n",
       "\n",
       " "
      ],
      "text/plain": [
       "<IPython.core.display.Markdown object>"
      ]
     },
     "metadata": {},
     "output_type": "display_data"
    },
    {
     "data": {
      "text/markdown": [
       "Sentiment of the context: NEGATIVE (Score: 0.51)"
      ],
      "text/plain": [
       "<IPython.core.display.Markdown object>"
      ]
     },
     "metadata": {},
     "output_type": "display_data"
    },
    {
     "data": {
      "text/markdown": [
       "---"
      ],
      "text/plain": [
       "<IPython.core.display.Markdown object>"
      ]
     },
     "metadata": {},
     "output_type": "display_data"
    },
    {
     "data": {
      "text/markdown": [
       "28. Keyword found in: ”10 numerous \n",
       "authorities were **consolidat**ed and given to the epa including research, monitor-\n",
       "ing, standard-setting, and enforcement activities."
      ],
      "text/plain": [
       "<IPython.core.display.Markdown object>"
      ]
     },
     "metadata": {},
     "output_type": "display_data"
    },
    {
     "data": {
      "text/markdown": [
       "Sentiment of the context: POSITIVE (Score: 0.57)"
      ],
      "text/plain": [
       "<IPython.core.display.Markdown object>"
      ]
     },
     "metadata": {},
     "output_type": "display_data"
    },
    {
     "data": {
      "text/markdown": [
       "---"
      ],
      "text/plain": [
       "<IPython.core.display.Markdown object>"
      ]
     },
     "metadata": {},
     "output_type": "display_data"
    },
    {
     "data": {
      "text/markdown": [
       "1. Keyword found in: personnel\n",
       "\n",
       "the following organizational changes could create resource efficiencies to focus \n",
       "\n",
       "on the highest-value opportunities:\n",
       "\n",
       " l eliminate or **consolidat**e the regional laboratories and allow olem to use \n",
       "\n",
       "epa, other government, or private labs based on expertise and cost.\n",
       "\n",
       "— 432 —\n",
       "\n",
       "mandate for leadership: the conservative promise \n",
       "\f",
       " l **consolidat**e non-core functions (communications, economists, \n",
       "\n",
       "congressional relations, etc.) into one olem suboffice to allow the subject-\n",
       "matter offices to focus on the execution of field work.\n",
       "\n",
       " "
      ],
      "text/plain": [
       "<IPython.core.display.Markdown object>"
      ]
     },
     "metadata": {},
     "output_type": "display_data"
    },
    {
     "data": {
      "text/markdown": [
       "Sentiment of the context: NEGATIVE (Score: 0.87)"
      ],
      "text/plain": [
       "<IPython.core.display.Markdown object>"
      ]
     },
     "metadata": {},
     "output_type": "display_data"
    },
    {
     "data": {
      "text/markdown": [
       "---"
      ],
      "text/plain": [
       "<IPython.core.display.Markdown object>"
      ]
     },
     "metadata": {},
     "output_type": "display_data"
    },
    {
     "data": {
      "text/markdown": [
       "2. Keyword found in: — 442 —\n",
       "\n",
       "mandate for leadership: the conservative promise \n",
       "\f",
       "personnel\n",
       " l review ogc resources to consider reorganization of other attorney functions \n",
       "and leadership for **consolidat**ion into a cross-cutting issues law office.\n",
       "\n",
       " "
      ],
      "text/plain": [
       "<IPython.core.display.Markdown object>"
      ]
     },
     "metadata": {},
     "output_type": "display_data"
    },
    {
     "data": {
      "text/markdown": [
       "Sentiment of the context: POSITIVE (Score: 0.91)"
      ],
      "text/plain": [
       "<IPython.core.display.Markdown object>"
      ]
     },
     "metadata": {},
     "output_type": "display_data"
    },
    {
     "data": {
      "text/markdown": [
       "---"
      ],
      "text/plain": [
       "<IPython.core.display.Markdown object>"
      ]
     },
     "metadata": {},
     "output_type": "display_data"
    },
    {
     "data": {
      "text/markdown": [
       "3. Keyword found in: budget\n",
       "\n",
       "ogc’s budget will increase with **consolidat**ion of fte funding that follows attor-\n",
       "\n",
       "neys who come from other epa offices.\n",
       "\n",
       " "
      ],
      "text/plain": [
       "<IPython.core.display.Markdown object>"
      ]
     },
     "metadata": {},
     "output_type": "display_data"
    },
    {
     "data": {
      "text/markdown": [
       "Sentiment of the context: POSITIVE (Score: 1.00)"
      ],
      "text/plain": [
       "<IPython.core.display.Markdown object>"
      ]
     },
     "metadata": {},
     "output_type": "display_data"
    },
    {
     "data": {
      "text/markdown": [
       "---"
      ],
      "text/plain": [
       "<IPython.core.display.Markdown object>"
      ]
     },
     "metadata": {},
     "output_type": "display_data"
    },
    {
     "data": {
      "text/markdown": [
       "4. Keyword found in: l reassess duplicative skill sets with the **consolidat**ion and allow for \n",
       "\n",
       "attrition if needed.\n",
       "\n",
       " "
      ],
      "text/plain": [
       "<IPython.core.display.Markdown object>"
      ]
     },
     "metadata": {},
     "output_type": "display_data"
    },
    {
     "data": {
      "text/markdown": [
       "Sentiment of the context: NEGATIVE (Score: 1.00)"
      ],
      "text/plain": [
       "<IPython.core.display.Markdown object>"
      ]
     },
     "metadata": {},
     "output_type": "display_data"
    },
    {
     "data": {
      "text/markdown": [
       "---"
      ],
      "text/plain": [
       "<IPython.core.display.Markdown object>"
      ]
     },
     "metadata": {},
     "output_type": "display_data"
    },
    {
     "data": {
      "text/markdown": [
       "5. Keyword found in: staffing assignments, especially at the senior level, should be reviewed \n",
       "and streamlined, and the office should **consolidat**e space to save agency costs."
      ],
      "text/plain": [
       "<IPython.core.display.Markdown object>"
      ]
     },
     "metadata": {},
     "output_type": "display_data"
    },
    {
     "data": {
      "text/markdown": [
       "Sentiment of the context: NEGATIVE (Score: 0.54)"
      ],
      "text/plain": [
       "<IPython.core.display.Markdown object>"
      ]
     },
     "metadata": {},
     "output_type": "display_data"
    },
    {
     "data": {
      "text/markdown": [
       "---"
      ],
      "text/plain": [
       "<IPython.core.display.Markdown object>"
      ]
     },
     "metadata": {},
     "output_type": "display_data"
    },
    {
     "data": {
      "text/markdown": [
       "6. Keyword found in: the holder of this **consolidat**ed position, which should \n",
       "be filled by a health care provider, would be better positioned to ensure that the \n",
       "usphs is properly focused and deployed.\n",
       "\n"
      ],
      "text/plain": [
       "<IPython.core.display.Markdown object>"
      ]
     },
     "metadata": {},
     "output_type": "display_data"
    },
    {
     "data": {
      "text/markdown": [
       "Sentiment of the context: NEGATIVE (Score: 0.97)"
      ],
      "text/plain": [
       "<IPython.core.display.Markdown object>"
      ]
     },
     "metadata": {},
     "output_type": "display_data"
    },
    {
     "data": {
      "text/markdown": [
       "---"
      ],
      "text/plain": [
       "<IPython.core.display.Markdown object>"
      ]
     },
     "metadata": {},
     "output_type": "display_data"
    },
    {
     "data": {
      "text/markdown": [
       "7. Keyword found in: by the end of the trump administration, \n",
       "for the first time in nearly a decade, hud was able to address all of its previously \n",
       "identified material weaknesses, and the auditors were able to issue their first clean \n",
       "audit report on hud’s financial statements and internal controls.\n",
       "\n",
       "finally, and more fundamentally, congress could consider a wholesale overhaul \n",
       "of hud that contemplates devolving many hud functions to states and localities \n",
       "with any remaining federal functions **consolidat**ed to other federal agencies (for \n",
       "example, by transferring loan guarantee programs to sba; moving indian housing \n",
       "programs to the department of the interior; moving rental assistance, mortgage \n",
       "insurance programs, and gnma to a redesignated housing and home finance \n",
       "agency)."
      ],
      "text/plain": [
       "<IPython.core.display.Markdown object>"
      ]
     },
     "metadata": {},
     "output_type": "display_data"
    },
    {
     "data": {
      "text/markdown": [
       "Sentiment of the context: POSITIVE (Score: 0.76)"
      ],
      "text/plain": [
       "<IPython.core.display.Markdown object>"
      ]
     },
     "metadata": {},
     "output_type": "display_data"
    },
    {
     "data": {
      "text/markdown": [
       "---"
      ],
      "text/plain": [
       "<IPython.core.display.Markdown object>"
      ]
     },
     "metadata": {},
     "output_type": "display_data"
    },
    {
     "data": {
      "text/markdown": [
       "8. Keyword found in: generally, this reform path could **consolidat**e some programs, elimi-\n",
       "nate others that have failed to produce meaningful long-run results, and narrow \n",
       "the scope of many programs so that they are closer to what they were when they \n",
       "were created.\n",
       "\n"
      ],
      "text/plain": [
       "<IPython.core.display.Markdown object>"
      ]
     },
     "metadata": {},
     "output_type": "display_data"
    },
    {
     "data": {
      "text/markdown": [
       "Sentiment of the context: NEGATIVE (Score: 1.00)"
      ],
      "text/plain": [
       "<IPython.core.display.Markdown object>"
      ]
     },
     "metadata": {},
     "output_type": "display_data"
    },
    {
     "data": {
      "text/markdown": [
       "---"
      ],
      "text/plain": [
       "<IPython.core.display.Markdown object>"
      ]
     },
     "metadata": {},
     "output_type": "display_data"
    },
    {
     "data": {
      "text/markdown": [
       "9. Keyword found in: l reduce bureaucratic inefficiencies by **consolidat**ing federal water \n",
       "\n",
       "working groups.\n",
       "\n",
       " "
      ],
      "text/plain": [
       "<IPython.core.display.Markdown object>"
      ]
     },
     "metadata": {},
     "output_type": "display_data"
    },
    {
     "data": {
      "text/markdown": [
       "Sentiment of the context: NEGATIVE (Score: 0.91)"
      ],
      "text/plain": [
       "<IPython.core.display.Markdown object>"
      ]
     },
     "metadata": {},
     "output_type": "display_data"
    },
    {
     "data": {
      "text/markdown": [
       "---"
      ],
      "text/plain": [
       "<IPython.core.display.Markdown object>"
      ]
     },
     "metadata": {},
     "output_type": "display_data"
    },
    {
     "data": {
      "text/markdown": [
       "10. Keyword found in: finally, the new administration should seek congressional reauthorization \n",
       "of the land buy-back program for tribal nations,96 which provided a $1.9 bil-\n",
       "lion trust land **consolidat**ion fund to purchase fractional interests in trust or \n",
       "restricted land from willing sellers at fair market value, but which sunsets novem-\n",
       "ber 24, 2022."
      ],
      "text/plain": [
       "<IPython.core.display.Markdown object>"
      ]
     },
     "metadata": {},
     "output_type": "display_data"
    },
    {
     "data": {
      "text/markdown": [
       "Sentiment of the context: NEGATIVE (Score: 0.99)"
      ],
      "text/plain": [
       "<IPython.core.display.Markdown object>"
      ]
     },
     "metadata": {},
     "output_type": "display_data"
    },
    {
     "data": {
      "text/markdown": [
       "---"
      ],
      "text/plain": [
       "<IPython.core.display.Markdown object>"
      ]
     },
     "metadata": {},
     "output_type": "display_data"
    },
    {
     "data": {
      "text/markdown": [
       "11. Keyword found in: all hiring committees \n",
       "associated with hiring for career positions across the department should be \n",
       "assessed for impartiality to ensure that individuals are hired based on merit, \n",
       "aptitude, and legal skill and not based on association with or membership in \n",
       "certain ideologically aligned groups or based on illegal considerations such \n",
       "as race, religion, or sex.\n",
       "\n",
       "eliminating redundant offices and **consolidat**ing functions to increase \n",
       "efficiencies."
      ],
      "text/plain": [
       "<IPython.core.display.Markdown object>"
      ]
     },
     "metadata": {},
     "output_type": "display_data"
    },
    {
     "data": {
      "text/markdown": [
       "Sentiment of the context: POSITIVE (Score: 0.53)"
      ],
      "text/plain": [
       "<IPython.core.display.Markdown object>"
      ]
     },
     "metadata": {},
     "output_type": "display_data"
    },
    {
     "data": {
      "text/markdown": [
       "---"
      ],
      "text/plain": [
       "<IPython.core.display.Markdown object>"
      ]
     },
     "metadata": {},
     "output_type": "display_data"
    },
    {
     "data": {
      "text/markdown": [
       "12. Keyword found in: the next conservative administration should explore the possibility \n",
       "of **consolidat**ing and aligning the functions of the doj’s various components and \n",
       "offices in human resources, legal counsel, public relations, and other related areas. \n"
      ],
      "text/plain": [
       "<IPython.core.display.Markdown object>"
      ]
     },
     "metadata": {},
     "output_type": "display_data"
    },
    {
     "data": {
      "text/markdown": [
       "Sentiment of the context: POSITIVE (Score: 0.98)"
      ],
      "text/plain": [
       "<IPython.core.display.Markdown object>"
      ]
     },
     "metadata": {},
     "output_type": "display_data"
    },
    {
     "data": {
      "text/markdown": [
       "---"
      ],
      "text/plain": [
       "<IPython.core.display.Markdown object>"
      ]
     },
     "metadata": {},
     "output_type": "display_data"
    },
    {
     "data": {
      "text/markdown": [
       "13. Keyword found in: from it infrastructure to management functions to public relations, doj lead-\n",
       "ership should explore **consolidat**ion and intradepartmental efficiencies to obtain \n",
       "the best possible support for its critical missions.\n",
       "\n"
      ],
      "text/plain": [
       "<IPython.core.display.Markdown object>"
      ]
     },
     "metadata": {},
     "output_type": "display_data"
    },
    {
     "data": {
      "text/markdown": [
       "Sentiment of the context: POSITIVE (Score: 0.79)"
      ],
      "text/plain": [
       "<IPython.core.display.Markdown object>"
      ]
     },
     "metadata": {},
     "output_type": "display_data"
    },
    {
     "data": {
      "text/markdown": [
       "---"
      ],
      "text/plain": [
       "<IPython.core.display.Markdown object>"
      ]
     },
     "metadata": {},
     "output_type": "display_data"
    },
    {
     "data": {
      "text/markdown": [
       "14. Keyword found in: at a bare minimum, the number of grants should \n",
       "be **consolidat**ed.\n",
       "\n"
      ],
      "text/plain": [
       "<IPython.core.display.Markdown object>"
      ]
     },
     "metadata": {},
     "output_type": "display_data"
    },
    {
     "data": {
      "text/markdown": [
       "Sentiment of the context: NEGATIVE (Score: 0.99)"
      ],
      "text/plain": [
       "<IPython.core.display.Markdown object>"
      ]
     },
     "metadata": {},
     "output_type": "display_data"
    },
    {
     "data": {
      "text/markdown": [
       "---"
      ],
      "text/plain": [
       "<IPython.core.display.Markdown object>"
      ]
     },
     "metadata": {},
     "output_type": "display_data"
    },
    {
     "data": {
      "text/markdown": [
       "15. Keyword found in: current technology enables flights to be managed “anywhere from anywhere,” \n",
       "but the ato resists **consolidat**ing its 20 aging centers into a much smaller \n",
       "number—and lacks the funds to **consolidat**e them."
      ],
      "text/plain": [
       "<IPython.core.display.Markdown object>"
      ]
     },
     "metadata": {},
     "output_type": "display_data"
    },
    {
     "data": {
      "text/markdown": [
       "Sentiment of the context: NEGATIVE (Score: 1.00)"
      ],
      "text/plain": [
       "<IPython.core.display.Markdown object>"
      ]
     },
     "metadata": {},
     "output_type": "display_data"
    },
    {
     "data": {
      "text/markdown": [
       "---"
      ],
      "text/plain": [
       "<IPython.core.display.Markdown object>"
      ]
     },
     "metadata": {},
     "output_type": "display_data"
    },
    {
     "data": {
      "text/markdown": [
       "16. Keyword found in: thus, in the 1990s, calls emerged to abolish the department and either \n",
       "spin off, zero-out, or **consolidat**e its functions among other entities.1\n",
       "\n",
       "at the same time, the department has a higher profile now than perhaps ever \n",
       "in its history."
      ],
      "text/plain": [
       "<IPython.core.display.Markdown object>"
      ]
     },
     "metadata": {},
     "output_type": "display_data"
    },
    {
     "data": {
      "text/markdown": [
       "Sentiment of the context: POSITIVE (Score: 0.94)"
      ],
      "text/plain": [
       "<IPython.core.display.Markdown object>"
      ]
     },
     "metadata": {},
     "output_type": "display_data"
    },
    {
     "data": {
      "text/markdown": [
       "---"
      ],
      "text/plain": [
       "<IPython.core.display.Markdown object>"
      ]
     },
     "metadata": {},
     "output_type": "display_data"
    },
    {
     "data": {
      "text/markdown": [
       "17. Keyword found in: many programs at the department of commerce overlap in whole or part with \n",
       "other governmental programs, and **consolidat**ing and streamlining these could \n",
       "increase both accountability and return on taxpayer investment."
      ],
      "text/plain": [
       "<IPython.core.display.Markdown object>"
      ]
     },
     "metadata": {},
     "output_type": "display_data"
    },
    {
     "data": {
      "text/markdown": [
       "Sentiment of the context: NEGATIVE (Score: 0.70)"
      ],
      "text/plain": [
       "<IPython.core.display.Markdown object>"
      ]
     },
     "metadata": {},
     "output_type": "display_data"
    },
    {
     "data": {
      "text/markdown": [
       "---"
      ],
      "text/plain": [
       "<IPython.core.display.Markdown object>"
      ]
     },
     "metadata": {},
     "output_type": "display_data"
    },
    {
     "data": {
      "text/markdown": [
       "18. Keyword found in: any exercise in \n",
       "government-wide budgeting and reform should review the department with an eye \n",
       "toward **consolidat**ion, elimination, or privatization that examines the efficiency, \n",
       "effectiveness, and underlying philosophy of each individual component."
      ],
      "text/plain": [
       "<IPython.core.display.Markdown object>"
      ]
     },
     "metadata": {},
     "output_type": "display_data"
    },
    {
     "data": {
      "text/markdown": [
       "Sentiment of the context: POSITIVE (Score: 0.99)"
      ],
      "text/plain": [
       "<IPython.core.display.Markdown object>"
      ]
     },
     "metadata": {},
     "output_type": "display_data"
    },
    {
     "data": {
      "text/markdown": [
       "---"
      ],
      "text/plain": [
       "<IPython.core.display.Markdown object>"
      ]
     },
     "metadata": {},
     "output_type": "display_data"
    },
    {
     "data": {
      "text/markdown": [
       "19. Keyword found in: though \n",
       "\n",
       "— 663 —\n",
       "\n",
       " \n",
       "\f",
       "not an exhaustive set of proposals, the next conservative president should con-\n",
       "sider whether:\n",
       "\n",
       " l the international trade administration (ita) and parts of the bureau of \n",
       "\n",
       "industry and security (bis) should be streamlined and moved to the office \n",
       "of the u.s. trade representative (ustr), along with the development \n",
       "finance corporation; the u.s. trade and development agency; the export–\n",
       "import bank; and other trade-related programs spread across the federal \n",
       "government—as well as considering whether many of these programs \n",
       "should exist within the federal government;\n",
       "\n",
       " l the economic development administration’s grant programs, which \n",
       "\n",
       "are among a broad set of duplicative and overlapping federal economic \n",
       "development grant programs, should be **consolidat**ed with other programs \n",
       "and/or eliminated;\n",
       "\n",
       " l the bureau of economic analysis and census bureau, as well as the \n",
       "\n",
       "department of labor’s bureau of labor statistics, should be **consolidat**ed \n",
       "into a more manageable, focused, and efficient statistical agency;\n",
       "\n",
       " l the u.s. patent and trademark office (uspto) should be made into a \n",
       "performance-based organization under the office of management and \n",
       "budget (omb);\n",
       "\n",
       " l alternatively, the uspto should be **consolidat**ed with the national \n",
       "institute of standards and technology (nist) in a new u.s. office of \n",
       "patents, trademarks, and standards, with all non-mission-critical research \n",
       "functions eliminated or moved to other, more focused, federal agencies; and\n",
       "\n",
       " l the national oceanographic and atmospheric administration (noaa) \n",
       "\n",
       "should be dismantled and many of its functions eliminated, sent to other \n",
       "agencies, privatized, or placed under the control of states and territories.\n",
       "\n"
      ],
      "text/plain": [
       "<IPython.core.display.Markdown object>"
      ]
     },
     "metadata": {},
     "output_type": "display_data"
    },
    {
     "data": {
      "text/markdown": [
       "Sentiment of the context: NEGATIVE (Score: 1.00)"
      ],
      "text/plain": [
       "<IPython.core.display.Markdown object>"
      ]
     },
     "metadata": {},
     "output_type": "display_data"
    },
    {
     "data": {
      "text/markdown": [
       "---"
      ],
      "text/plain": [
       "<IPython.core.display.Markdown object>"
      ]
     },
     "metadata": {},
     "output_type": "display_data"
    },
    {
     "data": {
      "text/markdown": [
       "20. Keyword found in: if the state department deems the diplomatic value of a permanent \n",
       "in-country cs post to be vital to the national interest, then state should bear more \n",
       "of the cost of maintaining that post.\n",
       "\n",
       "global markets should also **consolidat**e and elevate the advocacy center and \n",
       "selectusa as relatively low-cost tools to drive large-scale export transactions \n",
       "\n",
       "— 670 —\n",
       "\n",
       "mandate for leadership: the conservative promise \n",
       "\f",
       "and foreign direct investment (fdi)."
      ],
      "text/plain": [
       "<IPython.core.display.Markdown object>"
      ]
     },
     "metadata": {},
     "output_type": "display_data"
    },
    {
     "data": {
      "text/markdown": [
       "Sentiment of the context: POSITIVE (Score: 0.98)"
      ],
      "text/plain": [
       "<IPython.core.display.Markdown object>"
      ]
     },
     "metadata": {},
     "output_type": "display_data"
    },
    {
     "data": {
      "text/markdown": [
       "---"
      ],
      "text/plain": [
       "<IPython.core.display.Markdown object>"
      ]
     },
     "metadata": {},
     "output_type": "display_data"
    },
    {
     "data": {
      "text/markdown": [
       "21. Keyword found in: given the value placed on senior-level engagement by many governments and \n",
       "companies, this **consolidat**ed office of trade and investment advocacy should be \n",
       "headed by a deputy assistant secretary."
      ],
      "text/plain": [
       "<IPython.core.display.Markdown object>"
      ]
     },
     "metadata": {},
     "output_type": "display_data"
    },
    {
     "data": {
      "text/markdown": [
       "Sentiment of the context: POSITIVE (Score: 0.96)"
      ],
      "text/plain": [
       "<IPython.core.display.Markdown object>"
      ]
     },
     "metadata": {},
     "output_type": "display_data"
    },
    {
     "data": {
      "text/markdown": [
       "---"
      ],
      "text/plain": [
       "<IPython.core.display.Markdown object>"
      ]
     },
     "metadata": {},
     "output_type": "display_data"
    },
    {
     "data": {
      "text/markdown": [
       "22. Keyword found in: these operations should be reviewed with \n",
       "an aim of **consolidat**ion and reduction of bloat.\n",
       "\n"
      ],
      "text/plain": [
       "<IPython.core.display.Markdown object>"
      ]
     },
     "metadata": {},
     "output_type": "display_data"
    },
    {
     "data": {
      "text/markdown": [
       "Sentiment of the context: NEGATIVE (Score: 0.96)"
      ],
      "text/plain": [
       "<IPython.core.display.Markdown object>"
      ]
     },
     "metadata": {},
     "output_type": "display_data"
    },
    {
     "data": {
      "text/markdown": [
       "---"
      ],
      "text/plain": [
       "<IPython.core.display.Markdown object>"
      ]
     },
     "metadata": {},
     "output_type": "display_data"
    },
    {
     "data": {
      "text/markdown": [
       "23. Keyword found in: if that proves unachievable, as has historically been the case due to political \n",
       "\n",
       "considerations in congress, eda would benefit from:\n",
       "\n",
       " l **consolidat**ion of decision-making to the assistant secretary’s office to \n",
       "better align funding with conservative political purposes."
      ],
      "text/plain": [
       "<IPython.core.display.Markdown object>"
      ]
     },
     "metadata": {},
     "output_type": "display_data"
    },
    {
     "data": {
      "text/markdown": [
       "Sentiment of the context: NEGATIVE (Score: 0.99)"
      ],
      "text/plain": [
       "<IPython.core.display.Markdown object>"
      ]
     },
     "metadata": {},
     "output_type": "display_data"
    },
    {
     "data": {
      "text/markdown": [
       "---"
      ],
      "text/plain": [
       "<IPython.core.display.Markdown object>"
      ]
     },
     "metadata": {},
     "output_type": "display_data"
    },
    {
     "data": {
      "text/markdown": [
       "24. Keyword found in: an incoming administration should evaluate the federal government’s civilian \n",
       "research footprint and **consolidat**e those functions while ensuring that any research \n",
       "conducted with taxpayer dollars serves the national interest in a concrete way in \n",
       "line with conservative principles."
      ],
      "text/plain": [
       "<IPython.core.display.Markdown object>"
      ]
     },
     "metadata": {},
     "output_type": "display_data"
    },
    {
     "data": {
      "text/markdown": [
       "Sentiment of the context: POSITIVE (Score: 0.99)"
      ],
      "text/plain": [
       "<IPython.core.display.Markdown object>"
      ]
     },
     "metadata": {},
     "output_type": "display_data"
    },
    {
     "data": {
      "text/markdown": [
       "---"
      ],
      "text/plain": [
       "<IPython.core.display.Markdown object>"
      ]
     },
     "metadata": {},
     "output_type": "display_data"
    },
    {
     "data": {
      "text/markdown": [
       "25. Keyword found in: ntis’s \n",
       "functions should be moved to nist and **consolidat**ed with the tech transfer and \n",
       "roi initiatives.\n",
       "\n"
      ],
      "text/plain": [
       "<IPython.core.display.Markdown object>"
      ]
     },
     "metadata": {},
     "output_type": "display_data"
    },
    {
     "data": {
      "text/markdown": [
       "Sentiment of the context: NEGATIVE (Score: 1.00)"
      ],
      "text/plain": [
       "<IPython.core.display.Markdown object>"
      ]
     },
     "metadata": {},
     "output_type": "display_data"
    },
    {
     "data": {
      "text/markdown": [
       "---"
      ],
      "text/plain": [
       "<IPython.core.display.Markdown object>"
      ]
     },
     "metadata": {},
     "output_type": "display_data"
    },
    {
     "data": {
      "text/markdown": [
       "26. Keyword found in: improved financial regulation\n",
       "\n",
       "one of the priorities of the incoming administration should be to restructure \n",
       "the outdated and cumbersome financial regulatory system in order to promote \n",
       "financial innovation, improve regulator efficiency, reduce regulatory costs, close \n",
       "regulatory gaps, eliminate regulatory arbitrage, provide clear statutory authority, \n",
       "**consolidat**e regulatory agencies or reduce the size of government, and increase \n",
       "transparency.\n",
       "\n"
      ],
      "text/plain": [
       "<IPython.core.display.Markdown object>"
      ]
     },
     "metadata": {},
     "output_type": "display_data"
    },
    {
     "data": {
      "text/markdown": [
       "Sentiment of the context: POSITIVE (Score: 0.86)"
      ],
      "text/plain": [
       "<IPython.core.display.Markdown object>"
      ]
     },
     "metadata": {},
     "output_type": "display_data"
    },
    {
     "data": {
      "text/markdown": [
       "---"
      ],
      "text/plain": [
       "<IPython.core.display.Markdown object>"
      ]
     },
     "metadata": {},
     "output_type": "display_data"
    },
    {
     "data": {
      "text/markdown": [
       "27. Keyword found in: not long after the central \n",
       "bank’s creation, however, monetary decision-making power was transferred away \n",
       "from regional member banks and **consolidat**ed in the board of governors.\n",
       "\n"
      ],
      "text/plain": [
       "<IPython.core.display.Markdown object>"
      ]
     },
     "metadata": {},
     "output_type": "display_data"
    },
    {
     "data": {
      "text/markdown": [
       "Sentiment of the context: POSITIVE (Score: 0.96)"
      ],
      "text/plain": [
       "<IPython.core.display.Markdown object>"
      ]
     },
     "metadata": {},
     "output_type": "display_data"
    },
    {
     "data": {
      "text/markdown": [
       "---"
      ],
      "text/plain": [
       "<IPython.core.display.Markdown object>"
      ]
     },
     "metadata": {},
     "output_type": "display_data"
    },
    {
     "data": {
      "text/markdown": [
       "28. Keyword found in: in the interim, the roughly $1 billion overall agency budget should be held \n",
       "constant until the report is considered, after which congress should terminate \n",
       "\n",
       "— 758 —\n",
       "\n",
       "mandate for leadership: the conservative promise \n",
       "\f",
       "ineffective programs, **consolidat**e duplicative functions, and reallocate resources \n",
       "to more effective programs (such as the office of advocacy) or consider reducing \n",
       "the sba budget.\n",
       "\n"
      ],
      "text/plain": [
       "<IPython.core.display.Markdown object>"
      ]
     },
     "metadata": {},
     "output_type": "display_data"
    },
    {
     "data": {
      "text/markdown": [
       "Sentiment of the context: NEGATIVE (Score: 1.00)"
      ],
      "text/plain": [
       "<IPython.core.display.Markdown object>"
      ]
     },
     "metadata": {},
     "output_type": "display_data"
    },
    {
     "data": {
      "text/markdown": [
       "---"
      ],
      "text/plain": [
       "<IPython.core.display.Markdown object>"
      ]
     },
     "metadata": {},
     "output_type": "display_data"
    },
    {
     "data": {
      "text/markdown": [
       "29. Keyword found in: the resultant glut \n",
       "\n",
       "— 783 —\n",
       "\n",
       "2025 presidential transition project \n",
       "\f",
       "of communist chinese exports in turn depresses world prices and pushes foreign \n",
       "rivals out of the global market—steel is a major example.20 industrial policy tools \n",
       "that further reinforce communist china’s mercantilist and protectionist trade \n",
       "policies include numerous direct and indirect subsidies to boost exports and the \n",
       "**consolidat**ion of heavily subsidized state-owned enterprises into “national champi-\n",
       "ons” that can compete with foreign companies in both domestic and global markets.\n"
      ],
      "text/plain": [
       "<IPython.core.display.Markdown object>"
      ]
     },
     "metadata": {},
     "output_type": "display_data"
    },
    {
     "data": {
      "text/markdown": [
       "Sentiment of the context: POSITIVE (Score: 0.97)"
      ],
      "text/plain": [
       "<IPython.core.display.Markdown object>"
      ]
     },
     "metadata": {},
     "output_type": "display_data"
    },
    {
     "data": {
      "text/markdown": [
       "---"
      ],
      "text/plain": [
       "<IPython.core.display.Markdown object>"
      ]
     },
     "metadata": {},
     "output_type": "display_data"
    },
    {
     "data": {
      "text/markdown": [
       "30. Keyword found in: a threatened ccp is dangerous, perhaps now more than at any time since \n",
       "mao tse-tung, as xi jinping continues to use strong-arm tactics to **consolidat**e his \n",
       "power and saber-rattling to challenge the international order.\n",
       "\n"
      ],
      "text/plain": [
       "<IPython.core.display.Markdown object>"
      ]
     },
     "metadata": {},
     "output_type": "display_data"
    },
    {
     "data": {
      "text/markdown": [
       "Sentiment of the context: POSITIVE (Score: 0.80)"
      ],
      "text/plain": [
       "<IPython.core.display.Markdown object>"
      ]
     },
     "metadata": {},
     "output_type": "display_data"
    },
    {
     "data": {
      "text/markdown": [
       "---"
      ],
      "text/plain": [
       "<IPython.core.display.Markdown object>"
      ]
     },
     "metadata": {},
     "output_type": "display_data"
    },
    {
     "data": {
      "text/markdown": [
       "31. Keyword found in: congress should:\n",
       "\n",
       " l amend the internal revenue code to disregard crowdfunding and \n",
       "\n",
       "regulation a shareholders for purposes of the 100-shareholder limit for \n",
       "subchapter s corporations.18\n",
       "\n",
       "better capital markets\n",
       "\n",
       "to improve capital markets, the sec should:\n",
       "\n",
       " l\n",
       "\n",
       "preempt blue sky registration, qualification, and continuing reporting \n",
       "requirements for securities traded on established securities markets \n",
       "(including a national securities exchange or an alternative trading system).19\n",
       "\n",
       " l terminate the **consolidat**ed audit trail (cat) program.20\n",
       "\n",
       " l abolish rule 144 and other regulations that restrict securities resales and instead \n",
       "require a company that has sold securities to provide sufficient current informa-\n",
       "tion to the market to permit reasonable investment decisions and secondary sales.\n",
       "\n",
       "— 831 —\n",
       "\n",
       "2025 presidential transition project \n",
       "\f",
       "congress should:\n",
       "\n",
       " l\n",
       "\n",
       "prohibit the sec from requiring issuer disclosure of social, ideological, \n",
       "political, or “human capital” information that is not material to investors’ \n",
       "financial, economic, or pecuniary risks or returns."
      ],
      "text/plain": [
       "<IPython.core.display.Markdown object>"
      ]
     },
     "metadata": {},
     "output_type": "display_data"
    },
    {
     "data": {
      "text/markdown": [
       "Sentiment of the context: NEGATIVE (Score: 1.00)"
      ],
      "text/plain": [
       "<IPython.core.display.Markdown object>"
      ]
     },
     "metadata": {},
     "output_type": "display_data"
    },
    {
     "data": {
      "text/markdown": [
       "---"
      ],
      "text/plain": [
       "<IPython.core.display.Markdown object>"
      ]
     },
     "metadata": {},
     "output_type": "display_data"
    },
    {
     "data": {
      "text/markdown": [
       "32. Keyword found in: l remove the regulatory categories of “affiliate conduit” and “foreign \n",
       "\n",
       "**consolidat**ed subsidiary” from the 2013 guidance and the cftc’s cross-\n",
       "border rule on margin for uncleared swaps,31 respectively."
      ],
      "text/plain": [
       "<IPython.core.display.Markdown object>"
      ]
     },
     "metadata": {},
     "output_type": "display_data"
    },
    {
     "data": {
      "text/markdown": [
       "Sentiment of the context: NEGATIVE (Score: 1.00)"
      ],
      "text/plain": [
       "<IPython.core.display.Markdown object>"
      ]
     },
     "metadata": {},
     "output_type": "display_data"
    },
    {
     "data": {
      "text/markdown": [
       "---"
      ],
      "text/plain": [
       "<IPython.core.display.Markdown object>"
      ]
     },
     "metadata": {},
     "output_type": "display_data"
    },
    {
     "data": {
      "text/markdown": [
       "33. Keyword found in: consumer protection responsibilities previously handled by the \n",
       "office of the comptroller of the currency, office of thrift supervision, federal \n",
       "deposit insurance corporation, federal reserve, national credit union admin-\n",
       "istration, and federal trade commission were transferred to and **consolidat**ed in \n",
       "the cfpb, which issues rules, orders, and guidance to implement federal consumer \n",
       "financial law.\n",
       "\n"
      ],
      "text/plain": [
       "<IPython.core.display.Markdown object>"
      ]
     },
     "metadata": {},
     "output_type": "display_data"
    },
    {
     "data": {
      "text/markdown": [
       "Sentiment of the context: NEGATIVE (Score: 0.91)"
      ],
      "text/plain": [
       "<IPython.core.display.Markdown object>"
      ]
     },
     "metadata": {},
     "output_type": "display_data"
    },
    {
     "data": {
      "text/markdown": [
       "---"
      ],
      "text/plain": [
       "<IPython.core.display.Markdown object>"
      ]
     },
     "metadata": {},
     "output_type": "display_data"
    },
    {
     "data": {
      "text/markdown": [
       "34. Keyword found in: the fcc could take a similar approach to \n",
       "\n",
       "— 848 —\n",
       "\n",
       "mandate for leadership: the conservative promise \n",
       "\f",
       " l\n",
       "\n",
       " l\n",
       "\n",
       "big tech, and it should look to section 230 and the **consolidat**ed reporting \n",
       "act as potential sources of authority.19 in acting, the fcc could require these \n",
       "platforms to provide greater specificity regarding their terms of service, and it \n",
       "could hold them accountable by prohibiting actions that are inconsistent with \n",
       "those plain and particular terms."
      ],
      "text/plain": [
       "<IPython.core.display.Markdown object>"
      ]
     },
     "metadata": {},
     "output_type": "display_data"
    },
    {
     "data": {
      "text/markdown": [
       "Sentiment of the context: NEGATIVE (Score: 0.99)"
      ],
      "text/plain": [
       "<IPython.core.display.Markdown object>"
      ]
     },
     "metadata": {},
     "output_type": "display_data"
    },
    {
     "data": {
      "text/markdown": [
       "---"
      ],
      "text/plain": [
       "<IPython.core.display.Markdown object>"
      ]
     },
     "metadata": {},
     "output_type": "display_data"
    }
   ],
   "source": [
    "# Insert your keyword here to get a list of the context of the word and what the sentiment of the keyword context is\n",
    "keyword = \"consolidat\"\n",
    "\n",
    "for chunk in process_in_chunks(text):\n",
    "    find_keyword_and_analyze_context(chunk, keyword)"
   ]
  },
  {
   "cell_type": "code",
   "execution_count": 5,
   "id": "6e5c321b-7305-4985-8fbb-fb978f146fd3",
   "metadata": {},
   "outputs": [
    {
     "data": {
      "text/markdown": [
       "1. Keyword found in: our \n",
       "goal is to assemble an army of **align**ed, vetted, trained, and prepared conservatives \n",
       "to go to work on day one to deconstruct the administrative state.\n",
       "\n"
      ],
      "text/plain": [
       "<IPython.core.display.Markdown object>"
      ]
     },
     "metadata": {},
     "output_type": "display_data"
    },
    {
     "data": {
      "text/markdown": [
       "Sentiment of the context: POSITIVE (Score: 0.89)"
      ],
      "text/plain": [
       "<IPython.core.display.Markdown object>"
      ]
     },
     "metadata": {},
     "output_type": "display_data"
    },
    {
     "data": {
      "text/markdown": [
       "---"
      ],
      "text/plain": [
       "<IPython.core.display.Markdown object>"
      ]
     },
     "metadata": {},
     "output_type": "display_data"
    },
    {
     "data": {
      "text/markdown": [
       "2. Keyword found in: federal employees are often \n",
       "ideologically **align**ed—not with the majority of the american people—but with one \n",
       "another, posing a profound problem for republican government, a government \n",
       "“of, by, and for” the people."
      ],
      "text/plain": [
       "<IPython.core.display.Markdown object>"
      ]
     },
     "metadata": {},
     "output_type": "display_data"
    },
    {
     "data": {
      "text/markdown": [
       "Sentiment of the context: NEGATIVE (Score: 0.87)"
      ],
      "text/plain": [
       "<IPython.core.display.Markdown object>"
      ]
     },
     "metadata": {},
     "output_type": "display_data"
    },
    {
     "data": {
      "text/markdown": [
       "---"
      ],
      "text/plain": [
       "<IPython.core.display.Markdown object>"
      ]
     },
     "metadata": {},
     "output_type": "display_data"
    },
    {
     "data": {
      "text/markdown": [
       "3. Keyword found in: the opl is critically important in building coalitions and support for the pres-\n",
       "ident’s agenda across every **align**ed social, faith-based, minority, and economic \n",
       "interest group."
      ],
      "text/plain": [
       "<IPython.core.display.Markdown object>"
      ]
     },
     "metadata": {},
     "output_type": "display_data"
    },
    {
     "data": {
      "text/markdown": [
       "Sentiment of the context: POSITIVE (Score: 1.00)"
      ],
      "text/plain": [
       "<IPython.core.display.Markdown object>"
      ]
     },
     "metadata": {},
     "output_type": "display_data"
    },
    {
     "data": {
      "text/markdown": [
       "---"
      ],
      "text/plain": [
       "<IPython.core.display.Markdown object>"
      ]
     },
     "metadata": {},
     "output_type": "display_data"
    },
    {
     "data": {
      "text/markdown": [
       "4. Keyword found in: three white house policy councils have come into existence \n",
       "to help the president to control the bureaucracy and ensure continued **align**ment \n",
       "between agency leadership and white house priorities."
      ],
      "text/plain": [
       "<IPython.core.display.Markdown object>"
      ]
     },
     "metadata": {},
     "output_type": "display_data"
    },
    {
     "data": {
      "text/markdown": [
       "Sentiment of the context: POSITIVE (Score: 1.00)"
      ],
      "text/plain": [
       "<IPython.core.display.Markdown object>"
      ]
     },
     "metadata": {},
     "output_type": "display_data"
    },
    {
     "data": {
      "text/markdown": [
       "---"
      ],
      "text/plain": [
       "<IPython.core.display.Markdown object>"
      ]
     },
     "metadata": {},
     "output_type": "display_data"
    },
    {
     "data": {
      "text/markdown": [
       "5. Keyword found in: this goal would help to **align** the \n",
       "months-long process of developing the actual proposals for inclusion in the budget.\n"
      ],
      "text/plain": [
       "<IPython.core.display.Markdown object>"
      ]
     },
     "metadata": {},
     "output_type": "display_data"
    },
    {
     "data": {
      "text/markdown": [
       "Sentiment of the context: POSITIVE (Score: 0.88)"
      ],
      "text/plain": [
       "<IPython.core.display.Markdown object>"
      ]
     },
     "metadata": {},
     "output_type": "display_data"
    },
    {
     "data": {
      "text/markdown": [
       "---"
      ],
      "text/plain": [
       "<IPython.core.display.Markdown object>"
      ]
     },
     "metadata": {},
     "output_type": "display_data"
    },
    {
     "data": {
      "text/markdown": [
       "6. Keyword found in: omb plays a critical role in ensur-\n",
       "ing that the executive branch is **align**ed on legislative proposals and language, \n",
       "agency testimonies, and other communications with congress."
      ],
      "text/plain": [
       "<IPython.core.display.Markdown object>"
      ]
     },
     "metadata": {},
     "output_type": "display_data"
    },
    {
     "data": {
      "text/markdown": [
       "Sentiment of the context: POSITIVE (Score: 0.98)"
      ],
      "text/plain": [
       "<IPython.core.display.Markdown object>"
      ]
     },
     "metadata": {},
     "output_type": "display_data"
    },
    {
     "data": {
      "text/markdown": [
       "---"
      ],
      "text/plain": [
       "<IPython.core.display.Markdown object>"
      ]
     },
     "metadata": {},
     "output_type": "display_data"
    },
    {
     "data": {
      "text/markdown": [
       "7. Keyword found in: led by the national security advisor (nsa), the nsc staff will be success-\n",
       "ful in implementing the president’s national security goals only if it is made up \n",
       "\n",
       "— 50 —\n",
       "\n",
       "mandate for leadership: the conservative promise \n",
       "\f",
       "of personnel with technical expertise and experience as well as an **align**ment to \n",
       "the president’s declared national security policy priorities."
      ],
      "text/plain": [
       "<IPython.core.display.Markdown object>"
      ]
     },
     "metadata": {},
     "output_type": "display_data"
    },
    {
     "data": {
      "text/markdown": [
       "Sentiment of the context: POSITIVE (Score: 0.99)"
      ],
      "text/plain": [
       "<IPython.core.display.Markdown object>"
      ]
     },
     "metadata": {},
     "output_type": "display_data"
    },
    {
     "data": {
      "text/markdown": [
       "---"
      ],
      "text/plain": [
       "<IPython.core.display.Markdown object>"
      ]
     },
     "metadata": {},
     "output_type": "display_data"
    },
    {
     "data": {
      "text/markdown": [
       "8. Keyword found in: in organizing (by means of presidential directive31) an nsc staff that is more \n",
       "responsive and **align**ed with the president’s goals and empowered to implement \n",
       "them, the nsa should immediately evaluate and eliminate directorates that are \n",
       "not **align**ed with the president’s agenda and replace them with new directorates as \n",
       "appropriate that can drive implementation of the president’s signature national \n",
       "security priorities."
      ],
      "text/plain": [
       "<IPython.core.display.Markdown object>"
      ]
     },
     "metadata": {},
     "output_type": "display_data"
    },
    {
     "data": {
      "text/markdown": [
       "Sentiment of the context: NEGATIVE (Score: 0.77)"
      ],
      "text/plain": [
       "<IPython.core.display.Markdown object>"
      ]
     },
     "metadata": {},
     "output_type": "display_data"
    },
    {
     "data": {
      "text/markdown": [
       "---"
      ],
      "text/plain": [
       "<IPython.core.display.Markdown object>"
      ]
     },
     "metadata": {},
     "output_type": "display_data"
    },
    {
     "data": {
      "text/markdown": [
       "9. Keyword found in: in addition to re**align**ing the staff organization to the president’s \n",
       "priorities, the nsa should assign responsibility for implementation of specific \n",
       "policy initiatives to senior nsc officials from across the nsc staff structure."
      ],
      "text/plain": [
       "<IPython.core.display.Markdown object>"
      ]
     },
     "metadata": {},
     "output_type": "display_data"
    },
    {
     "data": {
      "text/markdown": [
       "Sentiment of the context: POSITIVE (Score: 0.94)"
      ],
      "text/plain": [
       "<IPython.core.display.Markdown object>"
      ]
     },
     "metadata": {},
     "output_type": "display_data"
    },
    {
     "data": {
      "text/markdown": [
       "---"
      ],
      "text/plain": [
       "<IPython.core.display.Markdown object>"
      ]
     },
     "metadata": {},
     "output_type": "display_data"
    },
    {
     "data": {
      "text/markdown": [
       "10. Keyword found in: **align**ing nsc staff to the president’s national security goals will provide clearer \n",
       "direction, a mandate for action, and a baseline of accountability that can be used \n",
       "to evaluate staff performance and the nsc’s overall progress."
      ],
      "text/plain": [
       "<IPython.core.display.Markdown object>"
      ]
     },
     "metadata": {},
     "output_type": "display_data"
    },
    {
     "data": {
      "text/markdown": [
       "Sentiment of the context: POSITIVE (Score: 1.00)"
      ],
      "text/plain": [
       "<IPython.core.display.Markdown object>"
      ]
     },
     "metadata": {},
     "output_type": "display_data"
    },
    {
     "data": {
      "text/markdown": [
       "---"
      ],
      "text/plain": [
       "<IPython.core.display.Markdown object>"
      ]
     },
     "metadata": {},
     "output_type": "display_data"
    },
    {
     "data": {
      "text/markdown": [
       "11. Keyword found in: the accountable senior officials should be empowered to identify, recruit, clear, \n",
       "and hire staff who are **align**ed with and willing to shepherd the president’s national \n",
       "security priorities."
      ],
      "text/plain": [
       "<IPython.core.display.Markdown object>"
      ]
     },
     "metadata": {},
     "output_type": "display_data"
    },
    {
     "data": {
      "text/markdown": [
       "Sentiment of the context: POSITIVE (Score: 1.00)"
      ],
      "text/plain": [
       "<IPython.core.display.Markdown object>"
      ]
     },
     "metadata": {},
     "output_type": "display_data"
    },
    {
     "data": {
      "text/markdown": [
       "---"
      ],
      "text/plain": [
       "<IPython.core.display.Markdown object>"
      ]
     },
     "metadata": {},
     "output_type": "display_data"
    },
    {
     "data": {
      "text/markdown": [
       "12. Keyword found in: both should \n",
       "also conduct reviews of operational war plans and global force planning and allo-\n",
       "cations with the secretary of defense to **align** them with presidential priorities and \n",
       "review all key policy and guidance intended for implementation by the heads of the \n",
       "department of defense, the department of state, and the intelligence community \n",
       "before they are authorized for distribution."
      ],
      "text/plain": [
       "<IPython.core.display.Markdown object>"
      ]
     },
     "metadata": {},
     "output_type": "display_data"
    },
    {
     "data": {
      "text/markdown": [
       "Sentiment of the context: POSITIVE (Score: 0.88)"
      ],
      "text/plain": [
       "<IPython.core.display.Markdown object>"
      ]
     },
     "metadata": {},
     "output_type": "display_data"
    },
    {
     "data": {
      "text/markdown": [
       "---"
      ],
      "text/plain": [
       "<IPython.core.display.Markdown object>"
      ]
     },
     "metadata": {},
     "output_type": "display_data"
    },
    {
     "data": {
      "text/markdown": [
       "13. Keyword found in: given the aforementioned prerequisites, the nsc should be prop-\n",
       "erly resourced with sufficient policy professionals, and the nsa should prioritize \n",
       "staffing the vast majority of nsc directorates with **align**ed political appointees \n",
       "and trusted career officials."
      ],
      "text/plain": [
       "<IPython.core.display.Markdown object>"
      ]
     },
     "metadata": {},
     "output_type": "display_data"
    },
    {
     "data": {
      "text/markdown": [
       "Sentiment of the context: NEGATIVE (Score: 0.99)"
      ],
      "text/plain": [
       "<IPython.core.display.Markdown object>"
      ]
     },
     "metadata": {},
     "output_type": "display_data"
    },
    {
     "data": {
      "text/markdown": [
       "---"
      ],
      "text/plain": [
       "<IPython.core.display.Markdown object>"
      ]
     },
     "metadata": {},
     "output_type": "display_data"
    },
    {
     "data": {
      "text/markdown": [
       "14. Keyword found in: for instance, the nsa should return all nonessen-\n",
       "tial detailees to their home agencies on their first day in office so that the new \n",
       "administration can proceed efficiently without the personnel land mines left by \n",
       "the previous stewards and as soon as possible should replace all essential detailees \n",
       "with staff **align**ed to the new president’s priorities."
      ],
      "text/plain": [
       "<IPython.core.display.Markdown object>"
      ]
     },
     "metadata": {},
     "output_type": "display_data"
    },
    {
     "data": {
      "text/markdown": [
       "Sentiment of the context: NEGATIVE (Score: 0.99)"
      ],
      "text/plain": [
       "<IPython.core.display.Markdown object>"
      ]
     },
     "metadata": {},
     "output_type": "display_data"
    },
    {
     "data": {
      "text/markdown": [
       "---"
      ],
      "text/plain": [
       "<IPython.core.display.Markdown object>"
      ]
     },
     "metadata": {},
     "output_type": "display_data"
    },
    {
     "data": {
      "text/markdown": [
       "15. Keyword found in: although these hiring practices create some continuity, the presence of senior \n",
       "economists who were never fully vetted for their **align**ment with white house \n",
       "policy objectives or who were holdovers from a recently departed administra-\n",
       "tion can breed skepticism and distrust of the cea by other units within the white \n",
       "\n",
       "— 56 —\n",
       "\n",
       "mandate for leadership: the conservative promise \n",
       "\f",
       "house, creating the risk that the cea’s role in the policymaking process will be \n",
       "diminished."
      ],
      "text/plain": [
       "<IPython.core.display.Markdown object>"
      ]
     },
     "metadata": {},
     "output_type": "display_data"
    },
    {
     "data": {
      "text/markdown": [
       "Sentiment of the context: NEGATIVE (Score: 1.00)"
      ],
      "text/plain": [
       "<IPython.core.display.Markdown object>"
      ]
     },
     "metadata": {},
     "output_type": "display_data"
    },
    {
     "data": {
      "text/markdown": [
       "---"
      ],
      "text/plain": [
       "<IPython.core.display.Markdown object>"
      ]
     },
     "metadata": {},
     "output_type": "display_data"
    },
    {
     "data": {
      "text/markdown": [
       "16. Keyword found in: policy \n",
       "stability is easier when policies and programs are **align**ed with long-term national \n",
       "interests as opposed to those of particular advocacy groups or political factions. \n"
      ],
      "text/plain": [
       "<IPython.core.display.Markdown object>"
      ]
     },
     "metadata": {},
     "output_type": "display_data"
    },
    {
     "data": {
      "text/markdown": [
       "Sentiment of the context: POSITIVE (Score: 0.98)"
      ],
      "text/plain": [
       "<IPython.core.display.Markdown object>"
      ]
     },
     "metadata": {},
     "output_type": "display_data"
    },
    {
     "data": {
      "text/markdown": [
       "---"
      ],
      "text/plain": [
       "<IPython.core.display.Markdown object>"
      ]
     },
     "metadata": {},
     "output_type": "display_data"
    },
    {
     "data": {
      "text/markdown": [
       "17. Keyword found in: she \n",
       "adds that the department possesses a “belief that it is an independent institution \n",
       "that knows what is best for the united states, sets its own foreign policy, and \n",
       "does not need direction from an elected president”—a view that does not **align** \n",
       "with the constitution.\n",
       "\n",
       "— 88 —\n",
       "\n",
       "mandate for leadership: the conservative promise \n",
       "\f",
       "the solution to this problem is strong political leadership."
      ],
      "text/plain": [
       "<IPython.core.display.Markdown object>"
      ]
     },
     "metadata": {},
     "output_type": "display_data"
    },
    {
     "data": {
      "text/markdown": [
       "Sentiment of the context: POSITIVE (Score: 0.99)"
      ],
      "text/plain": [
       "<IPython.core.display.Markdown object>"
      ]
     },
     "metadata": {},
     "output_type": "display_data"
    },
    {
     "data": {
      "text/markdown": [
       "---"
      ],
      "text/plain": [
       "<IPython.core.display.Markdown object>"
      ]
     },
     "metadata": {},
     "output_type": "display_data"
    },
    {
     "data": {
      "text/markdown": [
       "18. Keyword found in: 2.  **align** collection and analysis with vital national interests (countering \n",
       "\n",
       "china and russia).\n",
       "\n"
      ],
      "text/plain": [
       "<IPython.core.display.Markdown object>"
      ]
     },
     "metadata": {},
     "output_type": "display_data"
    },
    {
     "data": {
      "text/markdown": [
       "Sentiment of the context: POSITIVE (Score: 1.00)"
      ],
      "text/plain": [
       "<IPython.core.display.Markdown object>"
      ]
     },
     "metadata": {},
     "output_type": "display_data"
    },
    {
     "data": {
      "text/markdown": [
       "---"
      ],
      "text/plain": [
       "<IPython.core.display.Markdown object>"
      ]
     },
     "metadata": {},
     "output_type": "display_data"
    },
    {
     "data": {
      "text/markdown": [
       "19. Keyword found in: 4.  rebuild human intelligence (humint) and counterintelligence (ci) and \n",
       "\n",
       "improve their integration with defensive and offensive cyber operations.\n",
       "\n",
       "— 106 —\n",
       "\n",
       "mandate for leadership: the conservative promise \n",
       "\f",
       "5.  establish true **align**ment between dod and dhs both to improve the \n",
       "defense of critical u.s. infrastructure and national border integrity \n",
       "and to develop vital information that enables defense against foreign \n",
       "targeted disruptions.23\n",
       "\n",
       " l restore accountability and public trust."
      ],
      "text/plain": [
       "<IPython.core.display.Markdown object>"
      ]
     },
     "metadata": {},
     "output_type": "display_data"
    },
    {
     "data": {
      "text/markdown": [
       "Sentiment of the context: POSITIVE (Score: 0.99)"
      ],
      "text/plain": [
       "<IPython.core.display.Markdown object>"
      ]
     },
     "metadata": {},
     "output_type": "display_data"
    },
    {
     "data": {
      "text/markdown": [
       "---"
      ],
      "text/plain": [
       "<IPython.core.display.Markdown object>"
      ]
     },
     "metadata": {},
     "output_type": "display_data"
    },
    {
     "data": {
      "text/markdown": [
       "20. Keyword found in: additionally, the corps needs to improve its \n",
       "retention of junior ncos after their first enlistments (the marines have \n",
       "much lower rates of reenlistment than other branches).33\n",
       "\n",
       "1.  **align** the usmc’s combat arms rank structure with the u.s. army’s (squad \n",
       "\n",
       "leader billets are for e-6s, and platoon sergeant billets are for e-7s).\n",
       "\n"
      ],
      "text/plain": [
       "<IPython.core.display.Markdown object>"
      ]
     },
     "metadata": {},
     "output_type": "display_data"
    },
    {
     "data": {
      "text/markdown": [
       "Sentiment of the context: NEGATIVE (Score: 1.00)"
      ],
      "text/plain": [
       "<IPython.core.display.Markdown object>"
      ]
     },
     "metadata": {},
     "output_type": "display_data"
    },
    {
     "data": {
      "text/markdown": [
       "---"
      ],
      "text/plain": [
       "<IPython.core.display.Markdown object>"
      ]
     },
     "metadata": {},
     "output_type": "display_data"
    },
    {
     "data": {
      "text/markdown": [
       "21. Keyword found in: l **align** navy amphibious shipbuilding with force design 2030."
      ],
      "text/plain": [
       "<IPython.core.display.Markdown object>"
      ]
     },
     "metadata": {},
     "output_type": "display_data"
    },
    {
     "data": {
      "text/markdown": [
       "Sentiment of the context: POSITIVE (Score: 0.98)"
      ],
      "text/plain": [
       "<IPython.core.display.Markdown object>"
      ]
     },
     "metadata": {},
     "output_type": "display_data"
    },
    {
     "data": {
      "text/markdown": [
       "---"
      ],
      "text/plain": [
       "<IPython.core.display.Markdown object>"
      ]
     },
     "metadata": {},
     "output_type": "display_data"
    },
    {
     "data": {
      "text/markdown": [
       "22. Keyword found in: 6.  implement the government accountability office’s recommendation \n",
       "\n",
       "that the dod chief information officer, commander of uscybercom, \n",
       "and commander of joint force headquarters–dod information \n",
       "network “**align** policy and system requirements to enable dod to have \n",
       "enterprise-wide visibility of cyber incident reporting to support tactical, \n",
       "strategic, and military strategies for response."
      ],
      "text/plain": [
       "<IPython.core.display.Markdown object>"
      ]
     },
     "metadata": {},
     "output_type": "display_data"
    },
    {
     "data": {
      "text/markdown": [
       "Sentiment of the context: POSITIVE (Score: 0.99)"
      ],
      "text/plain": [
       "<IPython.core.display.Markdown object>"
      ]
     },
     "metadata": {},
     "output_type": "display_data"
    },
    {
     "data": {
      "text/markdown": [
       "---"
      ],
      "text/plain": [
       "<IPython.core.display.Markdown object>"
      ]
     },
     "metadata": {},
     "output_type": "display_data"
    },
    {
     "data": {
      "text/markdown": [
       "23. Keyword found in: needed reforms\n",
       "\n",
       "since january 2021, uscis’s priorities have been mis**align**ed, and this has trans-\n",
       "formed it into an open-borders agency, ignoring the critical role that it plays in \n",
       "national security, public safety, and safeguarding the integrity of our immigration \n",
       "system."
      ],
      "text/plain": [
       "<IPython.core.display.Markdown object>"
      ]
     },
     "metadata": {},
     "output_type": "display_data"
    },
    {
     "data": {
      "text/markdown": [
       "Sentiment of the context: NEGATIVE (Score: 0.97)"
      ],
      "text/plain": [
       "<IPython.core.display.Markdown object>"
      ]
     },
     "metadata": {},
     "output_type": "display_data"
    },
    {
     "data": {
      "text/markdown": [
       "---"
      ],
      "text/plain": [
       "<IPython.core.display.Markdown object>"
      ]
     },
     "metadata": {},
     "output_type": "display_data"
    },
    {
     "data": {
      "text/markdown": [
       "24. Keyword found in: correcting the current mis**align**ment \n",
       "of agency priorities and resources should begin with this primary shift in focus to \n",
       "vetting and fraud detection."
      ],
      "text/plain": [
       "<IPython.core.display.Markdown object>"
      ]
     },
     "metadata": {},
     "output_type": "display_data"
    },
    {
     "data": {
      "text/markdown": [
       "Sentiment of the context: NEGATIVE (Score: 0.53)"
      ],
      "text/plain": [
       "<IPython.core.display.Markdown object>"
      ]
     },
     "metadata": {},
     "output_type": "display_data"
    },
    {
     "data": {
      "text/markdown": [
       "---"
      ],
      "text/plain": [
       "<IPython.core.display.Markdown object>"
      ]
     },
     "metadata": {},
     "output_type": "display_data"
    },
    {
     "data": {
      "text/markdown": [
       "25. Keyword found in: l the workforce should be re**align**ed and, as necessary, retrained on base \n",
       "\n",
       "eligibility and fraud detection rather than speed in processing.\n",
       "\n",
       " "
      ],
      "text/plain": [
       "<IPython.core.display.Markdown object>"
      ]
     },
     "metadata": {},
     "output_type": "display_data"
    },
    {
     "data": {
      "text/markdown": [
       "Sentiment of the context: NEGATIVE (Score: 1.00)"
      ],
      "text/plain": [
       "<IPython.core.display.Markdown object>"
      ]
     },
     "metadata": {},
     "output_type": "display_data"
    },
    {
     "data": {
      "text/markdown": [
       "---"
      ],
      "text/plain": [
       "<IPython.core.display.Markdown object>"
      ]
     },
     "metadata": {},
     "output_type": "display_data"
    },
    {
     "data": {
      "text/markdown": [
       "26. Keyword found in: l training should be returned to federal law enforcement training centers \n",
       "(fletc), which would underscore the enforcement role of uscis as a \n",
       "vetting agency, and be rebranded accordingly.\n",
       "\n",
       "— 144 —\n",
       "\n",
       "mandate for leadership: the conservative promise \n",
       "\f",
       " l management directives and policies should re**align** to ensure that the \n",
       "\n",
       "workforce, while adaptable and able to handle the bulk of the uscis mission, \n",
       "is not allowed to be pulled off mission work to focus on unlawful programs \n",
       "(daca, mass parole for afghans, ukrainians, venezuelans, etc.), which \n",
       "divert resources away from nuclear family and employment programs.\n",
       "\n"
      ],
      "text/plain": [
       "<IPython.core.display.Markdown object>"
      ]
     },
     "metadata": {},
     "output_type": "display_data"
    },
    {
     "data": {
      "text/markdown": [
       "Sentiment of the context: NEGATIVE (Score: 0.98)"
      ],
      "text/plain": [
       "<IPython.core.display.Markdown object>"
      ]
     },
     "metadata": {},
     "output_type": "display_data"
    },
    {
     "data": {
      "text/markdown": [
       "---"
      ],
      "text/plain": [
       "<IPython.core.display.Markdown object>"
      ]
     },
     "metadata": {},
     "output_type": "display_data"
    },
    {
     "data": {
      "text/markdown": [
       "27. Keyword found in: it is critical that any changes in the budget, even in the wake of a re**align**ed \n",
       "agency combined with ice and cbp, should retain a fee-funded model.\n",
       "\n"
      ],
      "text/plain": [
       "<IPython.core.display.Markdown object>"
      ]
     },
     "metadata": {},
     "output_type": "display_data"
    },
    {
     "data": {
      "text/markdown": [
       "Sentiment of the context: NEGATIVE (Score: 1.00)"
      ],
      "text/plain": [
       "<IPython.core.display.Markdown object>"
      ]
     },
     "metadata": {},
     "output_type": "display_data"
    },
    {
     "data": {
      "text/markdown": [
       "---"
      ],
      "text/plain": [
       "<IPython.core.display.Markdown object>"
      ]
     },
     "metadata": {},
     "output_type": "display_data"
    },
    {
     "data": {
      "text/markdown": [
       "28. Keyword found in: l asylum reform\n",
       "\n",
       "1.  the standard for a credible fear of persecution should be raised and \n",
       "\n",
       "**align**ed to the standard for asylum."
      ],
      "text/plain": [
       "<IPython.core.display.Markdown object>"
      ]
     },
     "metadata": {},
     "output_type": "display_data"
    },
    {
     "data": {
      "text/markdown": [
       "Sentiment of the context: NEGATIVE (Score: 0.96)"
      ],
      "text/plain": [
       "<IPython.core.display.Markdown object>"
      ]
     },
     "metadata": {},
     "output_type": "display_data"
    },
    {
     "data": {
      "text/markdown": [
       "---"
      ],
      "text/plain": [
       "<IPython.core.display.Markdown object>"
      ]
     },
     "metadata": {},
     "output_type": "display_data"
    },
    {
     "data": {
      "text/markdown": [
       "29. Keyword found in: 2.  re**align** the fraud detection and national security directorate (fdns) \n",
       "\n",
       "to ensure agencywide consistency on implementation of fraud detection \n",
       "and vetting policies.\n",
       "\n"
      ],
      "text/plain": [
       "<IPython.core.display.Markdown object>"
      ]
     },
     "metadata": {},
     "output_type": "display_data"
    },
    {
     "data": {
      "text/markdown": [
       "Sentiment of the context: POSITIVE (Score: 0.98)"
      ],
      "text/plain": [
       "<IPython.core.display.Markdown object>"
      ]
     },
     "metadata": {},
     "output_type": "display_data"
    },
    {
     "data": {
      "text/markdown": [
       "---"
      ],
      "text/plain": [
       "<IPython.core.display.Markdown object>"
      ]
     },
     "metadata": {},
     "output_type": "display_data"
    },
    {
     "data": {
      "text/markdown": [
       "30. Keyword found in: cisa’s funding and resources should **align** narrowly with the foregoing two \n",
       "mission requirements."
      ],
      "text/plain": [
       "<IPython.core.display.Markdown object>"
      ]
     },
     "metadata": {},
     "output_type": "display_data"
    },
    {
     "data": {
      "text/markdown": [
       "Sentiment of the context: POSITIVE (Score: 0.99)"
      ],
      "text/plain": [
       "<IPython.core.display.Markdown object>"
      ]
     },
     "metadata": {},
     "output_type": "display_data"
    },
    {
     "data": {
      "text/markdown": [
       "---"
      ],
      "text/plain": [
       "<IPython.core.display.Markdown object>"
      ]
     },
     "metadata": {},
     "output_type": "display_data"
    },
    {
     "data": {
      "text/markdown": [
       "31. Keyword found in: the organizational structure of both crcl and the privacy office should be \n",
       "changed to ensure proper **align**ment with the department’s mission."
      ],
      "text/plain": [
       "<IPython.core.display.Markdown object>"
      ]
     },
     "metadata": {},
     "output_type": "display_data"
    },
    {
     "data": {
      "text/markdown": [
       "Sentiment of the context: NEGATIVE (Score: 1.00)"
      ],
      "text/plain": [
       "<IPython.core.display.Markdown object>"
      ]
     },
     "metadata": {},
     "output_type": "display_data"
    },
    {
     "data": {
      "text/markdown": [
       "---"
      ],
      "text/plain": [
       "<IPython.core.display.Markdown object>"
      ]
     },
     "metadata": {},
     "output_type": "display_data"
    },
    {
     "data": {
      "text/markdown": [
       "32. Keyword found in: for \n",
       "example, under the biden administration, the state department was considered \n",
       "sufficiently unreliable in terms of **align**ment and effectiveness such that its political \n",
       "leadership invoked its circular 175 (c-175) authority to delegate its diplomatic \n",
       "capacity to other agencies such as the department of homeland security.\n",
       "\n"
      ],
      "text/plain": [
       "<IPython.core.display.Markdown object>"
      ]
     },
     "metadata": {},
     "output_type": "display_data"
    },
    {
     "data": {
      "text/markdown": [
       "Sentiment of the context: NEGATIVE (Score: 1.00)"
      ],
      "text/plain": [
       "<IPython.core.display.Markdown object>"
      ]
     },
     "metadata": {},
     "output_type": "display_data"
    },
    {
     "data": {
      "text/markdown": [
       "---"
      ],
      "text/plain": [
       "<IPython.core.display.Markdown object>"
      ]
     },
     "metadata": {},
     "output_type": "display_data"
    },
    {
     "data": {
      "text/markdown": [
       "33. Keyword found in: he or she should direct the secretary of state to freeze any ongoing treaty or inter-\n",
       "national agreement negotiations and assess whether those efforts **align** with the \n",
       "new president’s foreign policy direction."
      ],
      "text/plain": [
       "<IPython.core.display.Markdown object>"
      ]
     },
     "metadata": {},
     "output_type": "display_data"
    },
    {
     "data": {
      "text/markdown": [
       "Sentiment of the context: NEGATIVE (Score: 1.00)"
      ],
      "text/plain": [
       "<IPython.core.display.Markdown object>"
      ]
     },
     "metadata": {},
     "output_type": "display_data"
    },
    {
     "data": {
      "text/markdown": [
       "---"
      ],
      "text/plain": [
       "<IPython.core.display.Markdown object>"
      ]
     },
     "metadata": {},
     "output_type": "display_data"
    },
    {
     "data": {
      "text/markdown": [
       "34. Keyword found in: the state department’s \n",
       "evaluation must ensure that these programs are not only consistent with \n",
       "white house immigration policy, but also **align** with its national security \n",
       "obligations and resource limitations.\n",
       "\n"
      ],
      "text/plain": [
       "<IPython.core.display.Markdown object>"
      ]
     },
     "metadata": {},
     "output_type": "display_data"
    },
    {
     "data": {
      "text/markdown": [
       "Sentiment of the context: NEGATIVE (Score: 0.67)"
      ],
      "text/plain": [
       "<IPython.core.display.Markdown object>"
      ]
     },
     "metadata": {},
     "output_type": "display_data"
    },
    {
     "data": {
      "text/markdown": [
       "---"
      ],
      "text/plain": [
       "<IPython.core.display.Markdown object>"
      ]
     },
     "metadata": {},
     "output_type": "display_data"
    },
    {
     "data": {
      "text/markdown": [
       "35. Keyword found in: others refuse to acknowl-\n",
       "edge beijing’s m**align** activities and often pass off criticism as conspiracy theories.\n"
      ],
      "text/plain": [
       "<IPython.core.display.Markdown object>"
      ]
     },
     "metadata": {},
     "output_type": "display_data"
    },
    {
     "data": {
      "text/markdown": [
       "Sentiment of the context: NEGATIVE (Score: 1.00)"
      ],
      "text/plain": [
       "<IPython.core.display.Markdown object>"
      ]
     },
     "metadata": {},
     "output_type": "display_data"
    },
    {
     "data": {
      "text/markdown": [
       "---"
      ],
      "text/plain": [
       "<IPython.core.display.Markdown object>"
      ]
     },
     "metadata": {},
     "output_type": "display_data"
    },
    {
     "data": {
      "text/markdown": [
       "36. Keyword found in: l counter m**align** chinese activity on the continent."
      ],
      "text/plain": [
       "<IPython.core.display.Markdown object>"
      ]
     },
     "metadata": {},
     "output_type": "display_data"
    },
    {
     "data": {
      "text/markdown": [
       "Sentiment of the context: NEGATIVE (Score: 0.99)"
      ],
      "text/plain": [
       "<IPython.core.display.Markdown object>"
      ]
     },
     "metadata": {},
     "output_type": "display_data"
    },
    {
     "data": {
      "text/markdown": [
       "---"
      ],
      "text/plain": [
       "<IPython.core.display.Markdown object>"
      ]
     },
     "metadata": {},
     "output_type": "display_data"
    },
    {
     "data": {
      "text/markdown": [
       "37. Keyword found in: outside the eu, trade with \n",
       "the post-brexit u.k. needs urgent development before london slips back into the \n",
       "orbit of the eu.\n",
       "\n",
       "third, in the wake of brexit, eu foreign policy now takes place without u.k. \n",
       "input, which disadvantages the united states, given that the u.k. has historically \n",
       "been **align**ed with many u.s. positions."
      ],
      "text/plain": [
       "<IPython.core.display.Markdown object>"
      ]
     },
     "metadata": {},
     "output_type": "display_data"
    },
    {
     "data": {
      "text/markdown": [
       "Sentiment of the context: NEGATIVE (Score: 1.00)"
      ],
      "text/plain": [
       "<IPython.core.display.Markdown object>"
      ]
     },
     "metadata": {},
     "output_type": "display_data"
    },
    {
     "data": {
      "text/markdown": [
       "---"
      ],
      "text/plain": [
       "<IPython.core.display.Markdown object>"
      ]
     },
     "metadata": {},
     "output_type": "display_data"
    },
    {
     "data": {
      "text/markdown": [
       "38. Keyword found in: the result was the geneva consensus declaration on women’s health \n",
       "and protection of the family.21 all u.s. foreign policy engagements that were pro-\n",
       "duced and expanded under the obama and biden administrations must be **align**ed \n",
       "with the geneva consensus declaration and the work of the u.s. commission on \n",
       "unalienable human rights.\n",
       "\n"
      ],
      "text/plain": [
       "<IPython.core.display.Markdown object>"
      ]
     },
     "metadata": {},
     "output_type": "display_data"
    },
    {
     "data": {
      "text/markdown": [
       "Sentiment of the context: NEGATIVE (Score: 0.62)"
      ],
      "text/plain": [
       "<IPython.core.display.Markdown object>"
      ]
     },
     "metadata": {},
     "output_type": "display_data"
    },
    {
     "data": {
      "text/markdown": [
       "---"
      ],
      "text/plain": [
       "<IPython.core.display.Markdown object>"
      ]
     },
     "metadata": {},
     "output_type": "display_data"
    },
    {
     "data": {
      "text/markdown": [
       "39. Keyword found in: this role—which existed briefly during \n",
       "the george w. bush administration before it was eliminated by the \n",
       "obama administration—would empower the dual-hatted official to better \n",
       "**align** and coordinate with the manifold foreign assistance programs \n",
       "across the federal government."
      ],
      "text/plain": [
       "<IPython.core.display.Markdown object>"
      ]
     },
     "metadata": {},
     "output_type": "display_data"
    },
    {
     "data": {
      "text/markdown": [
       "Sentiment of the context: POSITIVE (Score: 1.00)"
      ],
      "text/plain": [
       "<IPython.core.display.Markdown object>"
      ]
     },
     "metadata": {},
     "output_type": "display_data"
    },
    {
     "data": {
      "text/markdown": [
       "---"
      ],
      "text/plain": [
       "<IPython.core.display.Markdown object>"
      ]
     },
     "metadata": {},
     "output_type": "display_data"
    },
    {
     "data": {
      "text/markdown": [
       "40. Keyword found in: the revisions were **align**ed with irtpa with significant emphasis on \n",
       "having the ic address the threats to the homeland from international terrorism \n",
       "and the proliferation of weapons of mass destruction."
      ],
      "text/plain": [
       "<IPython.core.display.Markdown object>"
      ]
     },
     "metadata": {},
     "output_type": "display_data"
    },
    {
     "data": {
      "text/markdown": [
       "Sentiment of the context: POSITIVE (Score: 0.93)"
      ],
      "text/plain": [
       "<IPython.core.display.Markdown object>"
      ]
     },
     "metadata": {},
     "output_type": "display_data"
    },
    {
     "data": {
      "text/markdown": [
       "---"
      ],
      "text/plain": [
       "<IPython.core.display.Markdown object>"
      ]
     },
     "metadata": {},
     "output_type": "display_data"
    },
    {
     "data": {
      "text/markdown": [
       "41. Keyword found in: l the director and deputy director should meet with all directorates and \n",
       "mission centers, prioritizing those that are **align**ed most closely with the \n",
       "president’s priorities and calibrating collection and operations based on \n",
       "the president’s intelligence requirements."
      ],
      "text/plain": [
       "<IPython.core.display.Markdown object>"
      ]
     },
     "metadata": {},
     "output_type": "display_data"
    },
    {
     "data": {
      "text/markdown": [
       "Sentiment of the context: POSITIVE (Score: 0.99)"
      ],
      "text/plain": [
       "<IPython.core.display.Markdown object>"
      ]
     },
     "metadata": {},
     "output_type": "display_data"
    },
    {
     "data": {
      "text/markdown": [
       "---"
      ],
      "text/plain": [
       "<IPython.core.display.Markdown object>"
      ]
     },
     "metadata": {},
     "output_type": "display_data"
    },
    {
     "data": {
      "text/markdown": [
       "42. Keyword found in: the \n",
       "cia must find creative ways to **align** mission requirements with hiring needs, \n",
       "recruit diverse sets of individuals with unique backgrounds, and become more \n",
       "open to hiring private-sector experts directly into senior positions."
      ],
      "text/plain": [
       "<IPython.core.display.Markdown object>"
      ]
     },
     "metadata": {},
     "output_type": "display_data"
    },
    {
     "data": {
      "text/markdown": [
       "Sentiment of the context: NEGATIVE (Score: 0.92)"
      ],
      "text/plain": [
       "<IPython.core.display.Markdown object>"
      ]
     },
     "metadata": {},
     "output_type": "display_data"
    },
    {
     "data": {
      "text/markdown": [
       "---"
      ],
      "text/plain": [
       "<IPython.core.display.Markdown object>"
      ]
     },
     "metadata": {},
     "output_type": "display_data"
    },
    {
     "data": {
      "text/markdown": [
       "43. Keyword found in: eventually:\n",
       "\n",
       "in november 2014 the director of national intelligence (dni) established \n",
       "ncsc by combining [the office of the national counterintelligence \n",
       "executive] with the center for security evaluation, the special security \n",
       "center and the national insider threat task force, to effectively integrate \n",
       "and **align** counterintelligence and security mission areas under a single \n",
       "organizational construct."
      ],
      "text/plain": [
       "<IPython.core.display.Markdown object>"
      ]
     },
     "metadata": {},
     "output_type": "display_data"
    },
    {
     "data": {
      "text/markdown": [
       "Sentiment of the context: POSITIVE (Score: 0.99)"
      ],
      "text/plain": [
       "<IPython.core.display.Markdown object>"
      ]
     },
     "metadata": {},
     "output_type": "display_data"
    },
    {
     "data": {
      "text/markdown": [
       "---"
      ],
      "text/plain": [
       "<IPython.core.display.Markdown object>"
      ]
     },
     "metadata": {},
     "output_type": "display_data"
    },
    {
     "data": {
      "text/markdown": [
       "44. Keyword found in: executive \n",
       "order 14086, “enhancing safeguards for united states signals intelligence activi-\n",
       "ties,”47 implements this new framework by attempting to **align** signals intelligence \n",
       "collection practices with european privacy regulations."
      ],
      "text/plain": [
       "<IPython.core.display.Markdown object>"
      ]
     },
     "metadata": {},
     "output_type": "display_data"
    },
    {
     "data": {
      "text/markdown": [
       "Sentiment of the context: POSITIVE (Score: 0.88)"
      ],
      "text/plain": [
       "<IPython.core.display.Markdown object>"
      ]
     },
     "metadata": {},
     "output_type": "display_data"
    },
    {
     "data": {
      "text/markdown": [
       "---"
      ],
      "text/plain": [
       "<IPython.core.display.Markdown object>"
      ]
     },
     "metadata": {},
     "output_type": "display_data"
    },
    {
     "data": {
      "text/markdown": [
       "45. Keyword found in: l artificial intelligence and machine learning;\n",
       "\n",
       " l quantum cryptography and post-quantum encryption (pqe); and\n",
       "\n",
       " l cybersecurity infrastructure where biden administration changes have \n",
       "re**align**ed and reassigned management oversight and it architecture \n",
       "responsibilities to nsa and dhs/cisa, conflicting with iccio-\n",
       "delineated roles.\n",
       "\n"
      ],
      "text/plain": [
       "<IPython.core.display.Markdown object>"
      ]
     },
     "metadata": {},
     "output_type": "display_data"
    },
    {
     "data": {
      "text/markdown": [
       "Sentiment of the context: NEGATIVE (Score: 1.00)"
      ],
      "text/plain": [
       "<IPython.core.display.Markdown object>"
      ]
     },
     "metadata": {},
     "output_type": "display_data"
    },
    {
     "data": {
      "text/markdown": [
       "---"
      ],
      "text/plain": [
       "<IPython.core.display.Markdown object>"
      ]
     },
     "metadata": {},
     "output_type": "display_data"
    },
    {
     "data": {
      "text/markdown": [
       "46. Keyword found in: in **align**ment \n",
       "with u.s. national security interests, the agency promotes american prosperity \n",
       "through initiatives that expand markets for u.s. exports; encourage innovation; \n",
       "create a level playing field for u.s. businesses; and support more stable, resilient, \n",
       "and democratic societies that are less likely to act against american interests and \n",
       "more likely to respect family, life, and religious liberty.\n",
       "\n"
      ],
      "text/plain": [
       "<IPython.core.display.Markdown object>"
      ]
     },
     "metadata": {},
     "output_type": "display_data"
    },
    {
     "data": {
      "text/markdown": [
       "Sentiment of the context: POSITIVE (Score: 1.00)"
      ],
      "text/plain": [
       "<IPython.core.display.Markdown object>"
      ]
     },
     "metadata": {},
     "output_type": "display_data"
    },
    {
     "data": {
      "text/markdown": [
       "---"
      ],
      "text/plain": [
       "<IPython.core.display.Markdown object>"
      ]
     },
     "metadata": {},
     "output_type": "display_data"
    },
    {
     "data": {
      "text/markdown": [
       "47. Keyword found in: key issues\n",
       "\n",
       "**align**ing u.s. foreign aid to u.s. foreign policy."
      ],
      "text/plain": [
       "<IPython.core.display.Markdown object>"
      ]
     },
     "metadata": {},
     "output_type": "display_data"
    },
    {
     "data": {
      "text/markdown": [
       "Sentiment of the context: POSITIVE (Score: 0.99)"
      ],
      "text/plain": [
       "<IPython.core.display.Markdown object>"
      ]
     },
     "metadata": {},
     "output_type": "display_data"
    },
    {
     "data": {
      "text/markdown": [
       "---"
      ],
      "text/plain": [
       "<IPython.core.display.Markdown object>"
      ]
     },
     "metadata": {},
     "output_type": "display_data"
    },
    {
     "data": {
      "text/markdown": [
       "48. Keyword found in: the dfa role would \n",
       "empower this person to **align** and coordinate the countless foreign assistance \n",
       "programs across the u.s. government and carry out the agenda of the next con-\n",
       "servative president more effectively."
      ],
      "text/plain": [
       "<IPython.core.display.Markdown object>"
      ]
     },
     "metadata": {},
     "output_type": "display_data"
    },
    {
     "data": {
      "text/markdown": [
       "Sentiment of the context: POSITIVE (Score: 1.00)"
      ],
      "text/plain": [
       "<IPython.core.display.Markdown object>"
      ]
     },
     "metadata": {},
     "output_type": "display_data"
    },
    {
     "data": {
      "text/markdown": [
       "---"
      ],
      "text/plain": [
       "<IPython.core.display.Markdown object>"
      ]
     },
     "metadata": {},
     "output_type": "display_data"
    },
    {
     "data": {
      "text/markdown": [
       "49. Keyword found in: the next conservative administration should rename the usaid office of \n",
       "gender equality and women’s empowerment (gewe) as the usaid office of \n",
       "women, children, and families; refocus and re**align** resources that currently \n",
       "support programs in gewe to the office of women, children, and families; redes-\n",
       "ignate the senior gender coordinator as an unapologetically pro-life politically \n",
       "appointed senior coordinator of the office of women, children, and families; and \n",
       "eliminate the “more than 180 gender advisors and points of contact…embedded in \n",
       "missions and operating units throughout the agency."
      ],
      "text/plain": [
       "<IPython.core.display.Markdown object>"
      ]
     },
     "metadata": {},
     "output_type": "display_data"
    },
    {
     "data": {
      "text/markdown": [
       "Sentiment of the context: NEGATIVE (Score: 0.94)"
      ],
      "text/plain": [
       "<IPython.core.display.Markdown object>"
      ]
     },
     "metadata": {},
     "output_type": "display_data"
    },
    {
     "data": {
      "text/markdown": [
       "---"
      ],
      "text/plain": [
       "<IPython.core.display.Markdown object>"
      ]
     },
     "metadata": {},
     "output_type": "display_data"
    },
    {
     "data": {
      "text/markdown": [
       "50. Keyword found in: yet the country has received nearly $1 billion more in u.s. humanitarian aid \n",
       "since the taliban’s takeover and absent a u.s. embassy to ensure that it is not \n",
       "diverted to the taliban and other terrorist groups.\n",
       "\n",
       "in burma, u.s. aid finances all of the food and medical care for hundreds of \n",
       "thousands of persecuted rohingya that the military regime forces to live in \n",
       "open-air concentration camps.\n",
       "\n",
       "in northern iraq, hundreds of thousands of yazidis—targeted for genocidal \n",
       "extermination by isis—remain in miserable camps unable to return home \n",
       "because of the iraqi government’s refusal to clear out iran-backed militias \n",
       "occupying their homeland.\n",
       "\n",
       "— 267 —\n",
       "\n",
       "2025 presidential transition project \n",
       "\f",
       "in effect, humanitarian aid is sustaining war economies, creating financial \n",
       "incentives for warring parties to continue fighting, discouraging governments \n",
       "from reforming, and propping up m**align** regimes.\n",
       "\n"
      ],
      "text/plain": [
       "<IPython.core.display.Markdown object>"
      ]
     },
     "metadata": {},
     "output_type": "display_data"
    },
    {
     "data": {
      "text/markdown": [
       "Sentiment of the context: NEGATIVE (Score: 0.96)"
      ],
      "text/plain": [
       "<IPython.core.display.Markdown object>"
      ]
     },
     "metadata": {},
     "output_type": "display_data"
    },
    {
     "data": {
      "text/markdown": [
       "---"
      ],
      "text/plain": [
       "<IPython.core.display.Markdown object>"
      ]
     },
     "metadata": {},
     "output_type": "display_data"
    },
    {
     "data": {
      "text/markdown": [
       "51. Keyword found in: the next administration should resize and \n",
       "repurpose usaid’s humanitarian aid portfolio to restore its original purpose of \n",
       "providing emergency short-term relief, prepare vulnerable communities for tran-\n",
       "sition, and do no harm in the following ways:\n",
       "\n",
       " l work with congress to make deep cuts in the ida budget by ending \n",
       "\n",
       "programs that do more harm than good in places controlled by m**align** \n",
       "actors, such as in yemen, syria, and afghanistan, where our aid is consumed \n",
       "by fraud, diversion, and partner overhead costs.\n",
       "\n",
       " "
      ],
      "text/plain": [
       "<IPython.core.display.Markdown object>"
      ]
     },
     "metadata": {},
     "output_type": "display_data"
    },
    {
     "data": {
      "text/markdown": [
       "Sentiment of the context: POSITIVE (Score: 0.69)"
      ],
      "text/plain": [
       "<IPython.core.display.Markdown object>"
      ]
     },
     "metadata": {},
     "output_type": "display_data"
    },
    {
     "data": {
      "text/markdown": [
       "---"
      ],
      "text/plain": [
       "<IPython.core.display.Markdown object>"
      ]
     },
     "metadata": {},
     "output_type": "display_data"
    },
    {
     "data": {
      "text/markdown": [
       "52. Keyword found in: the trump \n",
       "administration launched a usaid–dfc working group to maximize development \n",
       "outcomes and review individual investment projects through a counter-china lens \n",
       "and ensure a cohesive interagency development response.\n",
       "\n",
       "— 269 —\n",
       "\n",
       "2025 presidential transition project \n",
       "\f",
       "as development agencies, usaid and dfc must do a better job of **align**ing \n",
       "their respective activities and closely integrate both structurally and operation-\n",
       "ally."
      ],
      "text/plain": [
       "<IPython.core.display.Markdown object>"
      ]
     },
     "metadata": {},
     "output_type": "display_data"
    },
    {
     "data": {
      "text/markdown": [
       "Sentiment of the context: POSITIVE (Score: 0.99)"
      ],
      "text/plain": [
       "<IPython.core.display.Markdown object>"
      ]
     },
     "metadata": {},
     "output_type": "display_data"
    },
    {
     "data": {
      "text/markdown": [
       "---"
      ],
      "text/plain": [
       "<IPython.core.display.Markdown object>"
      ]
     },
     "metadata": {},
     "output_type": "display_data"
    },
    {
     "data": {
      "text/markdown": [
       "53. Keyword found in: the easiest way to foster this **align**ment is to “dual hat” the role of dfc’s \n",
       "chief development officer so that he or she serves simultaneously in both institu-\n",
       "tions."
      ],
      "text/plain": [
       "<IPython.core.display.Markdown object>"
      ]
     },
     "metadata": {},
     "output_type": "display_data"
    },
    {
     "data": {
      "text/markdown": [
       "Sentiment of the context: NEGATIVE (Score: 1.00)"
      ],
      "text/plain": [
       "<IPython.core.display.Markdown object>"
      ]
     },
     "metadata": {},
     "output_type": "display_data"
    },
    {
     "data": {
      "text/markdown": [
       "---"
      ],
      "text/plain": [
       "<IPython.core.display.Markdown object>"
      ]
     },
     "metadata": {},
     "output_type": "display_data"
    },
    {
     "data": {
      "text/markdown": [
       "54. Keyword found in: worst of all, m**align** actors sometimes appropriate \n",
       "credit for unbranded u.s. assistance: houthi terrorists, for example, claim to pro-\n",
       "vide for the people under their occupation with anonymous u.s. humanitarian aid.\n"
      ],
      "text/plain": [
       "<IPython.core.display.Markdown object>"
      ]
     },
     "metadata": {},
     "output_type": "display_data"
    },
    {
     "data": {
      "text/markdown": [
       "Sentiment of the context: NEGATIVE (Score: 1.00)"
      ],
      "text/plain": [
       "<IPython.core.display.Markdown object>"
      ]
     },
     "metadata": {},
     "output_type": "display_data"
    },
    {
     "data": {
      "text/markdown": [
       "---"
      ],
      "text/plain": [
       "<IPython.core.display.Markdown object>"
      ]
     },
     "metadata": {},
     "output_type": "display_data"
    },
    {
     "data": {
      "text/markdown": [
       "55. Keyword found in: conclusion\n",
       "\n",
       "the next conservative administration will have a unique opportunity to re**align** \n",
       "u.s. foreign assistance with american national interests and the principles of good \n",
       "governance and more accurately reflect the u.s. taxpayer’s unmatched charita-\n",
       "ble desire to help those in need."
      ],
      "text/plain": [
       "<IPython.core.display.Markdown object>"
      ]
     },
     "metadata": {},
     "output_type": "display_data"
    },
    {
     "data": {
      "text/markdown": [
       "Sentiment of the context: POSITIVE (Score: 1.00)"
      ],
      "text/plain": [
       "<IPython.core.display.Markdown object>"
      ]
     },
     "metadata": {},
     "output_type": "display_data"
    },
    {
     "data": {
      "text/markdown": [
       "---"
      ],
      "text/plain": [
       "<IPython.core.display.Markdown object>"
      ]
     },
     "metadata": {},
     "output_type": "display_data"
    },
    {
     "data": {
      "text/markdown": [
       "56. Keyword found in: the next administration should make \n",
       "u.s. energy dominance a key component of its foreign policy while ensuring \n",
       "that domestic and international goals are **align**ed."
      ],
      "text/plain": [
       "<IPython.core.display.Markdown object>"
      ]
     },
     "metadata": {},
     "output_type": "display_data"
    },
    {
     "data": {
      "text/markdown": [
       "Sentiment of the context: POSITIVE (Score: 0.83)"
      ],
      "text/plain": [
       "<IPython.core.display.Markdown object>"
      ]
     },
     "metadata": {},
     "output_type": "display_data"
    },
    {
     "data": {
      "text/markdown": [
       "---"
      ],
      "text/plain": [
       "<IPython.core.display.Markdown object>"
      ]
     },
     "metadata": {},
     "output_type": "display_data"
    },
    {
     "data": {
      "text/markdown": [
       "57. Keyword found in: this goal can be achieved by re**align**ing the labs to limit \n",
       "duplication and mission creep and to maximize potential.\n",
       "\n",
       " "
      ],
      "text/plain": [
       "<IPython.core.display.Markdown object>"
      ]
     },
     "metadata": {},
     "output_type": "display_data"
    },
    {
     "data": {
      "text/markdown": [
       "Sentiment of the context: POSITIVE (Score: 0.99)"
      ],
      "text/plain": [
       "<IPython.core.display.Markdown object>"
      ]
     },
     "metadata": {},
     "output_type": "display_data"
    },
    {
     "data": {
      "text/markdown": [
       "---"
      ],
      "text/plain": [
       "<IPython.core.display.Markdown object>"
      ]
     },
     "metadata": {},
     "output_type": "display_data"
    },
    {
     "data": {
      "text/markdown": [
       "58. Keyword found in: it \n",
       "“focuses on enhancing global energy security through countering m**align** influence, \n",
       "diversifying supplies, and increasing energy access” and “is committed to increas-\n",
       "ing u.s. energy exports and trade to enhance growth.”"
      ],
      "text/plain": [
       "<IPython.core.display.Markdown object>"
      ]
     },
     "metadata": {},
     "output_type": "display_data"
    },
    {
     "data": {
      "text/markdown": [
       "Sentiment of the context: POSITIVE (Score: 0.99)"
      ],
      "text/plain": [
       "<IPython.core.display.Markdown object>"
      ]
     },
     "metadata": {},
     "output_type": "display_data"
    },
    {
     "data": {
      "text/markdown": [
       "---"
      ],
      "text/plain": [
       "<IPython.core.display.Markdown object>"
      ]
     },
     "metadata": {},
     "output_type": "display_data"
    },
    {
     "data": {
      "text/markdown": [
       "59. Keyword found in: fixing nuclear waste management will require wholesale reform that \n",
       "re**align**s responsibilities, resets incentives, and introduces market forces \n",
       "without creating chaos within the current nuclear industry that has been \n",
       "built around the current system.\n",
       "\n",
       " "
      ],
      "text/plain": [
       "<IPython.core.display.Markdown object>"
      ]
     },
     "metadata": {},
     "output_type": "display_data"
    },
    {
     "data": {
      "text/markdown": [
       "Sentiment of the context: POSITIVE (Score: 0.99)"
      ],
      "text/plain": [
       "<IPython.core.display.Markdown object>"
      ]
     },
     "metadata": {},
     "output_type": "display_data"
    },
    {
     "data": {
      "text/markdown": [
       "---"
      ],
      "text/plain": [
       "<IPython.core.display.Markdown object>"
      ]
     },
     "metadata": {},
     "output_type": "display_data"
    },
    {
     "data": {
      "text/markdown": [
       "60. Keyword found in: further, the \n",
       "epa needs to be re**align**ed away from attempts to make it an all-powerful energy \n",
       "and land use policymaker and returned to its congressionally sanctioned role as \n",
       "environmental regulator.\n",
       "\n"
      ],
      "text/plain": [
       "<IPython.core.display.Markdown object>"
      ]
     },
     "metadata": {},
     "output_type": "display_data"
    },
    {
     "data": {
      "text/markdown": [
       "Sentiment of the context: NEGATIVE (Score: 0.99)"
      ],
      "text/plain": [
       "<IPython.core.display.Markdown object>"
      ]
     },
     "metadata": {},
     "output_type": "display_data"
    },
    {
     "data": {
      "text/markdown": [
       "---"
      ],
      "text/plain": [
       "<IPython.core.display.Markdown object>"
      ]
     },
     "metadata": {},
     "output_type": "display_data"
    },
    {
     "data": {
      "text/markdown": [
       "61. Keyword found in: many epa \n",
       "actions in liberal administrations have simply ignored the will of congress, **align**-\n",
       "ing instead with the goals and wants of politically connected activists.\n",
       "\n"
      ],
      "text/plain": [
       "<IPython.core.display.Markdown object>"
      ]
     },
     "metadata": {},
     "output_type": "display_data"
    },
    {
     "data": {
      "text/markdown": [
       "Sentiment of the context: NEGATIVE (Score: 1.00)"
      ],
      "text/plain": [
       "<IPython.core.display.Markdown object>"
      ]
     },
     "metadata": {},
     "output_type": "display_data"
    },
    {
     "data": {
      "text/markdown": [
       "---"
      ],
      "text/plain": [
       "<IPython.core.display.Markdown object>"
      ]
     },
     "metadata": {},
     "output_type": "display_data"
    },
    {
     "data": {
      "text/markdown": [
       "1. Keyword found in: radiation\n",
       "\n",
       " l assess and update the agency’s radiation standards so that they **align** with \n",
       "those of other agencies, including the nuclear regulatory commission, \n",
       "department of energy, and department of transportation, as well as \n",
       "international standards.\n",
       "\n",
       " "
      ],
      "text/plain": [
       "<IPython.core.display.Markdown object>"
      ]
     },
     "metadata": {},
     "output_type": "display_data"
    },
    {
     "data": {
      "text/markdown": [
       "Sentiment of the context: POSITIVE (Score: 0.99)"
      ],
      "text/plain": [
       "<IPython.core.display.Markdown object>"
      ]
     },
     "metadata": {},
     "output_type": "display_data"
    },
    {
     "data": {
      "text/markdown": [
       "---"
      ],
      "text/plain": [
       "<IPython.core.display.Markdown object>"
      ]
     },
     "metadata": {},
     "output_type": "display_data"
    },
    {
     "data": {
      "text/markdown": [
       "2. Keyword found in: new policies\n",
       "\n",
       "review  travel  and  reimbursement  policies  for  best  practices  **align**ed  for \n",
       "\n",
       "industry norms.\n",
       "\n"
      ],
      "text/plain": [
       "<IPython.core.display.Markdown object>"
      ]
     },
     "metadata": {},
     "output_type": "display_data"
    },
    {
     "data": {
      "text/markdown": [
       "Sentiment of the context: POSITIVE (Score: 0.94)"
      ],
      "text/plain": [
       "<IPython.core.display.Markdown object>"
      ]
     },
     "metadata": {},
     "output_type": "display_data"
    },
    {
     "data": {
      "text/markdown": [
       "---"
      ],
      "text/plain": [
       "<IPython.core.display.Markdown object>"
      ]
     },
     "metadata": {},
     "output_type": "display_data"
    },
    {
     "data": {
      "text/markdown": [
       "3. Keyword found in: conclusion\n",
       "\n",
       "a more conservative epa that **align**s with the policies outlined in this chapter \n",
       "will lead to a better environmental future without unintended consequences."
      ],
      "text/plain": [
       "<IPython.core.display.Markdown object>"
      ]
     },
     "metadata": {},
     "output_type": "display_data"
    },
    {
     "data": {
      "text/markdown": [
       "Sentiment of the context: POSITIVE (Score: 0.99)"
      ],
      "text/plain": [
       "<IPython.core.display.Markdown object>"
      ]
     },
     "metadata": {},
     "output_type": "display_data"
    },
    {
     "data": {
      "text/markdown": [
       "---"
      ],
      "text/plain": [
       "<IPython.core.display.Markdown object>"
      ]
     },
     "metadata": {},
     "output_type": "display_data"
    },
    {
     "data": {
      "text/markdown": [
       "4. Keyword found in: l hud political leadership should immediately assign all delegated powers \n",
       "to politically appointed pdas, das, and other office leadership positions; \n",
       "change any current career leadership positions into political and non-career \n",
       "appointment positions; and use senior executive service (ses) transfers to \n",
       "install motivated and **align**ed leadership.\n",
       "\n",
       " "
      ],
      "text/plain": [
       "<IPython.core.display.Markdown object>"
      ]
     },
     "metadata": {},
     "output_type": "display_data"
    },
    {
     "data": {
      "text/markdown": [
       "Sentiment of the context: NEGATIVE (Score: 0.99)"
      ],
      "text/plain": [
       "<IPython.core.display.Markdown object>"
      ]
     },
     "metadata": {},
     "output_type": "display_data"
    },
    {
     "data": {
      "text/markdown": [
       "---"
      ],
      "text/plain": [
       "<IPython.core.display.Markdown object>"
      ]
     },
     "metadata": {},
     "output_type": "display_data"
    },
    {
     "data": {
      "text/markdown": [
       "5. Keyword found in: hud reforms must also ensure \n",
       "**align**ment with reforms implemented by other federal agencies where \n",
       "immigration status impacts public programs, certainly to include any \n",
       "reforms in the public charge regulatory framework administered by the u.s. \n",
       "department of homeland security (dhs)."
      ],
      "text/plain": [
       "<IPython.core.display.Markdown object>"
      ]
     },
     "metadata": {},
     "output_type": "display_data"
    },
    {
     "data": {
      "text/markdown": [
       "Sentiment of the context: NEGATIVE (Score: 0.76)"
      ],
      "text/plain": [
       "<IPython.core.display.Markdown object>"
      ]
     },
     "metadata": {},
     "output_type": "display_data"
    },
    {
     "data": {
      "text/markdown": [
       "---"
      ],
      "text/plain": [
       "<IPython.core.display.Markdown object>"
      ]
     },
     "metadata": {},
     "output_type": "display_data"
    },
    {
     "data": {
      "text/markdown": [
       "6. Keyword found in: l the as or pdas for the office of policy development and research should \n",
       "suspend all external research and evaluation grants in the office of policy \n",
       "development and research and end or re**align** to another office any \n",
       "functions that are not involved in the collection and use of data and survey \n",
       "administration functions and do not facilitate the execution of regulatory \n",
       "impact analysis studies.\n",
       "\n"
      ],
      "text/plain": [
       "<IPython.core.display.Markdown object>"
      ]
     },
     "metadata": {},
     "output_type": "display_data"
    },
    {
     "data": {
      "text/markdown": [
       "Sentiment of the context: NEGATIVE (Score: 1.00)"
      ],
      "text/plain": [
       "<IPython.core.display.Markdown object>"
      ]
     },
     "metadata": {},
     "output_type": "display_data"
    },
    {
     "data": {
      "text/markdown": [
       "---"
      ],
      "text/plain": [
       "<IPython.core.display.Markdown object>"
      ]
     },
     "metadata": {},
     "output_type": "display_data"
    },
    {
     "data": {
      "text/markdown": [
       "7. Keyword found in: biden is “**align**ing the management of…public lands and waters…to support \n",
       "robust climate action,” as envisioned in executive orders 14008 and 13990.13 one of \n",
       "his first actions was to ban federal coal, oil, and natural gas leasing on federal lands \n",
       "and waters to fulfill his campaign promise of “no federal oil,” followed by actions \n",
       "from interior secretary deb haaland to rescind the trump administration’s \n",
       "energy dominance agenda."
      ],
      "text/plain": [
       "<IPython.core.display.Markdown object>"
      ]
     },
     "metadata": {},
     "output_type": "display_data"
    },
    {
     "data": {
      "text/markdown": [
       "Sentiment of the context: POSITIVE (Score: 0.92)"
      ],
      "text/plain": [
       "<IPython.core.display.Markdown object>"
      ]
     },
     "metadata": {},
     "output_type": "display_data"
    },
    {
     "data": {
      "text/markdown": [
       "---"
      ],
      "text/plain": [
       "<IPython.core.display.Markdown object>"
      ]
     },
     "metadata": {},
     "output_type": "display_data"
    },
    {
     "name": "stderr",
     "output_type": "stream",
     "text": [
      "Token indices sequence length is longer than the specified maximum sequence length for this model (518 > 512). Running this sequence through the model will result in indexing errors\n"
     ]
    },
    {
     "ename": "RuntimeError",
     "evalue": "The size of tensor a (518) must match the size of tensor b (512) at non-singleton dimension 1",
     "output_type": "error",
     "traceback": [
      "\u001b[1;31m---------------------------------------------------------------------------\u001b[0m",
      "\u001b[1;31mRuntimeError\u001b[0m                              Traceback (most recent call last)",
      "Cell \u001b[1;32mIn[5], line 5\u001b[0m\n\u001b[0;32m      2\u001b[0m keyword \u001b[38;5;241m=\u001b[39m \u001b[38;5;124m\"\u001b[39m\u001b[38;5;124malign\u001b[39m\u001b[38;5;124m\"\u001b[39m\n\u001b[0;32m      4\u001b[0m \u001b[38;5;28;01mfor\u001b[39;00m chunk \u001b[38;5;129;01min\u001b[39;00m process_in_chunks(text):\n\u001b[1;32m----> 5\u001b[0m     find_keyword_and_analyze_context(chunk, keyword)\n",
      "Cell \u001b[1;32mIn[3], line 41\u001b[0m, in \u001b[0;36mfind_keyword_and_analyze_context\u001b[1;34m(doc, keyword)\u001b[0m\n\u001b[0;32m     38\u001b[0m highlighted_text \u001b[38;5;241m=\u001b[39m re\u001b[38;5;241m.\u001b[39msub(\u001b[38;5;124mf\u001b[39m\u001b[38;5;124m'\u001b[39m\u001b[38;5;124m(\u001b[39m\u001b[38;5;132;01m{\u001b[39;00mkeyword\u001b[38;5;132;01m}\u001b[39;00m\u001b[38;5;124m)\u001b[39m\u001b[38;5;124m'\u001b[39m, \u001b[38;5;124mr\u001b[39m\u001b[38;5;124m'\u001b[39m\u001b[38;5;124m**\u001b[39m\u001b[38;5;124m\\\u001b[39m\u001b[38;5;124m1**\u001b[39m\u001b[38;5;124m'\u001b[39m, sent\u001b[38;5;241m.\u001b[39mtext, flags\u001b[38;5;241m=\u001b[39mre\u001b[38;5;241m.\u001b[39mIGNORECASE)\n\u001b[0;32m     40\u001b[0m \u001b[38;5;66;03m# Analyze the sentiment of the context\u001b[39;00m\n\u001b[1;32m---> 41\u001b[0m sentiment_results \u001b[38;5;241m=\u001b[39m analyze_sentiment(sent\u001b[38;5;241m.\u001b[39mtext)  \u001b[38;5;66;03m# This may return a list of results\u001b[39;00m\n\u001b[0;32m     43\u001b[0m \u001b[38;5;66;03m# Assuming the first result in the list is the one we want\u001b[39;00m\n\u001b[0;32m     44\u001b[0m \u001b[38;5;28;01mif\u001b[39;00m sentiment_results:\n",
      "Cell \u001b[1;32mIn[3], line 25\u001b[0m, in \u001b[0;36manalyze_sentiment\u001b[1;34m(text)\u001b[0m\n\u001b[0;32m     23\u001b[0m \u001b[38;5;28;01mdef\u001b[39;00m \u001b[38;5;21manalyze_sentiment\u001b[39m(text):\n\u001b[0;32m     24\u001b[0m     \u001b[38;5;66;03m# Perform sentiment analysis\u001b[39;00m\n\u001b[1;32m---> 25\u001b[0m     result \u001b[38;5;241m=\u001b[39m sentiment_pipeline(text)\n\u001b[0;32m     26\u001b[0m     \u001b[38;5;28;01mreturn\u001b[39;00m result\n",
      "File \u001b[1;32m~\\anaconda3\\Lib\\site-packages\\transformers\\pipelines\\text_classification.py:156\u001b[0m, in \u001b[0;36mTextClassificationPipeline.__call__\u001b[1;34m(self, inputs, **kwargs)\u001b[0m\n\u001b[0;32m    122\u001b[0m \u001b[38;5;250m\u001b[39m\u001b[38;5;124;03m\"\"\"\u001b[39;00m\n\u001b[0;32m    123\u001b[0m \u001b[38;5;124;03mClassify the text(s) given as inputs.\u001b[39;00m\n\u001b[0;32m    124\u001b[0m \n\u001b[1;32m   (...)\u001b[0m\n\u001b[0;32m    153\u001b[0m \u001b[38;5;124;03m    If `top_k` is used, one such dictionary is returned per label.\u001b[39;00m\n\u001b[0;32m    154\u001b[0m \u001b[38;5;124;03m\"\"\"\u001b[39;00m\n\u001b[0;32m    155\u001b[0m inputs \u001b[38;5;241m=\u001b[39m (inputs,)\n\u001b[1;32m--> 156\u001b[0m result \u001b[38;5;241m=\u001b[39m \u001b[38;5;28msuper\u001b[39m()\u001b[38;5;241m.\u001b[39m\u001b[38;5;21m__call__\u001b[39m(\u001b[38;5;241m*\u001b[39minputs, \u001b[38;5;241m*\u001b[39m\u001b[38;5;241m*\u001b[39mkwargs)\n\u001b[0;32m    157\u001b[0m \u001b[38;5;66;03m# TODO try and retrieve it in a nicer way from _sanitize_parameters.\u001b[39;00m\n\u001b[0;32m    158\u001b[0m _legacy \u001b[38;5;241m=\u001b[39m \u001b[38;5;124m\"\u001b[39m\u001b[38;5;124mtop_k\u001b[39m\u001b[38;5;124m\"\u001b[39m \u001b[38;5;129;01mnot\u001b[39;00m \u001b[38;5;129;01min\u001b[39;00m kwargs\n",
      "File \u001b[1;32m~\\anaconda3\\Lib\\site-packages\\transformers\\pipelines\\base.py:1206\u001b[0m, in \u001b[0;36mPipeline.__call__\u001b[1;34m(self, inputs, num_workers, batch_size, *args, **kwargs)\u001b[0m\n\u001b[0;32m   1198\u001b[0m     \u001b[38;5;28;01mreturn\u001b[39;00m \u001b[38;5;28mnext\u001b[39m(\n\u001b[0;32m   1199\u001b[0m         \u001b[38;5;28miter\u001b[39m(\n\u001b[0;32m   1200\u001b[0m             \u001b[38;5;28mself\u001b[39m\u001b[38;5;241m.\u001b[39mget_iterator(\n\u001b[1;32m   (...)\u001b[0m\n\u001b[0;32m   1203\u001b[0m         )\n\u001b[0;32m   1204\u001b[0m     )\n\u001b[0;32m   1205\u001b[0m \u001b[38;5;28;01melse\u001b[39;00m:\n\u001b[1;32m-> 1206\u001b[0m     \u001b[38;5;28;01mreturn\u001b[39;00m \u001b[38;5;28mself\u001b[39m\u001b[38;5;241m.\u001b[39mrun_single(inputs, preprocess_params, forward_params, postprocess_params)\n",
      "File \u001b[1;32m~\\anaconda3\\Lib\\site-packages\\transformers\\pipelines\\base.py:1213\u001b[0m, in \u001b[0;36mPipeline.run_single\u001b[1;34m(self, inputs, preprocess_params, forward_params, postprocess_params)\u001b[0m\n\u001b[0;32m   1211\u001b[0m \u001b[38;5;28;01mdef\u001b[39;00m \u001b[38;5;21mrun_single\u001b[39m(\u001b[38;5;28mself\u001b[39m, inputs, preprocess_params, forward_params, postprocess_params):\n\u001b[0;32m   1212\u001b[0m     model_inputs \u001b[38;5;241m=\u001b[39m \u001b[38;5;28mself\u001b[39m\u001b[38;5;241m.\u001b[39mpreprocess(inputs, \u001b[38;5;241m*\u001b[39m\u001b[38;5;241m*\u001b[39mpreprocess_params)\n\u001b[1;32m-> 1213\u001b[0m     model_outputs \u001b[38;5;241m=\u001b[39m \u001b[38;5;28mself\u001b[39m\u001b[38;5;241m.\u001b[39mforward(model_inputs, \u001b[38;5;241m*\u001b[39m\u001b[38;5;241m*\u001b[39mforward_params)\n\u001b[0;32m   1214\u001b[0m     outputs \u001b[38;5;241m=\u001b[39m \u001b[38;5;28mself\u001b[39m\u001b[38;5;241m.\u001b[39mpostprocess(model_outputs, \u001b[38;5;241m*\u001b[39m\u001b[38;5;241m*\u001b[39mpostprocess_params)\n\u001b[0;32m   1215\u001b[0m     \u001b[38;5;28;01mreturn\u001b[39;00m outputs\n",
      "File \u001b[1;32m~\\anaconda3\\Lib\\site-packages\\transformers\\pipelines\\base.py:1112\u001b[0m, in \u001b[0;36mPipeline.forward\u001b[1;34m(self, model_inputs, **forward_params)\u001b[0m\n\u001b[0;32m   1110\u001b[0m     \u001b[38;5;28;01mwith\u001b[39;00m inference_context():\n\u001b[0;32m   1111\u001b[0m         model_inputs \u001b[38;5;241m=\u001b[39m \u001b[38;5;28mself\u001b[39m\u001b[38;5;241m.\u001b[39m_ensure_tensor_on_device(model_inputs, device\u001b[38;5;241m=\u001b[39m\u001b[38;5;28mself\u001b[39m\u001b[38;5;241m.\u001b[39mdevice)\n\u001b[1;32m-> 1112\u001b[0m         model_outputs \u001b[38;5;241m=\u001b[39m \u001b[38;5;28mself\u001b[39m\u001b[38;5;241m.\u001b[39m_forward(model_inputs, \u001b[38;5;241m*\u001b[39m\u001b[38;5;241m*\u001b[39mforward_params)\n\u001b[0;32m   1113\u001b[0m         model_outputs \u001b[38;5;241m=\u001b[39m \u001b[38;5;28mself\u001b[39m\u001b[38;5;241m.\u001b[39m_ensure_tensor_on_device(model_outputs, device\u001b[38;5;241m=\u001b[39mtorch\u001b[38;5;241m.\u001b[39mdevice(\u001b[38;5;124m\"\u001b[39m\u001b[38;5;124mcpu\u001b[39m\u001b[38;5;124m\"\u001b[39m))\n\u001b[0;32m   1114\u001b[0m \u001b[38;5;28;01melse\u001b[39;00m:\n",
      "File \u001b[1;32m~\\anaconda3\\Lib\\site-packages\\transformers\\pipelines\\text_classification.py:187\u001b[0m, in \u001b[0;36mTextClassificationPipeline._forward\u001b[1;34m(self, model_inputs)\u001b[0m\n\u001b[0;32m    185\u001b[0m \u001b[38;5;28;01mif\u001b[39;00m \u001b[38;5;124m\"\u001b[39m\u001b[38;5;124muse_cache\u001b[39m\u001b[38;5;124m\"\u001b[39m \u001b[38;5;129;01min\u001b[39;00m inspect\u001b[38;5;241m.\u001b[39msignature(model_forward)\u001b[38;5;241m.\u001b[39mparameters\u001b[38;5;241m.\u001b[39mkeys():\n\u001b[0;32m    186\u001b[0m     model_inputs[\u001b[38;5;124m\"\u001b[39m\u001b[38;5;124muse_cache\u001b[39m\u001b[38;5;124m\"\u001b[39m] \u001b[38;5;241m=\u001b[39m \u001b[38;5;28;01mFalse\u001b[39;00m\n\u001b[1;32m--> 187\u001b[0m \u001b[38;5;28;01mreturn\u001b[39;00m \u001b[38;5;28mself\u001b[39m\u001b[38;5;241m.\u001b[39mmodel(\u001b[38;5;241m*\u001b[39m\u001b[38;5;241m*\u001b[39mmodel_inputs)\n",
      "File \u001b[1;32m~\\anaconda3\\Lib\\site-packages\\torch\\nn\\modules\\module.py:1511\u001b[0m, in \u001b[0;36mModule._wrapped_call_impl\u001b[1;34m(self, *args, **kwargs)\u001b[0m\n\u001b[0;32m   1509\u001b[0m     \u001b[38;5;28;01mreturn\u001b[39;00m \u001b[38;5;28mself\u001b[39m\u001b[38;5;241m.\u001b[39m_compiled_call_impl(\u001b[38;5;241m*\u001b[39margs, \u001b[38;5;241m*\u001b[39m\u001b[38;5;241m*\u001b[39mkwargs)  \u001b[38;5;66;03m# type: ignore[misc]\u001b[39;00m\n\u001b[0;32m   1510\u001b[0m \u001b[38;5;28;01melse\u001b[39;00m:\n\u001b[1;32m-> 1511\u001b[0m     \u001b[38;5;28;01mreturn\u001b[39;00m \u001b[38;5;28mself\u001b[39m\u001b[38;5;241m.\u001b[39m_call_impl(\u001b[38;5;241m*\u001b[39margs, \u001b[38;5;241m*\u001b[39m\u001b[38;5;241m*\u001b[39mkwargs)\n",
      "File \u001b[1;32m~\\anaconda3\\Lib\\site-packages\\torch\\nn\\modules\\module.py:1520\u001b[0m, in \u001b[0;36mModule._call_impl\u001b[1;34m(self, *args, **kwargs)\u001b[0m\n\u001b[0;32m   1515\u001b[0m \u001b[38;5;66;03m# If we don't have any hooks, we want to skip the rest of the logic in\u001b[39;00m\n\u001b[0;32m   1516\u001b[0m \u001b[38;5;66;03m# this function, and just call forward.\u001b[39;00m\n\u001b[0;32m   1517\u001b[0m \u001b[38;5;28;01mif\u001b[39;00m \u001b[38;5;129;01mnot\u001b[39;00m (\u001b[38;5;28mself\u001b[39m\u001b[38;5;241m.\u001b[39m_backward_hooks \u001b[38;5;129;01mor\u001b[39;00m \u001b[38;5;28mself\u001b[39m\u001b[38;5;241m.\u001b[39m_backward_pre_hooks \u001b[38;5;129;01mor\u001b[39;00m \u001b[38;5;28mself\u001b[39m\u001b[38;5;241m.\u001b[39m_forward_hooks \u001b[38;5;129;01mor\u001b[39;00m \u001b[38;5;28mself\u001b[39m\u001b[38;5;241m.\u001b[39m_forward_pre_hooks\n\u001b[0;32m   1518\u001b[0m         \u001b[38;5;129;01mor\u001b[39;00m _global_backward_pre_hooks \u001b[38;5;129;01mor\u001b[39;00m _global_backward_hooks\n\u001b[0;32m   1519\u001b[0m         \u001b[38;5;129;01mor\u001b[39;00m _global_forward_hooks \u001b[38;5;129;01mor\u001b[39;00m _global_forward_pre_hooks):\n\u001b[1;32m-> 1520\u001b[0m     \u001b[38;5;28;01mreturn\u001b[39;00m forward_call(\u001b[38;5;241m*\u001b[39margs, \u001b[38;5;241m*\u001b[39m\u001b[38;5;241m*\u001b[39mkwargs)\n\u001b[0;32m   1522\u001b[0m \u001b[38;5;28;01mtry\u001b[39;00m:\n\u001b[0;32m   1523\u001b[0m     result \u001b[38;5;241m=\u001b[39m \u001b[38;5;28;01mNone\u001b[39;00m\n",
      "File \u001b[1;32m~\\anaconda3\\Lib\\site-packages\\transformers\\models\\distilbert\\modeling_distilbert.py:1002\u001b[0m, in \u001b[0;36mDistilBertForSequenceClassification.forward\u001b[1;34m(self, input_ids, attention_mask, head_mask, inputs_embeds, labels, output_attentions, output_hidden_states, return_dict)\u001b[0m\n\u001b[0;32m    994\u001b[0m \u001b[38;5;250m\u001b[39m\u001b[38;5;124mr\u001b[39m\u001b[38;5;124;03m\"\"\"\u001b[39;00m\n\u001b[0;32m    995\u001b[0m \u001b[38;5;124;03mlabels (`torch.LongTensor` of shape `(batch_size,)`, *optional*):\u001b[39;00m\n\u001b[0;32m    996\u001b[0m \u001b[38;5;124;03m    Labels for computing the sequence classification/regression loss. Indices should be in `[0, ...,\u001b[39;00m\n\u001b[0;32m    997\u001b[0m \u001b[38;5;124;03m    config.num_labels - 1]`. If `config.num_labels == 1` a regression loss is computed (Mean-Square loss), If\u001b[39;00m\n\u001b[0;32m    998\u001b[0m \u001b[38;5;124;03m    `config.num_labels > 1` a classification loss is computed (Cross-Entropy).\u001b[39;00m\n\u001b[0;32m    999\u001b[0m \u001b[38;5;124;03m\"\"\"\u001b[39;00m\n\u001b[0;32m   1000\u001b[0m return_dict \u001b[38;5;241m=\u001b[39m return_dict \u001b[38;5;28;01mif\u001b[39;00m return_dict \u001b[38;5;129;01mis\u001b[39;00m \u001b[38;5;129;01mnot\u001b[39;00m \u001b[38;5;28;01mNone\u001b[39;00m \u001b[38;5;28;01melse\u001b[39;00m \u001b[38;5;28mself\u001b[39m\u001b[38;5;241m.\u001b[39mconfig\u001b[38;5;241m.\u001b[39muse_return_dict\n\u001b[1;32m-> 1002\u001b[0m distilbert_output \u001b[38;5;241m=\u001b[39m \u001b[38;5;28mself\u001b[39m\u001b[38;5;241m.\u001b[39mdistilbert(\n\u001b[0;32m   1003\u001b[0m     input_ids\u001b[38;5;241m=\u001b[39minput_ids,\n\u001b[0;32m   1004\u001b[0m     attention_mask\u001b[38;5;241m=\u001b[39mattention_mask,\n\u001b[0;32m   1005\u001b[0m     head_mask\u001b[38;5;241m=\u001b[39mhead_mask,\n\u001b[0;32m   1006\u001b[0m     inputs_embeds\u001b[38;5;241m=\u001b[39minputs_embeds,\n\u001b[0;32m   1007\u001b[0m     output_attentions\u001b[38;5;241m=\u001b[39moutput_attentions,\n\u001b[0;32m   1008\u001b[0m     output_hidden_states\u001b[38;5;241m=\u001b[39moutput_hidden_states,\n\u001b[0;32m   1009\u001b[0m     return_dict\u001b[38;5;241m=\u001b[39mreturn_dict,\n\u001b[0;32m   1010\u001b[0m )\n\u001b[0;32m   1011\u001b[0m hidden_state \u001b[38;5;241m=\u001b[39m distilbert_output[\u001b[38;5;241m0\u001b[39m]  \u001b[38;5;66;03m# (bs, seq_len, dim)\u001b[39;00m\n\u001b[0;32m   1012\u001b[0m pooled_output \u001b[38;5;241m=\u001b[39m hidden_state[:, \u001b[38;5;241m0\u001b[39m]  \u001b[38;5;66;03m# (bs, dim)\u001b[39;00m\n",
      "File \u001b[1;32m~\\anaconda3\\Lib\\site-packages\\torch\\nn\\modules\\module.py:1511\u001b[0m, in \u001b[0;36mModule._wrapped_call_impl\u001b[1;34m(self, *args, **kwargs)\u001b[0m\n\u001b[0;32m   1509\u001b[0m     \u001b[38;5;28;01mreturn\u001b[39;00m \u001b[38;5;28mself\u001b[39m\u001b[38;5;241m.\u001b[39m_compiled_call_impl(\u001b[38;5;241m*\u001b[39margs, \u001b[38;5;241m*\u001b[39m\u001b[38;5;241m*\u001b[39mkwargs)  \u001b[38;5;66;03m# type: ignore[misc]\u001b[39;00m\n\u001b[0;32m   1510\u001b[0m \u001b[38;5;28;01melse\u001b[39;00m:\n\u001b[1;32m-> 1511\u001b[0m     \u001b[38;5;28;01mreturn\u001b[39;00m \u001b[38;5;28mself\u001b[39m\u001b[38;5;241m.\u001b[39m_call_impl(\u001b[38;5;241m*\u001b[39margs, \u001b[38;5;241m*\u001b[39m\u001b[38;5;241m*\u001b[39mkwargs)\n",
      "File \u001b[1;32m~\\anaconda3\\Lib\\site-packages\\torch\\nn\\modules\\module.py:1520\u001b[0m, in \u001b[0;36mModule._call_impl\u001b[1;34m(self, *args, **kwargs)\u001b[0m\n\u001b[0;32m   1515\u001b[0m \u001b[38;5;66;03m# If we don't have any hooks, we want to skip the rest of the logic in\u001b[39;00m\n\u001b[0;32m   1516\u001b[0m \u001b[38;5;66;03m# this function, and just call forward.\u001b[39;00m\n\u001b[0;32m   1517\u001b[0m \u001b[38;5;28;01mif\u001b[39;00m \u001b[38;5;129;01mnot\u001b[39;00m (\u001b[38;5;28mself\u001b[39m\u001b[38;5;241m.\u001b[39m_backward_hooks \u001b[38;5;129;01mor\u001b[39;00m \u001b[38;5;28mself\u001b[39m\u001b[38;5;241m.\u001b[39m_backward_pre_hooks \u001b[38;5;129;01mor\u001b[39;00m \u001b[38;5;28mself\u001b[39m\u001b[38;5;241m.\u001b[39m_forward_hooks \u001b[38;5;129;01mor\u001b[39;00m \u001b[38;5;28mself\u001b[39m\u001b[38;5;241m.\u001b[39m_forward_pre_hooks\n\u001b[0;32m   1518\u001b[0m         \u001b[38;5;129;01mor\u001b[39;00m _global_backward_pre_hooks \u001b[38;5;129;01mor\u001b[39;00m _global_backward_hooks\n\u001b[0;32m   1519\u001b[0m         \u001b[38;5;129;01mor\u001b[39;00m _global_forward_hooks \u001b[38;5;129;01mor\u001b[39;00m _global_forward_pre_hooks):\n\u001b[1;32m-> 1520\u001b[0m     \u001b[38;5;28;01mreturn\u001b[39;00m forward_call(\u001b[38;5;241m*\u001b[39margs, \u001b[38;5;241m*\u001b[39m\u001b[38;5;241m*\u001b[39mkwargs)\n\u001b[0;32m   1522\u001b[0m \u001b[38;5;28;01mtry\u001b[39;00m:\n\u001b[0;32m   1523\u001b[0m     result \u001b[38;5;241m=\u001b[39m \u001b[38;5;28;01mNone\u001b[39;00m\n",
      "File \u001b[1;32m~\\anaconda3\\Lib\\site-packages\\transformers\\models\\distilbert\\modeling_distilbert.py:814\u001b[0m, in \u001b[0;36mDistilBertModel.forward\u001b[1;34m(self, input_ids, attention_mask, head_mask, inputs_embeds, output_attentions, output_hidden_states, return_dict)\u001b[0m\n\u001b[0;32m    811\u001b[0m \u001b[38;5;66;03m# Prepare head mask if needed\u001b[39;00m\n\u001b[0;32m    812\u001b[0m head_mask \u001b[38;5;241m=\u001b[39m \u001b[38;5;28mself\u001b[39m\u001b[38;5;241m.\u001b[39mget_head_mask(head_mask, \u001b[38;5;28mself\u001b[39m\u001b[38;5;241m.\u001b[39mconfig\u001b[38;5;241m.\u001b[39mnum_hidden_layers)\n\u001b[1;32m--> 814\u001b[0m embeddings \u001b[38;5;241m=\u001b[39m \u001b[38;5;28mself\u001b[39m\u001b[38;5;241m.\u001b[39membeddings(input_ids, inputs_embeds)  \u001b[38;5;66;03m# (bs, seq_length, dim)\u001b[39;00m\n\u001b[0;32m    816\u001b[0m \u001b[38;5;28;01mif\u001b[39;00m \u001b[38;5;28mself\u001b[39m\u001b[38;5;241m.\u001b[39m_use_flash_attention_2:\n\u001b[0;32m    817\u001b[0m     attention_mask \u001b[38;5;241m=\u001b[39m attention_mask \u001b[38;5;28;01mif\u001b[39;00m (attention_mask \u001b[38;5;129;01mis\u001b[39;00m \u001b[38;5;129;01mnot\u001b[39;00m \u001b[38;5;28;01mNone\u001b[39;00m \u001b[38;5;129;01mand\u001b[39;00m \u001b[38;5;241m0\u001b[39m \u001b[38;5;129;01min\u001b[39;00m attention_mask) \u001b[38;5;28;01melse\u001b[39;00m \u001b[38;5;28;01mNone\u001b[39;00m\n",
      "File \u001b[1;32m~\\anaconda3\\Lib\\site-packages\\torch\\nn\\modules\\module.py:1511\u001b[0m, in \u001b[0;36mModule._wrapped_call_impl\u001b[1;34m(self, *args, **kwargs)\u001b[0m\n\u001b[0;32m   1509\u001b[0m     \u001b[38;5;28;01mreturn\u001b[39;00m \u001b[38;5;28mself\u001b[39m\u001b[38;5;241m.\u001b[39m_compiled_call_impl(\u001b[38;5;241m*\u001b[39margs, \u001b[38;5;241m*\u001b[39m\u001b[38;5;241m*\u001b[39mkwargs)  \u001b[38;5;66;03m# type: ignore[misc]\u001b[39;00m\n\u001b[0;32m   1510\u001b[0m \u001b[38;5;28;01melse\u001b[39;00m:\n\u001b[1;32m-> 1511\u001b[0m     \u001b[38;5;28;01mreturn\u001b[39;00m \u001b[38;5;28mself\u001b[39m\u001b[38;5;241m.\u001b[39m_call_impl(\u001b[38;5;241m*\u001b[39margs, \u001b[38;5;241m*\u001b[39m\u001b[38;5;241m*\u001b[39mkwargs)\n",
      "File \u001b[1;32m~\\anaconda3\\Lib\\site-packages\\torch\\nn\\modules\\module.py:1520\u001b[0m, in \u001b[0;36mModule._call_impl\u001b[1;34m(self, *args, **kwargs)\u001b[0m\n\u001b[0;32m   1515\u001b[0m \u001b[38;5;66;03m# If we don't have any hooks, we want to skip the rest of the logic in\u001b[39;00m\n\u001b[0;32m   1516\u001b[0m \u001b[38;5;66;03m# this function, and just call forward.\u001b[39;00m\n\u001b[0;32m   1517\u001b[0m \u001b[38;5;28;01mif\u001b[39;00m \u001b[38;5;129;01mnot\u001b[39;00m (\u001b[38;5;28mself\u001b[39m\u001b[38;5;241m.\u001b[39m_backward_hooks \u001b[38;5;129;01mor\u001b[39;00m \u001b[38;5;28mself\u001b[39m\u001b[38;5;241m.\u001b[39m_backward_pre_hooks \u001b[38;5;129;01mor\u001b[39;00m \u001b[38;5;28mself\u001b[39m\u001b[38;5;241m.\u001b[39m_forward_hooks \u001b[38;5;129;01mor\u001b[39;00m \u001b[38;5;28mself\u001b[39m\u001b[38;5;241m.\u001b[39m_forward_pre_hooks\n\u001b[0;32m   1518\u001b[0m         \u001b[38;5;129;01mor\u001b[39;00m _global_backward_pre_hooks \u001b[38;5;129;01mor\u001b[39;00m _global_backward_hooks\n\u001b[0;32m   1519\u001b[0m         \u001b[38;5;129;01mor\u001b[39;00m _global_forward_hooks \u001b[38;5;129;01mor\u001b[39;00m _global_forward_pre_hooks):\n\u001b[1;32m-> 1520\u001b[0m     \u001b[38;5;28;01mreturn\u001b[39;00m forward_call(\u001b[38;5;241m*\u001b[39margs, \u001b[38;5;241m*\u001b[39m\u001b[38;5;241m*\u001b[39mkwargs)\n\u001b[0;32m   1522\u001b[0m \u001b[38;5;28;01mtry\u001b[39;00m:\n\u001b[0;32m   1523\u001b[0m     result \u001b[38;5;241m=\u001b[39m \u001b[38;5;28;01mNone\u001b[39;00m\n",
      "File \u001b[1;32m~\\anaconda3\\Lib\\site-packages\\transformers\\models\\distilbert\\modeling_distilbert.py:156\u001b[0m, in \u001b[0;36mEmbeddings.forward\u001b[1;34m(self, input_ids, input_embeds)\u001b[0m\n\u001b[0;32m    152\u001b[0m     position_ids \u001b[38;5;241m=\u001b[39m position_ids\u001b[38;5;241m.\u001b[39munsqueeze(\u001b[38;5;241m0\u001b[39m)\u001b[38;5;241m.\u001b[39mexpand_as(input_ids)  \u001b[38;5;66;03m# (bs, max_seq_length)\u001b[39;00m\n\u001b[0;32m    154\u001b[0m position_embeddings \u001b[38;5;241m=\u001b[39m \u001b[38;5;28mself\u001b[39m\u001b[38;5;241m.\u001b[39mposition_embeddings(position_ids)  \u001b[38;5;66;03m# (bs, max_seq_length, dim)\u001b[39;00m\n\u001b[1;32m--> 156\u001b[0m embeddings \u001b[38;5;241m=\u001b[39m input_embeds \u001b[38;5;241m+\u001b[39m position_embeddings  \u001b[38;5;66;03m# (bs, max_seq_length, dim)\u001b[39;00m\n\u001b[0;32m    157\u001b[0m embeddings \u001b[38;5;241m=\u001b[39m \u001b[38;5;28mself\u001b[39m\u001b[38;5;241m.\u001b[39mLayerNorm(embeddings)  \u001b[38;5;66;03m# (bs, max_seq_length, dim)\u001b[39;00m\n\u001b[0;32m    158\u001b[0m embeddings \u001b[38;5;241m=\u001b[39m \u001b[38;5;28mself\u001b[39m\u001b[38;5;241m.\u001b[39mdropout(embeddings)  \u001b[38;5;66;03m# (bs, max_seq_length, dim)\u001b[39;00m\n",
      "\u001b[1;31mRuntimeError\u001b[0m: The size of tensor a (518) must match the size of tensor b (512) at non-singleton dimension 1"
     ]
    }
   ],
   "source": [
    "# Insert your keyword here to get a list of the context of the word and what the sentiment of the keyword context is\n",
    "keyword = \"align\"\n",
    "\n",
    "for chunk in process_in_chunks(text):\n",
    "    find_keyword_and_analyze_context(chunk, keyword)"
   ]
  }
 ],
 "metadata": {
  "kernelspec": {
   "display_name": "Python 3 (ipykernel)",
   "language": "python",
   "name": "python3"
  },
  "language_info": {
   "codemirror_mode": {
    "name": "ipython",
    "version": 3
   },
   "file_extension": ".py",
   "mimetype": "text/x-python",
   "name": "python",
   "nbconvert_exporter": "python",
   "pygments_lexer": "ipython3",
   "version": "3.11.7"
  }
 },
 "nbformat": 4,
 "nbformat_minor": 5
}
